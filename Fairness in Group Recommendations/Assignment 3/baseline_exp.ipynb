{
 "cells": [
  {
   "cell_type": "code",
   "execution_count": 1,
   "metadata": {},
   "outputs": [],
   "source": [
    "import numpy as np\n",
    "import pandas as pd\n",
    "\n",
    "from dataset_processing import split_dataset, get_starting_dataset, enrich_dataset, get_movie_map\n",
    "from similarity import pearson_similarity\n",
    "from predict import prediction_function\n",
    "from group import alpha_hybrid_aggregation\n",
    "from evaluate import user_satisfaction\n",
    "\n",
    "from datetime import datetime"
   ]
  },
  {
   "cell_type": "code",
   "execution_count": 2,
   "metadata": {},
   "outputs": [],
   "source": [
    "NUM_ITERATIONS = 5\n",
    "MAX_NEIGHBORS = 75      # ~ 3*np.sqrt(num_users)\n",
    "MAX_RECOMMENDATIONS = 10"
   ]
  },
  {
   "cell_type": "code",
   "execution_count": 3,
   "metadata": {},
   "outputs": [],
   "source": [
    "movie_map = get_movie_map()"
   ]
  },
  {
   "cell_type": "code",
   "execution_count": 4,
   "metadata": {},
   "outputs": [],
   "source": [
    "# GROUPS\n",
    "# \"Clique\" = [493, 26, 57] -> each Similarity between two Users is > 0.5\n",
    "# \"Couple & 3rd Wheel\" = [69, 234, 224] -> sim(69, 234) > 0.5, sim(69, 224) < -0.5, sim(234, 224) < -0.5\n",
    "# \"Strangers\" = [437, 329, 73] -> each Similarity between two Users is < -0.5"
   ]
  },
  {
   "cell_type": "code",
   "execution_count": 43,
   "metadata": {},
   "outputs": [],
   "source": [
    "group = [437, 329, 73]"
   ]
  },
  {
   "cell_type": "code",
   "execution_count": 56,
   "metadata": {},
   "outputs": [],
   "source": [
    "it_counter = 1\n",
    "alpha = 0\n",
    "df_user_sat = pd.DataFrame(index=group, columns=[\"It1\", \"It2\", \"It3\", \"It4\", \"It5\"])\n",
    "df_user_satO = pd.DataFrame(index=group, columns=[\"It1\", \"It2\", \"It3\", \"It4\", \"It5\"])\n",
    "group_disagreements = list()"
   ]
  },
  {
   "cell_type": "code",
   "execution_count": 57,
   "metadata": {},
   "outputs": [
    {
     "name": "stdout",
     "output_type": "stream",
     "text": [
      "ITERATION: 1 -> ALPHA = 0\n",
      "\n",
      "First Step: Compute Similarities of each User of the Group\n",
      "Second Step: Neighborhood Building\n",
      "Third Step: Predictions for Each User\n",
      "Fourth Step: Group Recommendation\n",
      "Fifth Step: Evaluation\n",
      "Group Satisfaction Overall: 0.7899387966072635\n",
      "Group Disagreement Overall: 0.12493190288979572\n",
      "END OF ITERATION 1 - Elapsed Time: 0:00:34.003683\n",
      "\n",
      "ITERATION: 2 -> ALPHA = 0.12493190288979572\n",
      "\n",
      "First Step: Compute Similarities of each User of the Group\n",
      "Second Step: Neighborhood Building\n",
      "Third Step: Predictions for Each User\n",
      "Fourth Step: Group Recommendation\n",
      "Fifth Step: Evaluation\n",
      "Group Satisfaction Overall: 0.7908784616550517\n",
      "Group Disagreement Overall: 0.10393383014396584\n",
      "END OF ITERATION 2 - Elapsed Time: 0:00:29.202167\n",
      "\n",
      "ITERATION: 3 -> ALPHA = 0.08293575739813608\n",
      "\n",
      "First Step: Compute Similarities of each User of the Group\n",
      "Second Step: Neighborhood Building\n",
      "Third Step: Predictions for Each User\n",
      "Fourth Step: Group Recommendation\n",
      "Fifth Step: Evaluation\n",
      "Group Satisfaction Overall: 0.7928469864432591\n",
      "Group Disagreement Overall: 0.11469923474483879\n",
      "END OF ITERATION 3 - Elapsed Time: 0:00:29.251028\n",
      "\n",
      "ITERATION: 4 -> ALPHA = 0.13623004394658467\n",
      "\n",
      "First Step: Compute Similarities of each User of the Group\n",
      "Second Step: Neighborhood Building\n",
      "Third Step: Predictions for Each User\n",
      "Fourth Step: Group Recommendation\n",
      "Fifth Step: Evaluation\n",
      "Group Satisfaction Overall: 0.7877293441631782\n",
      "Group Disagreement Overall: 0.12672474390949973\n",
      "END OF ITERATION 4 - Elapsed Time: 0:00:29.260998\n",
      "\n",
      "ITERATION: 5 -> ALPHA = 0.16280127140348244\n",
      "\n",
      "First Step: Compute Similarities of each User of the Group\n",
      "Second Step: Neighborhood Building\n",
      "Third Step: Predictions for Each User\n",
      "Fourth Step: Group Recommendation\n",
      "Fifth Step: Evaluation\n",
      "Group Satisfaction Overall: 0.7885303521929156\n",
      "Group Disagreement Overall: 0.14027673295774545\n",
      "END OF ITERATION 5 - Elapsed Time: 0:00:29.205138\n",
      "\n"
     ]
    }
   ],
   "source": [
    "while it_counter < 6:\n",
    "    print(f\"ITERATION: {it_counter}\" + \" -> ALPHA = \" + str(alpha) + \"\\n\")\n",
    "    start = datetime.now()\n",
    "\n",
    "    if it_counter == 1:\n",
    "        first_half, chunks = split_dataset(NUM_ITERATIONS, 111)\n",
    "        matrix = get_starting_dataset(first_half)\n",
    "    else:\n",
    "        matrix = enrich_dataset(matrix, chunks[it_counter-2])\n",
    "\n",
    "    # Compute Similarities\n",
    "    print(\"First Step: Compute Similarities of each User of the Group\")\n",
    "    list_of_similarities = list()\n",
    "    for user in group:\n",
    "        dictionary = dict()\n",
    "\n",
    "        other_users = [u for u in matrix.index if u != user]\n",
    "        for u in other_users:\n",
    "            dictionary[u] = pearson_similarity(matrix, user, u)\n",
    "        list_of_similarities.append(dictionary)\n",
    "    \n",
    "    # Neighborhood (75) Building\n",
    "    print(\"Second Step: Neighborhood Building\")\n",
    "    for i in range(0, len(list_of_similarities)):\n",
    "        similarities = list_of_similarities.pop(i)\n",
    "        similarities = {k: v for k, v in sorted(similarities.items(), key=lambda item: item[1], reverse=True)}\n",
    "        similarities = dict(list(similarities.items())[:MAX_NEIGHBORS])\n",
    "        list_of_similarities.insert(i, similarities)\n",
    "    \n",
    "    # Predictions for Each User\n",
    "    print(\"Third Step: Predictions for Each User\")\n",
    "    list_of_scores = list()\n",
    "\n",
    "    for i in range(0, len(group)):\n",
    "        scores = prediction_function(matrix, group[i], list_of_similarities[i], matrix.shape[1])\n",
    "        list_of_scores.append(scores)\n",
    "    \n",
    "    # Group Recommendation\n",
    "    print(\"Fourth Step: Group Recommendation\")\n",
    "    score_matrix = alpha_hybrid_aggregation(alpha, list_of_scores)\n",
    "\n",
    "    # Evaluation: Group Satisfaction & Group Disagreements\n",
    "    print(\"Fifth Step: Evaluation\")\n",
    "    for i, user in enumerate(group):\n",
    "        sat = user_satisfaction(score_matrix, list_of_scores[i])\n",
    "        df_user_sat.at[user, f\"It{it_counter}\"] = sat\n",
    "        df_user_satO.at[user, f\"It{it_counter}\"] = np.mean(df_user_sat.loc[user])\n",
    "        # print(f\"User {user} -> Satisfaction: {sat:.5f}\")\n",
    "    \n",
    "    group_satO = np.sum(df_user_satO[f'It{it_counter}'])/3\n",
    "    print(\"Group Satisfaction Overall: \" + str(group_satO))\n",
    "\n",
    "    group_dis = np.max(df_user_satO[f'It{it_counter}']) - np.min(df_user_satO[f'It{it_counter}'])\n",
    "    group_disagreements.append(group_dis)\n",
    "    print(\"Group Disagreement Overall: \" + str(group_dis))\n",
    "\n",
    "    # Getting ready for the Next Iteration\n",
    "    alpha = np.max(df_user_sat[f\"It{it_counter}\"]) - np.min(df_user_sat[f\"It{it_counter}\"])\n",
    "\n",
    "    end = datetime.now()\n",
    "    print(f\"END OF ITERATION {it_counter} - Elapsed Time: {end-start}\" + \"\\n\")\n",
    "\n",
    "    it_counter += 1"
   ]
  },
  {
   "cell_type": "markdown",
   "metadata": {},
   "source": [
    "# First Execution (seed == 24) Outcomes"
   ]
  },
  {
   "cell_type": "code",
   "execution_count": 46,
   "metadata": {},
   "outputs": [
    {
     "data": {
      "text/html": [
       "<div>\n",
       "<style scoped>\n",
       "    .dataframe tbody tr th:only-of-type {\n",
       "        vertical-align: middle;\n",
       "    }\n",
       "\n",
       "    .dataframe tbody tr th {\n",
       "        vertical-align: top;\n",
       "    }\n",
       "\n",
       "    .dataframe thead th {\n",
       "        text-align: right;\n",
       "    }\n",
       "</style>\n",
       "<table border=\"1\" class=\"dataframe\">\n",
       "  <thead>\n",
       "    <tr style=\"text-align: right;\">\n",
       "      <th></th>\n",
       "      <th>It1</th>\n",
       "      <th>It2</th>\n",
       "      <th>It3</th>\n",
       "      <th>It4</th>\n",
       "      <th>It5</th>\n",
       "    </tr>\n",
       "  </thead>\n",
       "  <tbody>\n",
       "    <tr>\n",
       "      <th>437</th>\n",
       "      <td>0.928552</td>\n",
       "      <td>0.860843</td>\n",
       "      <td>0.899323</td>\n",
       "      <td>0.855591</td>\n",
       "      <td>0.926059</td>\n",
       "    </tr>\n",
       "    <tr>\n",
       "      <th>329</th>\n",
       "      <td>0.814799</td>\n",
       "      <td>0.825848</td>\n",
       "      <td>0.667802</td>\n",
       "      <td>0.747851</td>\n",
       "      <td>0.731574</td>\n",
       "    </tr>\n",
       "    <tr>\n",
       "      <th>73</th>\n",
       "      <td>0.897134</td>\n",
       "      <td>0.833874</td>\n",
       "      <td>0.911623</td>\n",
       "      <td>0.848346</td>\n",
       "      <td>0.717571</td>\n",
       "    </tr>\n",
       "  </tbody>\n",
       "</table>\n",
       "</div>"
      ],
      "text/plain": [
       "          It1       It2       It3       It4       It5\n",
       "437  0.928552  0.860843  0.899323  0.855591  0.926059\n",
       "329  0.814799  0.825848  0.667802  0.747851  0.731574\n",
       "73   0.897134  0.833874  0.911623  0.848346  0.717571"
      ]
     },
     "execution_count": 46,
     "metadata": {},
     "output_type": "execute_result"
    }
   ],
   "source": [
    "# User Satisfaction\n",
    "df_user_sat"
   ]
  },
  {
   "cell_type": "code",
   "execution_count": 47,
   "metadata": {},
   "outputs": [
    {
     "data": {
      "text/html": [
       "<div>\n",
       "<style scoped>\n",
       "    .dataframe tbody tr th:only-of-type {\n",
       "        vertical-align: middle;\n",
       "    }\n",
       "\n",
       "    .dataframe tbody tr th {\n",
       "        vertical-align: top;\n",
       "    }\n",
       "\n",
       "    .dataframe thead th {\n",
       "        text-align: right;\n",
       "    }\n",
       "</style>\n",
       "<table border=\"1\" class=\"dataframe\">\n",
       "  <thead>\n",
       "    <tr style=\"text-align: right;\">\n",
       "      <th></th>\n",
       "      <th>It1</th>\n",
       "      <th>It2</th>\n",
       "      <th>It3</th>\n",
       "      <th>It4</th>\n",
       "      <th>It5</th>\n",
       "    </tr>\n",
       "  </thead>\n",
       "  <tbody>\n",
       "    <tr>\n",
       "      <th>437</th>\n",
       "      <td>0.928552</td>\n",
       "      <td>0.894697</td>\n",
       "      <td>0.896239</td>\n",
       "      <td>0.886077</td>\n",
       "      <td>0.894073</td>\n",
       "    </tr>\n",
       "    <tr>\n",
       "      <th>329</th>\n",
       "      <td>0.814799</td>\n",
       "      <td>0.820324</td>\n",
       "      <td>0.769483</td>\n",
       "      <td>0.764075</td>\n",
       "      <td>0.757575</td>\n",
       "    </tr>\n",
       "    <tr>\n",
       "      <th>73</th>\n",
       "      <td>0.897134</td>\n",
       "      <td>0.865504</td>\n",
       "      <td>0.880877</td>\n",
       "      <td>0.872744</td>\n",
       "      <td>0.84171</td>\n",
       "    </tr>\n",
       "  </tbody>\n",
       "</table>\n",
       "</div>"
      ],
      "text/plain": [
       "          It1       It2       It3       It4       It5\n",
       "437  0.928552  0.894697  0.896239  0.886077  0.894073\n",
       "329  0.814799  0.820324  0.769483  0.764075  0.757575\n",
       "73   0.897134  0.865504  0.880877  0.872744   0.84171"
      ]
     },
     "execution_count": 47,
     "metadata": {},
     "output_type": "execute_result"
    }
   ],
   "source": [
    "# Overall User Satisfaction\n",
    "df_user_satO"
   ]
  },
  {
   "cell_type": "code",
   "execution_count": 48,
   "metadata": {},
   "outputs": [
    {
     "data": {
      "text/plain": [
       "It1    0.880162\n",
       "It2    0.860175\n",
       "It3    0.848866\n",
       "It4    0.840965\n",
       "It5    0.831119\n",
       "dtype: object"
      ]
     },
     "execution_count": 48,
     "metadata": {},
     "output_type": "execute_result"
    }
   ],
   "source": [
    "# Overall Group Satisfaction -> Group Satisfaction = np.mean(User Satisfactions)\n",
    "df_user_satO.mean()"
   ]
  },
  {
   "cell_type": "code",
   "execution_count": 49,
   "metadata": {},
   "outputs": [
    {
     "data": {
      "text/plain": [
       "[0.11375288068555445,\n",
       " 0.07437379966480062,\n",
       " 0.12675623183656803,\n",
       " 0.12200209339290824,\n",
       " 0.13649861254447226]"
      ]
     },
     "execution_count": 49,
     "metadata": {},
     "output_type": "execute_result"
    }
   ],
   "source": [
    "# Group Disagreements\n",
    "group_disagreements"
   ]
  },
  {
   "cell_type": "markdown",
   "metadata": {},
   "source": [
    "# Second Execution (seed == 8) Outcomes"
   ]
  },
  {
   "cell_type": "code",
   "execution_count": 52,
   "metadata": {},
   "outputs": [
    {
     "data": {
      "text/html": [
       "<div>\n",
       "<style scoped>\n",
       "    .dataframe tbody tr th:only-of-type {\n",
       "        vertical-align: middle;\n",
       "    }\n",
       "\n",
       "    .dataframe tbody tr th {\n",
       "        vertical-align: top;\n",
       "    }\n",
       "\n",
       "    .dataframe thead th {\n",
       "        text-align: right;\n",
       "    }\n",
       "</style>\n",
       "<table border=\"1\" class=\"dataframe\">\n",
       "  <thead>\n",
       "    <tr style=\"text-align: right;\">\n",
       "      <th></th>\n",
       "      <th>It1</th>\n",
       "      <th>It2</th>\n",
       "      <th>It3</th>\n",
       "      <th>It4</th>\n",
       "      <th>It5</th>\n",
       "    </tr>\n",
       "  </thead>\n",
       "  <tbody>\n",
       "    <tr>\n",
       "      <th>437</th>\n",
       "      <td>0.854957</td>\n",
       "      <td>0.747312</td>\n",
       "      <td>0.826147</td>\n",
       "      <td>0.820023</td>\n",
       "      <td>0.926059</td>\n",
       "    </tr>\n",
       "    <tr>\n",
       "      <th>329</th>\n",
       "      <td>0.750762</td>\n",
       "      <td>0.78681</td>\n",
       "      <td>0.713108</td>\n",
       "      <td>0.678346</td>\n",
       "      <td>0.731574</td>\n",
       "    </tr>\n",
       "    <tr>\n",
       "      <th>73</th>\n",
       "      <td>0.834453</td>\n",
       "      <td>0.854222</td>\n",
       "      <td>0.770919</td>\n",
       "      <td>0.775883</td>\n",
       "      <td>0.717571</td>\n",
       "    </tr>\n",
       "  </tbody>\n",
       "</table>\n",
       "</div>"
      ],
      "text/plain": [
       "          It1       It2       It3       It4       It5\n",
       "437  0.854957  0.747312  0.826147  0.820023  0.926059\n",
       "329  0.750762   0.78681  0.713108  0.678346  0.731574\n",
       "73   0.834453  0.854222  0.770919  0.775883  0.717571"
      ]
     },
     "execution_count": 52,
     "metadata": {},
     "output_type": "execute_result"
    }
   ],
   "source": [
    "df_user_sat"
   ]
  },
  {
   "cell_type": "code",
   "execution_count": 53,
   "metadata": {},
   "outputs": [
    {
     "data": {
      "text/html": [
       "<div>\n",
       "<style scoped>\n",
       "    .dataframe tbody tr th:only-of-type {\n",
       "        vertical-align: middle;\n",
       "    }\n",
       "\n",
       "    .dataframe tbody tr th {\n",
       "        vertical-align: top;\n",
       "    }\n",
       "\n",
       "    .dataframe thead th {\n",
       "        text-align: right;\n",
       "    }\n",
       "</style>\n",
       "<table border=\"1\" class=\"dataframe\">\n",
       "  <thead>\n",
       "    <tr style=\"text-align: right;\">\n",
       "      <th></th>\n",
       "      <th>It1</th>\n",
       "      <th>It2</th>\n",
       "      <th>It3</th>\n",
       "      <th>It4</th>\n",
       "      <th>It5</th>\n",
       "    </tr>\n",
       "  </thead>\n",
       "  <tbody>\n",
       "    <tr>\n",
       "      <th>437</th>\n",
       "      <td>0.854957</td>\n",
       "      <td>0.801134</td>\n",
       "      <td>0.809472</td>\n",
       "      <td>0.81211</td>\n",
       "      <td>0.834899</td>\n",
       "    </tr>\n",
       "    <tr>\n",
       "      <th>329</th>\n",
       "      <td>0.750762</td>\n",
       "      <td>0.768786</td>\n",
       "      <td>0.750227</td>\n",
       "      <td>0.732256</td>\n",
       "      <td>0.73212</td>\n",
       "    </tr>\n",
       "    <tr>\n",
       "      <th>73</th>\n",
       "      <td>0.834453</td>\n",
       "      <td>0.844337</td>\n",
       "      <td>0.819865</td>\n",
       "      <td>0.808869</td>\n",
       "      <td>0.79061</td>\n",
       "    </tr>\n",
       "  </tbody>\n",
       "</table>\n",
       "</div>"
      ],
      "text/plain": [
       "          It1       It2       It3       It4       It5\n",
       "437  0.854957  0.801134  0.809472   0.81211  0.834899\n",
       "329  0.750762  0.768786  0.750227  0.732256   0.73212\n",
       "73   0.834453  0.844337  0.819865  0.808869   0.79061"
      ]
     },
     "execution_count": 53,
     "metadata": {},
     "output_type": "execute_result"
    }
   ],
   "source": [
    "# Overall User Satisfaction\n",
    "df_user_satO"
   ]
  },
  {
   "cell_type": "code",
   "execution_count": 54,
   "metadata": {},
   "outputs": [
    {
     "data": {
      "text/plain": [
       "It1    0.813391\n",
       "It2    0.804753\n",
       "It3    0.793188\n",
       "It4    0.784412\n",
       "It5    0.785876\n",
       "dtype: object"
      ]
     },
     "execution_count": 54,
     "metadata": {},
     "output_type": "execute_result"
    }
   ],
   "source": [
    "# Overall Group Satisfaction -> Group Satisfaction = np.mean(User Satisfactions)\n",
    "df_user_satO.mean()"
   ]
  },
  {
   "cell_type": "code",
   "execution_count": 55,
   "metadata": {},
   "outputs": [
    {
     "data": {
      "text/plain": [
       "[0.10419490229152739,\n",
       " 0.07555141559551959,\n",
       " 0.06963791725207191,\n",
       " 0.07985327832116362,\n",
       " 0.1027795604870766]"
      ]
     },
     "execution_count": 55,
     "metadata": {},
     "output_type": "execute_result"
    }
   ],
   "source": [
    "# Group Disagreements\n",
    "group_disagreements"
   ]
  },
  {
   "cell_type": "markdown",
   "metadata": {},
   "source": [
    "# Third Execution (seed == 111) Outcomes"
   ]
  },
  {
   "cell_type": "code",
   "execution_count": 58,
   "metadata": {},
   "outputs": [
    {
     "data": {
      "text/html": [
       "<div>\n",
       "<style scoped>\n",
       "    .dataframe tbody tr th:only-of-type {\n",
       "        vertical-align: middle;\n",
       "    }\n",
       "\n",
       "    .dataframe tbody tr th {\n",
       "        vertical-align: top;\n",
       "    }\n",
       "\n",
       "    .dataframe thead th {\n",
       "        text-align: right;\n",
       "    }\n",
       "</style>\n",
       "<table border=\"1\" class=\"dataframe\">\n",
       "  <thead>\n",
       "    <tr style=\"text-align: right;\">\n",
       "      <th></th>\n",
       "      <th>It1</th>\n",
       "      <th>It2</th>\n",
       "      <th>It3</th>\n",
       "      <th>It4</th>\n",
       "      <th>It5</th>\n",
       "    </tr>\n",
       "  </thead>\n",
       "  <tbody>\n",
       "    <tr>\n",
       "      <th>437</th>\n",
       "      <td>0.836998</td>\n",
       "      <td>0.826653</td>\n",
       "      <td>0.87792</td>\n",
       "      <td>0.870483</td>\n",
       "      <td>0.926059</td>\n",
       "    </tr>\n",
       "    <tr>\n",
       "      <th>329</th>\n",
       "      <td>0.712067</td>\n",
       "      <td>0.743718</td>\n",
       "      <td>0.74169</td>\n",
       "      <td>0.707682</td>\n",
       "      <td>0.731574</td>\n",
       "    </tr>\n",
       "    <tr>\n",
       "      <th>73</th>\n",
       "      <td>0.820751</td>\n",
       "      <td>0.805084</td>\n",
       "      <td>0.770741</td>\n",
       "      <td>0.738964</td>\n",
       "      <td>0.717571</td>\n",
       "    </tr>\n",
       "  </tbody>\n",
       "</table>\n",
       "</div>"
      ],
      "text/plain": [
       "          It1       It2       It3       It4       It5\n",
       "437  0.836998  0.826653   0.87792  0.870483  0.926059\n",
       "329  0.712067  0.743718   0.74169  0.707682  0.731574\n",
       "73   0.820751  0.805084  0.770741  0.738964  0.717571"
      ]
     },
     "execution_count": 58,
     "metadata": {},
     "output_type": "execute_result"
    }
   ],
   "source": [
    "df_user_sat"
   ]
  },
  {
   "cell_type": "code",
   "execution_count": 59,
   "metadata": {},
   "outputs": [
    {
     "data": {
      "text/html": [
       "<div>\n",
       "<style scoped>\n",
       "    .dataframe tbody tr th:only-of-type {\n",
       "        vertical-align: middle;\n",
       "    }\n",
       "\n",
       "    .dataframe tbody tr th {\n",
       "        vertical-align: top;\n",
       "    }\n",
       "\n",
       "    .dataframe thead th {\n",
       "        text-align: right;\n",
       "    }\n",
       "</style>\n",
       "<table border=\"1\" class=\"dataframe\">\n",
       "  <thead>\n",
       "    <tr style=\"text-align: right;\">\n",
       "      <th></th>\n",
       "      <th>It1</th>\n",
       "      <th>It2</th>\n",
       "      <th>It3</th>\n",
       "      <th>It4</th>\n",
       "      <th>It5</th>\n",
       "    </tr>\n",
       "  </thead>\n",
       "  <tbody>\n",
       "    <tr>\n",
       "      <th>437</th>\n",
       "      <td>0.836998</td>\n",
       "      <td>0.831826</td>\n",
       "      <td>0.847191</td>\n",
       "      <td>0.853014</td>\n",
       "      <td>0.867623</td>\n",
       "    </tr>\n",
       "    <tr>\n",
       "      <th>329</th>\n",
       "      <td>0.712067</td>\n",
       "      <td>0.727892</td>\n",
       "      <td>0.732492</td>\n",
       "      <td>0.726289</td>\n",
       "      <td>0.727346</td>\n",
       "    </tr>\n",
       "    <tr>\n",
       "      <th>73</th>\n",
       "      <td>0.820751</td>\n",
       "      <td>0.812917</td>\n",
       "      <td>0.798859</td>\n",
       "      <td>0.783885</td>\n",
       "      <td>0.770622</td>\n",
       "    </tr>\n",
       "  </tbody>\n",
       "</table>\n",
       "</div>"
      ],
      "text/plain": [
       "          It1       It2       It3       It4       It5\n",
       "437  0.836998  0.831826  0.847191  0.853014  0.867623\n",
       "329  0.712067  0.727892  0.732492  0.726289  0.727346\n",
       "73   0.820751  0.812917  0.798859  0.783885  0.770622"
      ]
     },
     "execution_count": 59,
     "metadata": {},
     "output_type": "execute_result"
    }
   ],
   "source": [
    "# Overall User Satisfaction\n",
    "df_user_satO"
   ]
  },
  {
   "cell_type": "code",
   "execution_count": 60,
   "metadata": {},
   "outputs": [
    {
     "data": {
      "text/plain": [
       "It1    0.789939\n",
       "It2    0.790878\n",
       "It3    0.792847\n",
       "It4    0.787729\n",
       "It5     0.78853\n",
       "dtype: object"
      ]
     },
     "execution_count": 60,
     "metadata": {},
     "output_type": "execute_result"
    }
   ],
   "source": [
    "# Overall Group Satisfaction -> Group Satisfaction = np.mean(User Satisfactions)\n",
    "df_user_satO.mean()"
   ]
  },
  {
   "cell_type": "code",
   "execution_count": 61,
   "metadata": {},
   "outputs": [
    {
     "data": {
      "text/plain": [
       "[0.12493190288979572,\n",
       " 0.10393383014396584,\n",
       " 0.11469923474483879,\n",
       " 0.12672474390949973,\n",
       " 0.14027673295774545]"
      ]
     },
     "execution_count": 61,
     "metadata": {},
     "output_type": "execute_result"
    }
   ],
   "source": [
    "# Group Disagreements\n",
    "group_disagreements"
   ]
  }
 ],
 "metadata": {
  "kernelspec": {
   "display_name": "Python 3 (ipykernel)",
   "language": "python",
   "name": "python3"
  }
 },
 "nbformat": 4,
 "nbformat_minor": 2
}
