{
 "cells": [
  {
   "cell_type": "code",
   "execution_count": 1,
   "metadata": {},
   "outputs": [],
   "source": [
    "import numpy as np\n",
    "import pandas as pd\n",
    "\n",
    "from dataset_processing import split_dataset, get_starting_dataset, enrich_dataset, get_movie_map\n",
    "from similarity import pearson_similarity\n",
    "from predict import prediction_function\n",
    "from group import alpha_hybrid_aggregation\n",
    "from evaluate import user_satisfaction\n",
    "\n",
    "from datetime import datetime"
   ]
  },
  {
   "cell_type": "code",
   "execution_count": 2,
   "metadata": {},
   "outputs": [],
   "source": [
    "NUM_ITERATIONS = 5\n",
    "MAX_NEIGHBORS = 75      # ~ 3*np.sqrt(num_users)\n",
    "MAX_RECOMMENDATIONS = 10"
   ]
  },
  {
   "cell_type": "code",
   "execution_count": 3,
   "metadata": {},
   "outputs": [],
   "source": [
    "movie_map = get_movie_map()"
   ]
  },
  {
   "cell_type": "code",
   "execution_count": 4,
   "metadata": {},
   "outputs": [],
   "source": [
    "# GROUPS\n",
    "# \"Clique\" = [493, 26, 57] -> each Similarity between two Users is > 0.5\n",
    "# \"Couple & 3rd Wheel\" = [69, 234, 224] -> sim(69, 234) > 0.5, sim(69, 224) < -0.5, sim(234, 224) < -0.5\n",
    "# \"Strangers\" = [437, 329, 73] -> each Similarity between two Users is < -0.5"
   ]
  },
  {
   "cell_type": "code",
   "execution_count": 43,
   "metadata": {},
   "outputs": [],
   "source": [
    "group = [437, 329, 73]"
   ]
  },
  {
   "cell_type": "code",
   "execution_count": 56,
   "metadata": {},
   "outputs": [],
   "source": [
    "it_counter = 1\n",
    "alpha = 0\n",
    "df_user_sat = pd.DataFrame(index=group, columns=[\"It1\", \"It2\", \"It3\", \"It4\", \"It5\"])\n",
    "df_user_satO = pd.DataFrame(index=group, columns=[\"It1\", \"It2\", \"It3\", \"It4\", \"It5\"])\n",
    "group_disagreements = list()"
   ]
  },
  {
   "cell_type": "code",
   "execution_count": 57,
   "metadata": {},
   "outputs": [
    {
     "name": "stdout",
     "output_type": "stream",
     "text": [
      "ITERATION: 1 -> ALPHA = 0\n",
      "\n",
      "First Step: Compute Similarities of each User of the Group\n",
      "Second Step: Neighborhood Building\n",
      "Third Step: Predictions for Each User\n",
      "Fourth Step: Group Recommendation\n",
      "Fifth Step: Evaluation\n",
      "Group Satisfaction Overall: 0.8246767496514659\n",
      "Group Disagreement Overall: 0.24764010263980718\n",
      "END OF ITERATION 1 - Elapsed Time: 0:00:33.763409\n",
      "\n",
      "ITERATION: 2 -> ALPHA = 0.24764010263980718\n",
      "\n",
      "First Step: Compute Similarities of each User of the Group\n",
      "Second Step: Neighborhood Building\n",
      "Third Step: Predictions for Each User\n",
      "Fourth Step: Group Recommendation\n",
      "Fifth Step: Evaluation\n",
      "Group Satisfaction Overall: 0.8293730972734531\n",
      "Group Disagreement Overall: 0.21274058971099352\n",
      "END OF ITERATION 2 - Elapsed Time: 0:00:28.664128\n",
      "\n",
      "ITERATION: 3 -> ALPHA = 0.17784107678217975\n",
      "\n",
      "First Step: Compute Similarities of each User of the Group\n",
      "Second Step: Neighborhood Building\n",
      "Third Step: Predictions for Each User\n",
      "Fourth Step: Group Recommendation\n",
      "Fifth Step: Evaluation\n",
      "Group Satisfaction Overall: 0.830245786319681\n",
      "Group Disagreement Overall: 0.16796273348626722\n",
      "END OF ITERATION 3 - Elapsed Time: 0:00:28.706043\n",
      "\n",
      "ITERATION: 4 -> ALPHA = 0.07840702103681463\n",
      "\n",
      "First Step: Compute Similarities of each User of the Group\n",
      "Second Step: Neighborhood Building\n",
      "Third Step: Predictions for Each User\n",
      "Fourth Step: Group Recommendation\n",
      "Fifth Step: Evaluation\n",
      "Group Satisfaction Overall: 0.8169023350269117\n",
      "Group Disagreement Overall: 0.1563823506010671\n",
      "END OF ITERATION 4 - Elapsed Time: 0:00:29.068982\n",
      "\n",
      "ITERATION: 5 -> ALPHA = 0.12164120194546624\n",
      "\n",
      "First Step: Compute Similarities of each User of the Group\n",
      "Second Step: Neighborhood Building\n",
      "Third Step: Predictions for Each User\n",
      "Fourth Step: Group Recommendation\n",
      "Fifth Step: Evaluation\n",
      "Group Satisfaction Overall: 0.8118687448839023\n",
      "Group Disagreement Overall: 0.1640028183109994\n",
      "END OF ITERATION 5 - Elapsed Time: 0:00:29.336129\n",
      "\n"
     ]
    }
   ],
   "source": [
    "while it_counter < 6:\n",
    "    print(f\"ITERATION: {it_counter}\" + \" -> ALPHA = \" + str(alpha) + \"\\n\")\n",
    "    start = datetime.now()\n",
    "\n",
    "    if it_counter == 1:\n",
    "        first_half, chunks = split_dataset(NUM_ITERATIONS, 111)\n",
    "        matrix = get_starting_dataset(first_half)\n",
    "    else:\n",
    "        matrix = enrich_dataset(matrix, chunks[it_counter-2])\n",
    "\n",
    "    # Compute Similarities\n",
    "    print(\"First Step: Compute Similarities of each User of the Group\")\n",
    "    list_of_similarities = list()\n",
    "    for user in group:\n",
    "        dictionary = dict()\n",
    "\n",
    "        other_users = [u for u in matrix.index if u != user]\n",
    "        for u in other_users:\n",
    "            dictionary[u] = pearson_similarity(matrix, user, u)\n",
    "        list_of_similarities.append(dictionary)\n",
    "    \n",
    "    # Neighborhood (75) Building\n",
    "    print(\"Second Step: Neighborhood Building\")\n",
    "    for i in range(0, len(list_of_similarities)):\n",
    "        similarities = list_of_similarities.pop(i)\n",
    "        similarities = {k: v for k, v in sorted(similarities.items(), key=lambda item: item[1], reverse=True)}\n",
    "        similarities = dict(list(similarities.items())[:MAX_NEIGHBORS])\n",
    "        list_of_similarities.insert(i, similarities)\n",
    "    \n",
    "    # Predictions for Each User\n",
    "    print(\"Third Step: Predictions for Each User\")\n",
    "    list_of_scores = list()\n",
    "\n",
    "    for i in range(0, len(group)):\n",
    "        scores = prediction_function(matrix, group[i], list_of_similarities[i], matrix.shape[1])\n",
    "        list_of_scores.append(scores)\n",
    "    \n",
    "    # Group Recommendation\n",
    "    print(\"Fourth Step: Group Recommendation\")\n",
    "    score_matrix = alpha_hybrid_aggregation(alpha, list_of_scores)\n",
    "\n",
    "    # Evaluation: Group Satisfaction & Group Disagreements\n",
    "    print(\"Fifth Step: Evaluation\")\n",
    "    for i, user in enumerate(group):\n",
    "        sat = user_satisfaction(score_matrix, list_of_scores[i], MAX_RECOMMENDATIONS)\n",
    "        df_user_sat.at[user, f\"It{it_counter}\"] = sat\n",
    "        df_user_satO.at[user, f\"It{it_counter}\"] = np.mean(df_user_sat.loc[user])\n",
    "        # print(f\"User {user} -> Satisfaction: {sat:.5f}\")\n",
    "    \n",
    "    group_satO = np.sum(df_user_satO[f'It{it_counter}'])/3\n",
    "    print(\"Group Satisfaction Overall: \" + str(group_satO))\n",
    "\n",
    "    group_dis = np.max(df_user_satO[f'It{it_counter}']) - np.min(df_user_satO[f'It{it_counter}'])\n",
    "    group_disagreements.append(group_dis)\n",
    "    print(\"Group Disagreement Overall: \" + str(group_dis))\n",
    "\n",
    "    # Getting ready for the Next Iteration\n",
    "    alpha = np.max(df_user_sat[f\"It{it_counter}\"]) - np.min(df_user_sat[f\"It{it_counter}\"])\n",
    "\n",
    "    end = datetime.now()\n",
    "    print(f\"END OF ITERATION {it_counter} - Elapsed Time: {end-start}\" + \"\\n\")\n",
    "\n",
    "    it_counter += 1"
   ]
  },
  {
   "cell_type": "markdown",
   "metadata": {},
   "source": [
    "# First Execution (seed == 24) Outcomes"
   ]
  },
  {
   "cell_type": "code",
   "execution_count": 46,
   "metadata": {},
   "outputs": [
    {
     "data": {
      "text/html": [
       "<div>\n",
       "<style scoped>\n",
       "    .dataframe tbody tr th:only-of-type {\n",
       "        vertical-align: middle;\n",
       "    }\n",
       "\n",
       "    .dataframe tbody tr th {\n",
       "        vertical-align: top;\n",
       "    }\n",
       "\n",
       "    .dataframe thead th {\n",
       "        text-align: right;\n",
       "    }\n",
       "</style>\n",
       "<table border=\"1\" class=\"dataframe\">\n",
       "  <thead>\n",
       "    <tr style=\"text-align: right;\">\n",
       "      <th></th>\n",
       "      <th>It1</th>\n",
       "      <th>It2</th>\n",
       "      <th>It3</th>\n",
       "      <th>It4</th>\n",
       "      <th>It5</th>\n",
       "    </tr>\n",
       "  </thead>\n",
       "  <tbody>\n",
       "    <tr>\n",
       "      <th>437</th>\n",
       "      <td>0.875906</td>\n",
       "      <td>0.921854</td>\n",
       "      <td>0.887161</td>\n",
       "      <td>0.891412</td>\n",
       "      <td>0.926059</td>\n",
       "    </tr>\n",
       "    <tr>\n",
       "      <th>329</th>\n",
       "      <td>0.664571</td>\n",
       "      <td>0.73019</td>\n",
       "      <td>0.736653</td>\n",
       "      <td>0.753612</td>\n",
       "      <td>0.731574</td>\n",
       "    </tr>\n",
       "    <tr>\n",
       "      <th>73</th>\n",
       "      <td>0.877347</td>\n",
       "      <td>0.844455</td>\n",
       "      <td>0.77923</td>\n",
       "      <td>0.807649</td>\n",
       "      <td>0.717571</td>\n",
       "    </tr>\n",
       "  </tbody>\n",
       "</table>\n",
       "</div>"
      ],
      "text/plain": [
       "          It1       It2       It3       It4       It5\n",
       "437  0.875906  0.921854  0.887161  0.891412  0.926059\n",
       "329  0.664571   0.73019  0.736653  0.753612  0.731574\n",
       "73   0.877347  0.844455   0.77923  0.807649  0.717571"
      ]
     },
     "execution_count": 46,
     "metadata": {},
     "output_type": "execute_result"
    }
   ],
   "source": [
    "# User Satisfaction\n",
    "df_user_sat"
   ]
  },
  {
   "cell_type": "code",
   "execution_count": 47,
   "metadata": {},
   "outputs": [
    {
     "data": {
      "text/html": [
       "<div>\n",
       "<style scoped>\n",
       "    .dataframe tbody tr th:only-of-type {\n",
       "        vertical-align: middle;\n",
       "    }\n",
       "\n",
       "    .dataframe tbody tr th {\n",
       "        vertical-align: top;\n",
       "    }\n",
       "\n",
       "    .dataframe thead th {\n",
       "        text-align: right;\n",
       "    }\n",
       "</style>\n",
       "<table border=\"1\" class=\"dataframe\">\n",
       "  <thead>\n",
       "    <tr style=\"text-align: right;\">\n",
       "      <th></th>\n",
       "      <th>It1</th>\n",
       "      <th>It2</th>\n",
       "      <th>It3</th>\n",
       "      <th>It4</th>\n",
       "      <th>It5</th>\n",
       "    </tr>\n",
       "  </thead>\n",
       "  <tbody>\n",
       "    <tr>\n",
       "      <th>437</th>\n",
       "      <td>0.875906</td>\n",
       "      <td>0.89888</td>\n",
       "      <td>0.894974</td>\n",
       "      <td>0.894083</td>\n",
       "      <td>0.900478</td>\n",
       "    </tr>\n",
       "    <tr>\n",
       "      <th>329</th>\n",
       "      <td>0.664571</td>\n",
       "      <td>0.69738</td>\n",
       "      <td>0.710471</td>\n",
       "      <td>0.721257</td>\n",
       "      <td>0.72332</td>\n",
       "    </tr>\n",
       "    <tr>\n",
       "      <th>73</th>\n",
       "      <td>0.877347</td>\n",
       "      <td>0.860901</td>\n",
       "      <td>0.833678</td>\n",
       "      <td>0.82717</td>\n",
       "      <td>0.805251</td>\n",
       "    </tr>\n",
       "  </tbody>\n",
       "</table>\n",
       "</div>"
      ],
      "text/plain": [
       "          It1       It2       It3       It4       It5\n",
       "437  0.875906   0.89888  0.894974  0.894083  0.900478\n",
       "329  0.664571   0.69738  0.710471  0.721257   0.72332\n",
       "73   0.877347  0.860901  0.833678   0.82717  0.805251"
      ]
     },
     "execution_count": 47,
     "metadata": {},
     "output_type": "execute_result"
    }
   ],
   "source": [
    "# Overall User Satisfaction\n",
    "df_user_satO"
   ]
  },
  {
   "cell_type": "code",
   "execution_count": 48,
   "metadata": {},
   "outputs": [
    {
     "data": {
      "text/plain": [
       "It1    0.805942\n",
       "It2    0.819054\n",
       "It3    0.813041\n",
       "It4     0.81417\n",
       "It5    0.809683\n",
       "dtype: object"
      ]
     },
     "execution_count": 48,
     "metadata": {},
     "output_type": "execute_result"
    }
   ],
   "source": [
    "# Overall Group Satisfaction -> Group Satisfaction = np.mean(User Satisfactions)\n",
    "df_user_satO.mean()"
   ]
  },
  {
   "cell_type": "code",
   "execution_count": 49,
   "metadata": {},
   "outputs": [
    {
     "data": {
      "text/plain": [
       "[0.21277650448567753,\n",
       " 0.20149981850746668,\n",
       " 0.1845024101390086,\n",
       " 0.17282685717257695,\n",
       " 0.1771584235682072]"
      ]
     },
     "execution_count": 49,
     "metadata": {},
     "output_type": "execute_result"
    }
   ],
   "source": [
    "# Group Disagreements\n",
    "group_disagreements"
   ]
  },
  {
   "cell_type": "markdown",
   "metadata": {},
   "source": [
    "# Second Execution (seed == 8) Outcomes"
   ]
  },
  {
   "cell_type": "code",
   "execution_count": 52,
   "metadata": {},
   "outputs": [
    {
     "data": {
      "text/html": [
       "<div>\n",
       "<style scoped>\n",
       "    .dataframe tbody tr th:only-of-type {\n",
       "        vertical-align: middle;\n",
       "    }\n",
       "\n",
       "    .dataframe tbody tr th {\n",
       "        vertical-align: top;\n",
       "    }\n",
       "\n",
       "    .dataframe thead th {\n",
       "        text-align: right;\n",
       "    }\n",
       "</style>\n",
       "<table border=\"1\" class=\"dataframe\">\n",
       "  <thead>\n",
       "    <tr style=\"text-align: right;\">\n",
       "      <th></th>\n",
       "      <th>It1</th>\n",
       "      <th>It2</th>\n",
       "      <th>It3</th>\n",
       "      <th>It4</th>\n",
       "      <th>It5</th>\n",
       "    </tr>\n",
       "  </thead>\n",
       "  <tbody>\n",
       "    <tr>\n",
       "      <th>437</th>\n",
       "      <td>0.861564</td>\n",
       "      <td>0.868649</td>\n",
       "      <td>0.857059</td>\n",
       "      <td>0.816282</td>\n",
       "      <td>0.926059</td>\n",
       "    </tr>\n",
       "    <tr>\n",
       "      <th>329</th>\n",
       "      <td>0.813901</td>\n",
       "      <td>0.690504</td>\n",
       "      <td>0.745848</td>\n",
       "      <td>0.784172</td>\n",
       "      <td>0.731574</td>\n",
       "    </tr>\n",
       "    <tr>\n",
       "      <th>73</th>\n",
       "      <td>0.76823</td>\n",
       "      <td>0.793768</td>\n",
       "      <td>0.755636</td>\n",
       "      <td>0.775706</td>\n",
       "      <td>0.717571</td>\n",
       "    </tr>\n",
       "  </tbody>\n",
       "</table>\n",
       "</div>"
      ],
      "text/plain": [
       "          It1       It2       It3       It4       It5\n",
       "437  0.861564  0.868649  0.857059  0.816282  0.926059\n",
       "329  0.813901  0.690504  0.745848  0.784172  0.731574\n",
       "73    0.76823  0.793768  0.755636  0.775706  0.717571"
      ]
     },
     "execution_count": 52,
     "metadata": {},
     "output_type": "execute_result"
    }
   ],
   "source": [
    "df_user_sat"
   ]
  },
  {
   "cell_type": "code",
   "execution_count": 53,
   "metadata": {},
   "outputs": [
    {
     "data": {
      "text/html": [
       "<div>\n",
       "<style scoped>\n",
       "    .dataframe tbody tr th:only-of-type {\n",
       "        vertical-align: middle;\n",
       "    }\n",
       "\n",
       "    .dataframe tbody tr th {\n",
       "        vertical-align: top;\n",
       "    }\n",
       "\n",
       "    .dataframe thead th {\n",
       "        text-align: right;\n",
       "    }\n",
       "</style>\n",
       "<table border=\"1\" class=\"dataframe\">\n",
       "  <thead>\n",
       "    <tr style=\"text-align: right;\">\n",
       "      <th></th>\n",
       "      <th>It1</th>\n",
       "      <th>It2</th>\n",
       "      <th>It3</th>\n",
       "      <th>It4</th>\n",
       "      <th>It5</th>\n",
       "    </tr>\n",
       "  </thead>\n",
       "  <tbody>\n",
       "    <tr>\n",
       "      <th>437</th>\n",
       "      <td>0.861564</td>\n",
       "      <td>0.865106</td>\n",
       "      <td>0.862424</td>\n",
       "      <td>0.850889</td>\n",
       "      <td>0.865923</td>\n",
       "    </tr>\n",
       "    <tr>\n",
       "      <th>329</th>\n",
       "      <td>0.813901</td>\n",
       "      <td>0.752202</td>\n",
       "      <td>0.750084</td>\n",
       "      <td>0.758606</td>\n",
       "      <td>0.7532</td>\n",
       "    </tr>\n",
       "    <tr>\n",
       "      <th>73</th>\n",
       "      <td>0.76823</td>\n",
       "      <td>0.780999</td>\n",
       "      <td>0.772545</td>\n",
       "      <td>0.773335</td>\n",
       "      <td>0.762182</td>\n",
       "    </tr>\n",
       "  </tbody>\n",
       "</table>\n",
       "</div>"
      ],
      "text/plain": [
       "          It1       It2       It3       It4       It5\n",
       "437  0.861564  0.865106  0.862424  0.850889  0.865923\n",
       "329  0.813901  0.752202  0.750084  0.758606    0.7532\n",
       "73    0.76823  0.780999  0.772545  0.773335  0.762182"
      ]
     },
     "execution_count": 53,
     "metadata": {},
     "output_type": "execute_result"
    }
   ],
   "source": [
    "# Overall User Satisfaction\n",
    "df_user_satO"
   ]
  },
  {
   "cell_type": "code",
   "execution_count": 54,
   "metadata": {},
   "outputs": [
    {
     "data": {
      "text/plain": [
       "It1    0.814565\n",
       "It2    0.799436\n",
       "It3    0.795018\n",
       "It4    0.794277\n",
       "It5    0.793768\n",
       "dtype: object"
      ]
     },
     "execution_count": 54,
     "metadata": {},
     "output_type": "execute_result"
    }
   ],
   "source": [
    "# Overall Group Satisfaction -> Group Satisfaction = np.mean(User Satisfactions)\n",
    "df_user_satO.mean()"
   ]
  },
  {
   "cell_type": "code",
   "execution_count": 55,
   "metadata": {},
   "outputs": [
    {
     "data": {
      "text/plain": [
       "[0.09333375264390509,\n",
       " 0.11290397107211769,\n",
       " 0.11233960848813085,\n",
       " 0.09228226672191997,\n",
       " 0.1127227512076816]"
      ]
     },
     "execution_count": 55,
     "metadata": {},
     "output_type": "execute_result"
    }
   ],
   "source": [
    "# Group Disagreements\n",
    "group_disagreements"
   ]
  },
  {
   "cell_type": "markdown",
   "metadata": {},
   "source": [
    "# Third Execution (seed == 111) Outcomes"
   ]
  },
  {
   "cell_type": "code",
   "execution_count": 58,
   "metadata": {},
   "outputs": [
    {
     "data": {
      "text/html": [
       "<div>\n",
       "<style scoped>\n",
       "    .dataframe tbody tr th:only-of-type {\n",
       "        vertical-align: middle;\n",
       "    }\n",
       "\n",
       "    .dataframe tbody tr th {\n",
       "        vertical-align: top;\n",
       "    }\n",
       "\n",
       "    .dataframe thead th {\n",
       "        text-align: right;\n",
       "    }\n",
       "</style>\n",
       "<table border=\"1\" class=\"dataframe\">\n",
       "  <thead>\n",
       "    <tr style=\"text-align: right;\">\n",
       "      <th></th>\n",
       "      <th>It1</th>\n",
       "      <th>It2</th>\n",
       "      <th>It3</th>\n",
       "      <th>It4</th>\n",
       "      <th>It5</th>\n",
       "    </tr>\n",
       "  </thead>\n",
       "  <tbody>\n",
       "    <tr>\n",
       "      <th>437</th>\n",
       "      <td>0.920258</td>\n",
       "      <td>0.91953</td>\n",
       "      <td>0.864291</td>\n",
       "      <td>0.857955</td>\n",
       "      <td>0.926059</td>\n",
       "    </tr>\n",
       "    <tr>\n",
       "      <th>329</th>\n",
       "      <td>0.672618</td>\n",
       "      <td>0.741689</td>\n",
       "      <td>0.785884</td>\n",
       "      <td>0.736314</td>\n",
       "      <td>0.731574</td>\n",
       "    </tr>\n",
       "    <tr>\n",
       "      <th>73</th>\n",
       "      <td>0.881154</td>\n",
       "      <td>0.84099</td>\n",
       "      <td>0.845799</td>\n",
       "      <td>0.736347</td>\n",
       "      <td>0.717571</td>\n",
       "    </tr>\n",
       "  </tbody>\n",
       "</table>\n",
       "</div>"
      ],
      "text/plain": [
       "          It1       It2       It3       It4       It5\n",
       "437  0.920258   0.91953  0.864291  0.857955  0.926059\n",
       "329  0.672618  0.741689  0.785884  0.736314  0.731574\n",
       "73   0.881154   0.84099  0.845799  0.736347  0.717571"
      ]
     },
     "execution_count": 58,
     "metadata": {},
     "output_type": "execute_result"
    }
   ],
   "source": [
    "df_user_sat"
   ]
  },
  {
   "cell_type": "code",
   "execution_count": 59,
   "metadata": {},
   "outputs": [
    {
     "data": {
      "text/html": [
       "<div>\n",
       "<style scoped>\n",
       "    .dataframe tbody tr th:only-of-type {\n",
       "        vertical-align: middle;\n",
       "    }\n",
       "\n",
       "    .dataframe tbody tr th {\n",
       "        vertical-align: top;\n",
       "    }\n",
       "\n",
       "    .dataframe thead th {\n",
       "        text-align: right;\n",
       "    }\n",
       "</style>\n",
       "<table border=\"1\" class=\"dataframe\">\n",
       "  <thead>\n",
       "    <tr style=\"text-align: right;\">\n",
       "      <th></th>\n",
       "      <th>It1</th>\n",
       "      <th>It2</th>\n",
       "      <th>It3</th>\n",
       "      <th>It4</th>\n",
       "      <th>It5</th>\n",
       "    </tr>\n",
       "  </thead>\n",
       "  <tbody>\n",
       "    <tr>\n",
       "      <th>437</th>\n",
       "      <td>0.920258</td>\n",
       "      <td>0.919894</td>\n",
       "      <td>0.90136</td>\n",
       "      <td>0.890508</td>\n",
       "      <td>0.897618</td>\n",
       "    </tr>\n",
       "    <tr>\n",
       "      <th>329</th>\n",
       "      <td>0.672618</td>\n",
       "      <td>0.707153</td>\n",
       "      <td>0.733397</td>\n",
       "      <td>0.734126</td>\n",
       "      <td>0.733616</td>\n",
       "    </tr>\n",
       "    <tr>\n",
       "      <th>73</th>\n",
       "      <td>0.881154</td>\n",
       "      <td>0.861072</td>\n",
       "      <td>0.855981</td>\n",
       "      <td>0.826072</td>\n",
       "      <td>0.804372</td>\n",
       "    </tr>\n",
       "  </tbody>\n",
       "</table>\n",
       "</div>"
      ],
      "text/plain": [
       "          It1       It2       It3       It4       It5\n",
       "437  0.920258  0.919894   0.90136  0.890508  0.897618\n",
       "329  0.672618  0.707153  0.733397  0.734126  0.733616\n",
       "73   0.881154  0.861072  0.855981  0.826072  0.804372"
      ]
     },
     "execution_count": 59,
     "metadata": {},
     "output_type": "execute_result"
    }
   ],
   "source": [
    "# Overall User Satisfaction\n",
    "df_user_satO"
   ]
  },
  {
   "cell_type": "code",
   "execution_count": 60,
   "metadata": {},
   "outputs": [
    {
     "data": {
      "text/plain": [
       "It1    0.824677\n",
       "It2    0.829373\n",
       "It3    0.830246\n",
       "It4    0.816902\n",
       "It5    0.811869\n",
       "dtype: object"
      ]
     },
     "execution_count": 60,
     "metadata": {},
     "output_type": "execute_result"
    }
   ],
   "source": [
    "# Overall Group Satisfaction -> Group Satisfaction = np.mean(User Satisfactions)\n",
    "df_user_satO.mean()"
   ]
  },
  {
   "cell_type": "code",
   "execution_count": 61,
   "metadata": {},
   "outputs": [
    {
     "data": {
      "text/plain": [
       "[0.24764010263980718,\n",
       " 0.21274058971099352,\n",
       " 0.16796273348626722,\n",
       " 0.1563823506010671,\n",
       " 0.1640028183109994]"
      ]
     },
     "execution_count": 61,
     "metadata": {},
     "output_type": "execute_result"
    }
   ],
   "source": [
    "# Group Disagreements\n",
    "group_disagreements"
   ]
  }
 ],
 "metadata": {
  "kernelspec": {
   "display_name": "Python 3 (ipykernel)",
   "language": "python",
   "name": "python3"
  },
  "language_info": {
   "codemirror_mode": {
    "name": "ipython",
    "version": 3
   },
   "file_extension": ".py",
   "mimetype": "text/x-python",
   "name": "python",
   "nbconvert_exporter": "python",
   "pygments_lexer": "ipython3",
   "version": "3.10.13"
  }
 },
 "nbformat": 4,
 "nbformat_minor": 2
}
