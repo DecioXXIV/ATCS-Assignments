{
 "cells": [
  {
   "cell_type": "code",
   "execution_count": 1,
   "metadata": {},
   "outputs": [],
   "source": [
    "import numpy as np\n",
    "import pandas as pd\n",
    "\n",
    "from dataset_processing import split_dataset, get_starting_dataset, enrich_dataset, get_movie_map\n",
    "from similarity import pearson_similarity\n",
    "from predict import prediction_function\n",
    "from group import alpha_hybrid_aggregation, update_alpha_mom_disagreements\n",
    "from evaluate import user_satisfaction\n",
    "\n",
    "from datetime import datetime"
   ]
  },
  {
   "cell_type": "code",
   "execution_count": 2,
   "metadata": {},
   "outputs": [],
   "source": [
    "NUM_ITERATIONS = 5\n",
    "MAX_NEIGHBORS = 75      # ~ 3*np.sqrt(num_users)\n",
    "MAX_RECOMMENDATIONS = 10"
   ]
  },
  {
   "cell_type": "code",
   "execution_count": 3,
   "metadata": {},
   "outputs": [],
   "source": [
    "movie_map = get_movie_map()"
   ]
  },
  {
   "cell_type": "code",
   "execution_count": 23,
   "metadata": {},
   "outputs": [],
   "source": [
    "group = [437, 329, 73]"
   ]
  },
  {
   "cell_type": "code",
   "execution_count": 36,
   "metadata": {},
   "outputs": [],
   "source": [
    "it_counter = 1\n",
    "alpha = 0\n",
    "df_user_sat = pd.DataFrame(index=group, columns=[\"It1\", \"It2\", \"It3\", \"It4\", \"It5\"])\n",
    "df_user_satO = pd.DataFrame(index=group, columns=[\"It1\", \"It2\", \"It3\", \"It4\", \"It5\"])\n",
    "group_disagreements = list()"
   ]
  },
  {
   "cell_type": "code",
   "execution_count": 37,
   "metadata": {},
   "outputs": [
    {
     "name": "stdout",
     "output_type": "stream",
     "text": [
      "ITERATION: 1 -> ALPHA = 0\n",
      "\n",
      "First Step: Compute Similarities of each User of the Group\n",
      "Second Step: Neighborhood Building\n",
      "Third Step: Predictions for Each User\n",
      "Fourth Step: Group Recommendation\n",
      "Fifth Step: Evaluation\n",
      "Group Satisfaction Overall: 0.8329376802148646\n",
      "Group Disagreement Overall: 0.04665310542946355\n",
      "END OF ITERATION 1 - Elapsed Time: 0:00:33.816977\n",
      "\n",
      "ITERATION: 2 -> ALPHA = 0.027010131093429368\n",
      "\n",
      "First Step: Compute Similarities of each User of the Group\n",
      "Second Step: Neighborhood Building\n",
      "Third Step: Predictions for Each User\n",
      "Fourth Step: Group Recommendation\n",
      "Fifth Step: Evaluation\n",
      "Group Satisfaction Overall: 0.8289460914022871\n",
      "Group Disagreement Overall: 0.057757190419043924\n",
      "END OF ITERATION 2 - Elapsed Time: 0:00:28.737165\n",
      "\n",
      "ITERATION: 3 -> ALPHA = 0.05355118170005019\n",
      "\n",
      "First Step: Compute Similarities of each User of the Group\n",
      "Second Step: Neighborhood Building\n",
      "Third Step: Predictions for Each User\n",
      "Fourth Step: Group Recommendation\n",
      "Fifth Step: Evaluation\n",
      "Group Satisfaction Overall: 0.8225169176552728\n",
      "Group Disagreement Overall: 0.06197881459099597\n",
      "END OF ITERATION 3 - Elapsed Time: 0:00:28.987993\n",
      "\n",
      "ITERATION: 4 -> ALPHA = 0.08426263970715381\n",
      "\n",
      "First Step: Compute Similarities of each User of the Group\n",
      "Second Step: Neighborhood Building\n",
      "Third Step: Predictions for Each User\n",
      "Fourth Step: Group Recommendation\n",
      "Fifth Step: Evaluation\n",
      "Group Satisfaction Overall: 0.8149935105413842\n",
      "Group Disagreement Overall: 0.09471166107776341\n",
      "END OF ITERATION 4 - Elapsed Time: 0:00:29.029011\n",
      "\n",
      "ITERATION: 5 -> ALPHA = 0.1168106007446385\n",
      "\n",
      "First Step: Compute Similarities of each User of the Group\n",
      "Second Step: Neighborhood Building\n",
      "Third Step: Predictions for Each User\n",
      "Fourth Step: Group Recommendation\n",
      "Fifth Step: Evaluation\n",
      "Group Satisfaction Overall: 0.8103416852954805\n",
      "Group Disagreement Overall: 0.11466626669235636\n",
      "END OF ITERATION 5 - Elapsed Time: 0:00:28.915592\n",
      "\n"
     ]
    }
   ],
   "source": [
    "while it_counter < 6:\n",
    "    print(f\"ITERATION: {it_counter}\" + \" -> ALPHA = \" + str(alpha) + \"\\n\")\n",
    "    start = datetime.now()\n",
    "\n",
    "    if it_counter == 1:\n",
    "        first_half, chunks = split_dataset(NUM_ITERATIONS, 111)\n",
    "        matrix = get_starting_dataset(first_half)\n",
    "    else:\n",
    "        matrix = enrich_dataset(matrix, chunks[it_counter-2])\n",
    "\n",
    "    # Compute Similarities\n",
    "    print(\"First Step: Compute Similarities of each User of the Group\")\n",
    "    list_of_similarities = list()\n",
    "    for user in group:\n",
    "        dictionary = dict()\n",
    "\n",
    "        other_users = [u for u in matrix.index if u != user]\n",
    "        for u in other_users:\n",
    "            dictionary[u] = pearson_similarity(matrix, user, u)\n",
    "        list_of_similarities.append(dictionary)\n",
    "    \n",
    "    # Neighborhood (75) Building\n",
    "    print(\"Second Step: Neighborhood Building\")\n",
    "    for i in range(0, len(list_of_similarities)):\n",
    "        similarities = list_of_similarities.pop(i)\n",
    "        similarities = {k: v for k, v in sorted(similarities.items(), key=lambda item: item[1], reverse=True)}\n",
    "        similarities = dict(list(similarities.items())[:MAX_NEIGHBORS])\n",
    "        list_of_similarities.insert(i, similarities)\n",
    "    \n",
    "    # Predictions for Each User\n",
    "    print(\"Third Step: Predictions for Each User\")\n",
    "    list_of_scores = list()\n",
    "\n",
    "    for i in range(0, len(group)):\n",
    "        scores = prediction_function(matrix, group[i], list_of_similarities[i], matrix.shape[1])\n",
    "        list_of_scores.append(scores)\n",
    "    \n",
    "    # Group Recommendation\n",
    "    print(\"Fourth Step: Group Recommendation\")\n",
    "    score_matrix = alpha_hybrid_aggregation(alpha, list_of_scores)\n",
    "\n",
    "    # Evaluation: Group Satisfaction & Group Disagreements\n",
    "    print(\"Fifth Step: Evaluation\")\n",
    "    for i, user in enumerate(group):\n",
    "        sat = user_satisfaction(score_matrix, list_of_scores[i])\n",
    "        df_user_sat.at[user, f\"It{it_counter}\"] = sat\n",
    "        df_user_satO.at[user, f\"It{it_counter}\"] = np.mean(df_user_sat.loc[user])\n",
    "        # print(f\"User {user} -> Satisfaction: {sat:.5f}\")\n",
    "    \n",
    "    group_satO = np.sum(df_user_satO[f'It{it_counter}'])/3\n",
    "    print(\"Group Satisfaction Overall: \" + str(group_satO))\n",
    "\n",
    "    group_dis = np.max(df_user_satO[f'It{it_counter}']) - np.min(df_user_satO[f'It{it_counter}'])\n",
    "    group_disagreements.append(group_dis)\n",
    "    print(\"Group Disagreement Overall: \" + str(group_dis))\n",
    "\n",
    "    # Getting ready for the Next Iteration\n",
    "    alpha = update_alpha_mom_disagreements(df_user_sat[f\"It{it_counter}\"])\n",
    "\n",
    "    end = datetime.now()\n",
    "    print(f\"END OF ITERATION {it_counter} - Elapsed Time: {end-start}\" + \"\\n\")\n",
    "\n",
    "    it_counter += 1"
   ]
  },
  {
   "cell_type": "markdown",
   "metadata": {},
   "source": [
    "# Risultati Prima Esecuzione"
   ]
  },
  {
   "cell_type": "code",
   "execution_count": 26,
   "metadata": {},
   "outputs": [
    {
     "data": {
      "text/html": [
       "<div>\n",
       "<style scoped>\n",
       "    .dataframe tbody tr th:only-of-type {\n",
       "        vertical-align: middle;\n",
       "    }\n",
       "\n",
       "    .dataframe tbody tr th {\n",
       "        vertical-align: top;\n",
       "    }\n",
       "\n",
       "    .dataframe thead th {\n",
       "        text-align: right;\n",
       "    }\n",
       "</style>\n",
       "<table border=\"1\" class=\"dataframe\">\n",
       "  <thead>\n",
       "    <tr style=\"text-align: right;\">\n",
       "      <th></th>\n",
       "      <th>It1</th>\n",
       "      <th>It2</th>\n",
       "      <th>It3</th>\n",
       "      <th>It4</th>\n",
       "      <th>It5</th>\n",
       "    </tr>\n",
       "  </thead>\n",
       "  <tbody>\n",
       "    <tr>\n",
       "      <th>437</th>\n",
       "      <td>0.895671</td>\n",
       "      <td>0.923058</td>\n",
       "      <td>0.906435</td>\n",
       "      <td>0.868639</td>\n",
       "      <td>0.926059</td>\n",
       "    </tr>\n",
       "    <tr>\n",
       "      <th>329</th>\n",
       "      <td>0.710293</td>\n",
       "      <td>0.772807</td>\n",
       "      <td>0.686127</td>\n",
       "      <td>0.736088</td>\n",
       "      <td>0.731574</td>\n",
       "    </tr>\n",
       "    <tr>\n",
       "      <th>73</th>\n",
       "      <td>0.861083</td>\n",
       "      <td>0.813863</td>\n",
       "      <td>0.896151</td>\n",
       "      <td>0.833515</td>\n",
       "      <td>0.717571</td>\n",
       "    </tr>\n",
       "  </tbody>\n",
       "</table>\n",
       "</div>"
      ],
      "text/plain": [
       "          It1       It2       It3       It4       It5\n",
       "437  0.895671  0.923058  0.906435  0.868639  0.926059\n",
       "329  0.710293  0.772807  0.686127  0.736088  0.731574\n",
       "73   0.861083  0.813863  0.896151  0.833515  0.717571"
      ]
     },
     "execution_count": 26,
     "metadata": {},
     "output_type": "execute_result"
    }
   ],
   "source": [
    "df_user_sat"
   ]
  },
  {
   "cell_type": "code",
   "execution_count": 27,
   "metadata": {},
   "outputs": [
    {
     "data": {
      "text/html": [
       "<div>\n",
       "<style scoped>\n",
       "    .dataframe tbody tr th:only-of-type {\n",
       "        vertical-align: middle;\n",
       "    }\n",
       "\n",
       "    .dataframe tbody tr th {\n",
       "        vertical-align: top;\n",
       "    }\n",
       "\n",
       "    .dataframe thead th {\n",
       "        text-align: right;\n",
       "    }\n",
       "</style>\n",
       "<table border=\"1\" class=\"dataframe\">\n",
       "  <thead>\n",
       "    <tr style=\"text-align: right;\">\n",
       "      <th></th>\n",
       "      <th>It1</th>\n",
       "      <th>It2</th>\n",
       "      <th>It3</th>\n",
       "      <th>It4</th>\n",
       "      <th>It5</th>\n",
       "    </tr>\n",
       "  </thead>\n",
       "  <tbody>\n",
       "    <tr>\n",
       "      <th>437</th>\n",
       "      <td>0.895671</td>\n",
       "      <td>0.909365</td>\n",
       "      <td>0.908388</td>\n",
       "      <td>0.898451</td>\n",
       "      <td>0.903972</td>\n",
       "    </tr>\n",
       "    <tr>\n",
       "      <th>329</th>\n",
       "      <td>0.710293</td>\n",
       "      <td>0.74155</td>\n",
       "      <td>0.723075</td>\n",
       "      <td>0.726329</td>\n",
       "      <td>0.727378</td>\n",
       "    </tr>\n",
       "    <tr>\n",
       "      <th>73</th>\n",
       "      <td>0.861083</td>\n",
       "      <td>0.837473</td>\n",
       "      <td>0.857032</td>\n",
       "      <td>0.851153</td>\n",
       "      <td>0.824436</td>\n",
       "    </tr>\n",
       "  </tbody>\n",
       "</table>\n",
       "</div>"
      ],
      "text/plain": [
       "          It1       It2       It3       It4       It5\n",
       "437  0.895671  0.909365  0.908388  0.898451  0.903972\n",
       "329  0.710293   0.74155  0.723075  0.726329  0.727378\n",
       "73   0.861083  0.837473  0.857032  0.851153  0.824436"
      ]
     },
     "execution_count": 27,
     "metadata": {},
     "output_type": "execute_result"
    }
   ],
   "source": [
    "# seed == 24\n",
    "df_user_satO"
   ]
  },
  {
   "cell_type": "code",
   "execution_count": 28,
   "metadata": {},
   "outputs": [
    {
     "data": {
      "text/plain": [
       "It1    0.822349\n",
       "It2    0.829462\n",
       "It3    0.829499\n",
       "It4    0.825311\n",
       "It5    0.818595\n",
       "dtype: object"
      ]
     },
     "execution_count": 28,
     "metadata": {},
     "output_type": "execute_result"
    }
   ],
   "source": [
    "df_user_satO.mean()"
   ]
  },
  {
   "cell_type": "code",
   "execution_count": 29,
   "metadata": {},
   "outputs": [
    {
     "data": {
      "text/plain": [
       "[0.18537856360645688,\n",
       " 0.16781518356366798,\n",
       " 0.18531266768042765,\n",
       " 0.17212209816006685,\n",
       " 0.17659461635819917]"
      ]
     },
     "execution_count": 29,
     "metadata": {},
     "output_type": "execute_result"
    }
   ],
   "source": [
    "group_disagreements"
   ]
  },
  {
   "cell_type": "markdown",
   "metadata": {},
   "source": [
    "# Risultati Seconda Esecuzione"
   ]
  },
  {
   "cell_type": "code",
   "execution_count": 32,
   "metadata": {},
   "outputs": [
    {
     "data": {
      "text/html": [
       "<div>\n",
       "<style scoped>\n",
       "    .dataframe tbody tr th:only-of-type {\n",
       "        vertical-align: middle;\n",
       "    }\n",
       "\n",
       "    .dataframe tbody tr th {\n",
       "        vertical-align: top;\n",
       "    }\n",
       "\n",
       "    .dataframe thead th {\n",
       "        text-align: right;\n",
       "    }\n",
       "</style>\n",
       "<table border=\"1\" class=\"dataframe\">\n",
       "  <thead>\n",
       "    <tr style=\"text-align: right;\">\n",
       "      <th></th>\n",
       "      <th>It1</th>\n",
       "      <th>It2</th>\n",
       "      <th>It3</th>\n",
       "      <th>It4</th>\n",
       "      <th>It5</th>\n",
       "    </tr>\n",
       "  </thead>\n",
       "  <tbody>\n",
       "    <tr>\n",
       "      <th>437</th>\n",
       "      <td>0.862811</td>\n",
       "      <td>0.863441</td>\n",
       "      <td>0.818811</td>\n",
       "      <td>0.876081</td>\n",
       "      <td>0.926059</td>\n",
       "    </tr>\n",
       "    <tr>\n",
       "      <th>329</th>\n",
       "      <td>0.782876</td>\n",
       "      <td>0.738604</td>\n",
       "      <td>0.761684</td>\n",
       "      <td>0.749251</td>\n",
       "      <td>0.731574</td>\n",
       "    </tr>\n",
       "    <tr>\n",
       "      <th>73</th>\n",
       "      <td>0.88638</td>\n",
       "      <td>0.77201</td>\n",
       "      <td>0.77521</td>\n",
       "      <td>0.772559</td>\n",
       "      <td>0.717571</td>\n",
       "    </tr>\n",
       "  </tbody>\n",
       "</table>\n",
       "</div>"
      ],
      "text/plain": [
       "          It1       It2       It3       It4       It5\n",
       "437  0.862811  0.863441  0.818811  0.876081  0.926059\n",
       "329  0.782876  0.738604  0.761684  0.749251  0.731574\n",
       "73    0.88638   0.77201   0.77521  0.772559  0.717571"
      ]
     },
     "execution_count": 32,
     "metadata": {},
     "output_type": "execute_result"
    }
   ],
   "source": [
    "df_user_sat"
   ]
  },
  {
   "cell_type": "code",
   "execution_count": 33,
   "metadata": {},
   "outputs": [
    {
     "data": {
      "text/html": [
       "<div>\n",
       "<style scoped>\n",
       "    .dataframe tbody tr th:only-of-type {\n",
       "        vertical-align: middle;\n",
       "    }\n",
       "\n",
       "    .dataframe tbody tr th {\n",
       "        vertical-align: top;\n",
       "    }\n",
       "\n",
       "    .dataframe thead th {\n",
       "        text-align: right;\n",
       "    }\n",
       "</style>\n",
       "<table border=\"1\" class=\"dataframe\">\n",
       "  <thead>\n",
       "    <tr style=\"text-align: right;\">\n",
       "      <th></th>\n",
       "      <th>It1</th>\n",
       "      <th>It2</th>\n",
       "      <th>It3</th>\n",
       "      <th>It4</th>\n",
       "      <th>It5</th>\n",
       "    </tr>\n",
       "  </thead>\n",
       "  <tbody>\n",
       "    <tr>\n",
       "      <th>437</th>\n",
       "      <td>0.862811</td>\n",
       "      <td>0.863126</td>\n",
       "      <td>0.848354</td>\n",
       "      <td>0.855286</td>\n",
       "      <td>0.869441</td>\n",
       "    </tr>\n",
       "    <tr>\n",
       "      <th>329</th>\n",
       "      <td>0.782876</td>\n",
       "      <td>0.76074</td>\n",
       "      <td>0.761055</td>\n",
       "      <td>0.758104</td>\n",
       "      <td>0.752798</td>\n",
       "    </tr>\n",
       "    <tr>\n",
       "      <th>73</th>\n",
       "      <td>0.88638</td>\n",
       "      <td>0.829195</td>\n",
       "      <td>0.8112</td>\n",
       "      <td>0.80154</td>\n",
       "      <td>0.784746</td>\n",
       "    </tr>\n",
       "  </tbody>\n",
       "</table>\n",
       "</div>"
      ],
      "text/plain": [
       "          It1       It2       It3       It4       It5\n",
       "437  0.862811  0.863126  0.848354  0.855286  0.869441\n",
       "329  0.782876   0.76074  0.761055  0.758104  0.752798\n",
       "73    0.88638  0.829195    0.8112   0.80154  0.784746"
      ]
     },
     "execution_count": 33,
     "metadata": {},
     "output_type": "execute_result"
    }
   ],
   "source": [
    "# seed == 8\n",
    "df_user_satO"
   ]
  },
  {
   "cell_type": "code",
   "execution_count": 34,
   "metadata": {},
   "outputs": [
    {
     "data": {
      "text/plain": [
       "It1    0.844022\n",
       "It2    0.817687\n",
       "It3     0.80687\n",
       "It4    0.804976\n",
       "It5    0.802328\n",
       "dtype: object"
      ]
     },
     "execution_count": 34,
     "metadata": {},
     "output_type": "execute_result"
    }
   ],
   "source": [
    "df_user_satO.mean()"
   ]
  },
  {
   "cell_type": "code",
   "execution_count": 35,
   "metadata": {},
   "outputs": [
    {
     "data": {
      "text/plain": [
       "[0.10350401338122173,\n",
       " 0.10238620369111129,\n",
       " 0.08729973061039165,\n",
       " 0.09718223532520864,\n",
       " 0.11664272609031268]"
      ]
     },
     "execution_count": 35,
     "metadata": {},
     "output_type": "execute_result"
    }
   ],
   "source": [
    "group_disagreements"
   ]
  },
  {
   "cell_type": "markdown",
   "metadata": {},
   "source": [
    "# Risultati Terza Esecuzione"
   ]
  },
  {
   "cell_type": "code",
   "execution_count": 38,
   "metadata": {},
   "outputs": [
    {
     "data": {
      "text/html": [
       "<div>\n",
       "<style scoped>\n",
       "    .dataframe tbody tr th:only-of-type {\n",
       "        vertical-align: middle;\n",
       "    }\n",
       "\n",
       "    .dataframe tbody tr th {\n",
       "        vertical-align: top;\n",
       "    }\n",
       "\n",
       "    .dataframe thead th {\n",
       "        text-align: right;\n",
       "    }\n",
       "</style>\n",
       "<table border=\"1\" class=\"dataframe\">\n",
       "  <thead>\n",
       "    <tr style=\"text-align: right;\">\n",
       "      <th></th>\n",
       "      <th>It1</th>\n",
       "      <th>It2</th>\n",
       "      <th>It3</th>\n",
       "      <th>It4</th>\n",
       "      <th>It5</th>\n",
       "    </tr>\n",
       "  </thead>\n",
       "  <tbody>\n",
       "    <tr>\n",
       "      <th>437</th>\n",
       "      <td>0.850944</td>\n",
       "      <td>0.789254</td>\n",
       "      <td>0.908204</td>\n",
       "      <td>0.90746</td>\n",
       "      <td>0.926059</td>\n",
       "    </tr>\n",
       "    <tr>\n",
       "      <th>329</th>\n",
       "      <td>0.804291</td>\n",
       "      <td>0.804691</td>\n",
       "      <td>0.753483</td>\n",
       "      <td>0.71455</td>\n",
       "      <td>0.731574</td>\n",
       "    </tr>\n",
       "    <tr>\n",
       "      <th>73</th>\n",
       "      <td>0.843577</td>\n",
       "      <td>0.880919</td>\n",
       "      <td>0.767288</td>\n",
       "      <td>0.755261</td>\n",
       "      <td>0.717571</td>\n",
       "    </tr>\n",
       "  </tbody>\n",
       "</table>\n",
       "</div>"
      ],
      "text/plain": [
       "          It1       It2       It3       It4       It5\n",
       "437  0.850944  0.789254  0.908204   0.90746  0.926059\n",
       "329  0.804291  0.804691  0.753483   0.71455  0.731574\n",
       "73   0.843577  0.880919  0.767288  0.755261  0.717571"
      ]
     },
     "execution_count": 38,
     "metadata": {},
     "output_type": "execute_result"
    }
   ],
   "source": [
    "df_user_sat"
   ]
  },
  {
   "cell_type": "code",
   "execution_count": 39,
   "metadata": {},
   "outputs": [
    {
     "data": {
      "text/html": [
       "<div>\n",
       "<style scoped>\n",
       "    .dataframe tbody tr th:only-of-type {\n",
       "        vertical-align: middle;\n",
       "    }\n",
       "\n",
       "    .dataframe tbody tr th {\n",
       "        vertical-align: top;\n",
       "    }\n",
       "\n",
       "    .dataframe thead th {\n",
       "        text-align: right;\n",
       "    }\n",
       "</style>\n",
       "<table border=\"1\" class=\"dataframe\">\n",
       "  <thead>\n",
       "    <tr style=\"text-align: right;\">\n",
       "      <th></th>\n",
       "      <th>It1</th>\n",
       "      <th>It2</th>\n",
       "      <th>It3</th>\n",
       "      <th>It4</th>\n",
       "      <th>It5</th>\n",
       "    </tr>\n",
       "  </thead>\n",
       "  <tbody>\n",
       "    <tr>\n",
       "      <th>437</th>\n",
       "      <td>0.850944</td>\n",
       "      <td>0.820099</td>\n",
       "      <td>0.849467</td>\n",
       "      <td>0.863965</td>\n",
       "      <td>0.876384</td>\n",
       "    </tr>\n",
       "    <tr>\n",
       "      <th>329</th>\n",
       "      <td>0.804291</td>\n",
       "      <td>0.804491</td>\n",
       "      <td>0.787488</td>\n",
       "      <td>0.769254</td>\n",
       "      <td>0.761718</td>\n",
       "    </tr>\n",
       "    <tr>\n",
       "      <th>73</th>\n",
       "      <td>0.843577</td>\n",
       "      <td>0.862248</td>\n",
       "      <td>0.830595</td>\n",
       "      <td>0.811761</td>\n",
       "      <td>0.792923</td>\n",
       "    </tr>\n",
       "  </tbody>\n",
       "</table>\n",
       "</div>"
      ],
      "text/plain": [
       "          It1       It2       It3       It4       It5\n",
       "437  0.850944  0.820099  0.849467  0.863965  0.876384\n",
       "329  0.804291  0.804491  0.787488  0.769254  0.761718\n",
       "73   0.843577  0.862248  0.830595  0.811761  0.792923"
      ]
     },
     "execution_count": 39,
     "metadata": {},
     "output_type": "execute_result"
    }
   ],
   "source": [
    "# seed == 111\n",
    "df_user_satO"
   ]
  },
  {
   "cell_type": "code",
   "execution_count": 40,
   "metadata": {},
   "outputs": [
    {
     "data": {
      "text/plain": [
       "It1    0.832938\n",
       "It2    0.828946\n",
       "It3    0.822517\n",
       "It4    0.814994\n",
       "It5    0.810342\n",
       "dtype: object"
      ]
     },
     "execution_count": 40,
     "metadata": {},
     "output_type": "execute_result"
    }
   ],
   "source": [
    "df_user_satO.mean()"
   ]
  },
  {
   "cell_type": "code",
   "execution_count": 41,
   "metadata": {},
   "outputs": [
    {
     "data": {
      "text/plain": [
       "[0.04665310542946355,\n",
       " 0.057757190419043924,\n",
       " 0.06197881459099597,\n",
       " 0.09471166107776341,\n",
       " 0.11466626669235636]"
      ]
     },
     "execution_count": 41,
     "metadata": {},
     "output_type": "execute_result"
    }
   ],
   "source": [
    "group_disagreements"
   ]
  }
 ],
 "metadata": {
  "kernelspec": {
   "display_name": "Python 3 (ipykernel)",
   "language": "python",
   "name": "python3"
  },
  "language_info": {
   "codemirror_mode": {
    "name": "ipython",
    "version": 3
   },
   "file_extension": ".py",
   "mimetype": "text/x-python",
   "name": "python",
   "nbconvert_exporter": "python",
   "pygments_lexer": "ipython3",
   "version": "3.10.13"
  }
 },
 "nbformat": 4,
 "nbformat_minor": 2
}
