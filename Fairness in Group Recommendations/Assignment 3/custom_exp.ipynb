{
 "cells": [
  {
   "cell_type": "code",
   "execution_count": 1,
   "metadata": {},
   "outputs": [],
   "source": [
    "import numpy as np\n",
    "import pandas as pd\n",
    "\n",
    "from dataset_processing import split_dataset, get_starting_dataset, enrich_dataset, get_movie_map\n",
    "from similarity import pearson_similarity\n",
    "from predict import prediction_function\n",
    "from group import alpha_hybrid_aggregation, update_alpha_mom_disagreements\n",
    "from evaluate import user_satisfaction\n",
    "\n",
    "from datetime import datetime"
   ]
  },
  {
   "cell_type": "code",
   "execution_count": 2,
   "metadata": {},
   "outputs": [],
   "source": [
    "NUM_ITERATIONS = 5\n",
    "MAX_NEIGHBORS = 75      # ~ 3*np.sqrt(num_users)\n",
    "MAX_RECOMMENDATIONS = 10"
   ]
  },
  {
   "cell_type": "code",
   "execution_count": 3,
   "metadata": {},
   "outputs": [],
   "source": [
    "movie_map = get_movie_map()"
   ]
  },
  {
   "cell_type": "code",
   "execution_count": 42,
   "metadata": {},
   "outputs": [],
   "source": [
    "group = [437, 329, 73]"
   ]
  },
  {
   "cell_type": "code",
   "execution_count": 55,
   "metadata": {},
   "outputs": [],
   "source": [
    "it_counter = 1\n",
    "alpha = 0\n",
    "df_user_sat = pd.DataFrame(index=group, columns=[\"It1\", \"It2\", \"It3\", \"It4\", \"It5\"])\n",
    "df_user_satO = pd.DataFrame(index=group, columns=[\"It1\", \"It2\", \"It3\", \"It4\", \"It5\"])\n",
    "group_disagreements = list()"
   ]
  },
  {
   "cell_type": "code",
   "execution_count": 56,
   "metadata": {},
   "outputs": [
    {
     "name": "stdout",
     "output_type": "stream",
     "text": [
      "ITERATION: 1 -> ALPHA = 0\n",
      "\n",
      "First Step: Compute Similarities of each User of the Group\n",
      "Second Step: Neighborhood Building\n",
      "Third Step: Predictions for Each User\n",
      "Fourth Step: Group Recommendation\n",
      "Fifth Step: Evaluation\n",
      "Group Satisfaction Overall: 0.8075472651387199\n",
      "Group Disagreement Overall: 0.1383570854280205\n",
      "END OF ITERATION 1 - Elapsed Time: 0:00:33.848513\n",
      "\n",
      "ITERATION: 2 -> ALPHA = 0.07944373636743063\n",
      "\n",
      "First Step: Compute Similarities of each User of the Group\n",
      "Second Step: Neighborhood Building\n",
      "Third Step: Predictions for Each User\n",
      "Fourth Step: Group Recommendation\n",
      "Fifth Step: Evaluation\n",
      "Group Satisfaction Overall: 0.8136062018467873\n",
      "Group Disagreement Overall: 0.09458940281397665\n",
      "END OF ITERATION 2 - Elapsed Time: 0:00:28.937051\n",
      "\n",
      "ITERATION: 3 -> ALPHA = 0.025558138799979258\n",
      "\n",
      "First Step: Compute Similarities of each User of the Group\n",
      "Second Step: Neighborhood Building\n",
      "Third Step: Predictions for Each User\n",
      "Fourth Step: Group Recommendation\n",
      "Fifth Step: Evaluation\n",
      "Group Satisfaction Overall: 0.8197894691431126\n",
      "Group Disagreement Overall: 0.07955660462807046\n",
      "END OF ITERATION 3 - Elapsed Time: 0:00:29.663837\n",
      "\n",
      "ITERATION: 4 -> ALPHA = 0.06414426541407076\n",
      "\n",
      "First Step: Compute Similarities of each User of the Group\n",
      "Second Step: Neighborhood Building\n",
      "Third Step: Predictions for Each User\n",
      "Fourth Step: Group Recommendation\n",
      "Fifth Step: Evaluation\n",
      "Group Satisfaction Overall: 0.8192478788168346\n",
      "Group Disagreement Overall: 0.09386101801830427\n",
      "END OF ITERATION 4 - Elapsed Time: 0:00:29.552443\n",
      "\n",
      "ITERATION: 5 -> ALPHA = 0.0815354231948962\n",
      "\n",
      "First Step: Compute Similarities of each User of the Group\n",
      "Second Step: Neighborhood Building\n",
      "Third Step: Predictions for Each User\n",
      "Fourth Step: Group Recommendation\n",
      "Fifth Step: Evaluation\n",
      "Group Satisfaction Overall: 0.8137451799158407\n",
      "Group Disagreement Overall: 0.11398575224478924\n",
      "END OF ITERATION 5 - Elapsed Time: 0:00:29.319007\n",
      "\n"
     ]
    }
   ],
   "source": [
    "while it_counter < 6:\n",
    "    print(f\"ITERATION: {it_counter}\" + \" -> ALPHA = \" + str(alpha) + \"\\n\")\n",
    "    start = datetime.now()\n",
    "\n",
    "    if it_counter == 1:\n",
    "        first_half, chunks = split_dataset(NUM_ITERATIONS, 111)\n",
    "        matrix = get_starting_dataset(first_half)\n",
    "    else:\n",
    "        matrix = enrich_dataset(matrix, chunks[it_counter-2])\n",
    "\n",
    "    # Compute Similarities\n",
    "    print(\"First Step: Compute Similarities of each User of the Group\")\n",
    "    list_of_similarities = list()\n",
    "    for user in group:\n",
    "        dictionary = dict()\n",
    "\n",
    "        other_users = [u for u in matrix.index if u != user]\n",
    "        for u in other_users:\n",
    "            dictionary[u] = pearson_similarity(matrix, user, u)\n",
    "        list_of_similarities.append(dictionary)\n",
    "    \n",
    "    # Neighborhood (75) Building\n",
    "    print(\"Second Step: Neighborhood Building\")\n",
    "    for i in range(0, len(list_of_similarities)):\n",
    "        similarities = list_of_similarities.pop(i)\n",
    "        similarities = {k: v for k, v in sorted(similarities.items(), key=lambda item: item[1], reverse=True)}\n",
    "        similarities = dict(list(similarities.items())[:MAX_NEIGHBORS])\n",
    "        list_of_similarities.insert(i, similarities)\n",
    "    \n",
    "    # Predictions for Each User\n",
    "    print(\"Third Step: Predictions for Each User\")\n",
    "    list_of_scores = list()\n",
    "\n",
    "    for i in range(0, len(group)):\n",
    "        scores = prediction_function(matrix, group[i], list_of_similarities[i], matrix.shape[1])\n",
    "        list_of_scores.append(scores)\n",
    "    \n",
    "    # Group Recommendation\n",
    "    print(\"Fourth Step: Group Recommendation\")\n",
    "    score_matrix = alpha_hybrid_aggregation(alpha, list_of_scores)\n",
    "\n",
    "    # Evaluation: Group Satisfaction & Group Disagreements\n",
    "    print(\"Fifth Step: Evaluation\")\n",
    "    for i, user in enumerate(group):\n",
    "        sat = user_satisfaction(score_matrix, list_of_scores[i], MAX_RECOMMENDATIONS)\n",
    "        df_user_sat.at[user, f\"It{it_counter}\"] = sat\n",
    "        df_user_satO.at[user, f\"It{it_counter}\"] = np.mean(df_user_sat.loc[user])\n",
    "        # print(f\"User {user} -> Satisfaction: {sat:.5f}\")\n",
    "    \n",
    "    group_satO = np.sum(df_user_satO[f'It{it_counter}'])/3\n",
    "    print(\"Group Satisfaction Overall: \" + str(group_satO))\n",
    "\n",
    "    group_dis = np.max(df_user_satO[f'It{it_counter}']) - np.min(df_user_satO[f'It{it_counter}'])\n",
    "    group_disagreements.append(group_dis)\n",
    "    print(\"Group Disagreement Overall: \" + str(group_dis))\n",
    "\n",
    "    # Getting ready for the Next Iteration\n",
    "    alpha = update_alpha_mom_disagreements(df_user_sat[f\"It{it_counter}\"])\n",
    "\n",
    "    end = datetime.now()\n",
    "    print(f\"END OF ITERATION {it_counter} - Elapsed Time: {end-start}\" + \"\\n\")\n",
    "\n",
    "    it_counter += 1"
   ]
  },
  {
   "cell_type": "markdown",
   "metadata": {},
   "source": [
    "# First Execution (seed == 24) Outcomes"
   ]
  },
  {
   "cell_type": "code",
   "execution_count": 45,
   "metadata": {},
   "outputs": [
    {
     "data": {
      "text/html": [
       "<div>\n",
       "<style scoped>\n",
       "    .dataframe tbody tr th:only-of-type {\n",
       "        vertical-align: middle;\n",
       "    }\n",
       "\n",
       "    .dataframe tbody tr th {\n",
       "        vertical-align: top;\n",
       "    }\n",
       "\n",
       "    .dataframe thead th {\n",
       "        text-align: right;\n",
       "    }\n",
       "</style>\n",
       "<table border=\"1\" class=\"dataframe\">\n",
       "  <thead>\n",
       "    <tr style=\"text-align: right;\">\n",
       "      <th></th>\n",
       "      <th>It1</th>\n",
       "      <th>It2</th>\n",
       "      <th>It3</th>\n",
       "      <th>It4</th>\n",
       "      <th>It5</th>\n",
       "    </tr>\n",
       "  </thead>\n",
       "  <tbody>\n",
       "    <tr>\n",
       "      <th>437</th>\n",
       "      <td>0.899719</td>\n",
       "      <td>0.900556</td>\n",
       "      <td>0.86303</td>\n",
       "      <td>0.884683</td>\n",
       "      <td>0.926059</td>\n",
       "    </tr>\n",
       "    <tr>\n",
       "      <th>329</th>\n",
       "      <td>0.802304</td>\n",
       "      <td>0.795401</td>\n",
       "      <td>0.720284</td>\n",
       "      <td>0.7753</td>\n",
       "      <td>0.731574</td>\n",
       "    </tr>\n",
       "    <tr>\n",
       "      <th>73</th>\n",
       "      <td>0.94698</td>\n",
       "      <td>0.89671</td>\n",
       "      <td>0.76643</td>\n",
       "      <td>0.719384</td>\n",
       "      <td>0.717571</td>\n",
       "    </tr>\n",
       "  </tbody>\n",
       "</table>\n",
       "</div>"
      ],
      "text/plain": [
       "          It1       It2       It3       It4       It5\n",
       "437  0.899719  0.900556   0.86303  0.884683  0.926059\n",
       "329  0.802304  0.795401  0.720284    0.7753  0.731574\n",
       "73    0.94698   0.89671   0.76643  0.719384  0.717571"
      ]
     },
     "execution_count": 45,
     "metadata": {},
     "output_type": "execute_result"
    }
   ],
   "source": [
    "df_user_sat"
   ]
  },
  {
   "cell_type": "code",
   "execution_count": 46,
   "metadata": {},
   "outputs": [
    {
     "data": {
      "text/html": [
       "<div>\n",
       "<style scoped>\n",
       "    .dataframe tbody tr th:only-of-type {\n",
       "        vertical-align: middle;\n",
       "    }\n",
       "\n",
       "    .dataframe tbody tr th {\n",
       "        vertical-align: top;\n",
       "    }\n",
       "\n",
       "    .dataframe thead th {\n",
       "        text-align: right;\n",
       "    }\n",
       "</style>\n",
       "<table border=\"1\" class=\"dataframe\">\n",
       "  <thead>\n",
       "    <tr style=\"text-align: right;\">\n",
       "      <th></th>\n",
       "      <th>It1</th>\n",
       "      <th>It2</th>\n",
       "      <th>It3</th>\n",
       "      <th>It4</th>\n",
       "      <th>It5</th>\n",
       "    </tr>\n",
       "  </thead>\n",
       "  <tbody>\n",
       "    <tr>\n",
       "      <th>437</th>\n",
       "      <td>0.899719</td>\n",
       "      <td>0.900138</td>\n",
       "      <td>0.887769</td>\n",
       "      <td>0.886997</td>\n",
       "      <td>0.894809</td>\n",
       "    </tr>\n",
       "    <tr>\n",
       "      <th>329</th>\n",
       "      <td>0.802304</td>\n",
       "      <td>0.798852</td>\n",
       "      <td>0.772663</td>\n",
       "      <td>0.773322</td>\n",
       "      <td>0.764972</td>\n",
       "    </tr>\n",
       "    <tr>\n",
       "      <th>73</th>\n",
       "      <td>0.94698</td>\n",
       "      <td>0.921845</td>\n",
       "      <td>0.87004</td>\n",
       "      <td>0.832376</td>\n",
       "      <td>0.809415</td>\n",
       "    </tr>\n",
       "  </tbody>\n",
       "</table>\n",
       "</div>"
      ],
      "text/plain": [
       "          It1       It2       It3       It4       It5\n",
       "437  0.899719  0.900138  0.887769  0.886997  0.894809\n",
       "329  0.802304  0.798852  0.772663  0.773322  0.764972\n",
       "73    0.94698  0.921845   0.87004  0.832376  0.809415"
      ]
     },
     "execution_count": 46,
     "metadata": {},
     "output_type": "execute_result"
    }
   ],
   "source": [
    "# seed == 24\n",
    "df_user_satO"
   ]
  },
  {
   "cell_type": "code",
   "execution_count": 47,
   "metadata": {},
   "outputs": [
    {
     "data": {
      "text/plain": [
       "It1    0.883001\n",
       "It2    0.873612\n",
       "It3     0.84349\n",
       "It4    0.830898\n",
       "It5    0.823066\n",
       "dtype: object"
      ]
     },
     "execution_count": 47,
     "metadata": {},
     "output_type": "execute_result"
    }
   ],
   "source": [
    "df_user_satO.mean()"
   ]
  },
  {
   "cell_type": "code",
   "execution_count": 48,
   "metadata": {},
   "outputs": [
    {
     "data": {
      "text/plain": [
       "[0.14467521805143935,\n",
       " 0.12299211255482911,\n",
       " 0.11510559325028014,\n",
       " 0.11367508444435981,\n",
       " 0.1298370053856337]"
      ]
     },
     "execution_count": 48,
     "metadata": {},
     "output_type": "execute_result"
    }
   ],
   "source": [
    "group_disagreements"
   ]
  },
  {
   "cell_type": "markdown",
   "metadata": {},
   "source": [
    "# Second Execution (seed == 8) Outcomes"
   ]
  },
  {
   "cell_type": "code",
   "execution_count": 51,
   "metadata": {},
   "outputs": [
    {
     "data": {
      "text/html": [
       "<div>\n",
       "<style scoped>\n",
       "    .dataframe tbody tr th:only-of-type {\n",
       "        vertical-align: middle;\n",
       "    }\n",
       "\n",
       "    .dataframe tbody tr th {\n",
       "        vertical-align: top;\n",
       "    }\n",
       "\n",
       "    .dataframe thead th {\n",
       "        text-align: right;\n",
       "    }\n",
       "</style>\n",
       "<table border=\"1\" class=\"dataframe\">\n",
       "  <thead>\n",
       "    <tr style=\"text-align: right;\">\n",
       "      <th></th>\n",
       "      <th>It1</th>\n",
       "      <th>It2</th>\n",
       "      <th>It3</th>\n",
       "      <th>It4</th>\n",
       "      <th>It5</th>\n",
       "    </tr>\n",
       "  </thead>\n",
       "  <tbody>\n",
       "    <tr>\n",
       "      <th>437</th>\n",
       "      <td>0.89246</td>\n",
       "      <td>0.911853</td>\n",
       "      <td>0.917832</td>\n",
       "      <td>0.864552</td>\n",
       "      <td>0.926059</td>\n",
       "    </tr>\n",
       "    <tr>\n",
       "      <th>329</th>\n",
       "      <td>0.689805</td>\n",
       "      <td>0.682478</td>\n",
       "      <td>0.74612</td>\n",
       "      <td>0.76865</td>\n",
       "      <td>0.731574</td>\n",
       "    </tr>\n",
       "    <tr>\n",
       "      <th>73</th>\n",
       "      <td>0.86094</td>\n",
       "      <td>0.846825</td>\n",
       "      <td>0.751292</td>\n",
       "      <td>0.680177</td>\n",
       "      <td>0.717571</td>\n",
       "    </tr>\n",
       "  </tbody>\n",
       "</table>\n",
       "</div>"
      ],
      "text/plain": [
       "          It1       It2       It3       It4       It5\n",
       "437   0.89246  0.911853  0.917832  0.864552  0.926059\n",
       "329  0.689805  0.682478   0.74612   0.76865  0.731574\n",
       "73    0.86094  0.846825  0.751292  0.680177  0.717571"
      ]
     },
     "execution_count": 51,
     "metadata": {},
     "output_type": "execute_result"
    }
   ],
   "source": [
    "df_user_sat"
   ]
  },
  {
   "cell_type": "code",
   "execution_count": 52,
   "metadata": {},
   "outputs": [
    {
     "data": {
      "text/html": [
       "<div>\n",
       "<style scoped>\n",
       "    .dataframe tbody tr th:only-of-type {\n",
       "        vertical-align: middle;\n",
       "    }\n",
       "\n",
       "    .dataframe tbody tr th {\n",
       "        vertical-align: top;\n",
       "    }\n",
       "\n",
       "    .dataframe thead th {\n",
       "        text-align: right;\n",
       "    }\n",
       "</style>\n",
       "<table border=\"1\" class=\"dataframe\">\n",
       "  <thead>\n",
       "    <tr style=\"text-align: right;\">\n",
       "      <th></th>\n",
       "      <th>It1</th>\n",
       "      <th>It2</th>\n",
       "      <th>It3</th>\n",
       "      <th>It4</th>\n",
       "      <th>It5</th>\n",
       "    </tr>\n",
       "  </thead>\n",
       "  <tbody>\n",
       "    <tr>\n",
       "      <th>437</th>\n",
       "      <td>0.89246</td>\n",
       "      <td>0.902156</td>\n",
       "      <td>0.907381</td>\n",
       "      <td>0.896674</td>\n",
       "      <td>0.902551</td>\n",
       "    </tr>\n",
       "    <tr>\n",
       "      <th>329</th>\n",
       "      <td>0.689805</td>\n",
       "      <td>0.686142</td>\n",
       "      <td>0.706134</td>\n",
       "      <td>0.721763</td>\n",
       "      <td>0.723725</td>\n",
       "    </tr>\n",
       "    <tr>\n",
       "      <th>73</th>\n",
       "      <td>0.86094</td>\n",
       "      <td>0.853883</td>\n",
       "      <td>0.819686</td>\n",
       "      <td>0.784809</td>\n",
       "      <td>0.771361</td>\n",
       "    </tr>\n",
       "  </tbody>\n",
       "</table>\n",
       "</div>"
      ],
      "text/plain": [
       "          It1       It2       It3       It4       It5\n",
       "437   0.89246  0.902156  0.907381  0.896674  0.902551\n",
       "329  0.689805  0.686142  0.706134  0.721763  0.723725\n",
       "73    0.86094  0.853883  0.819686  0.784809  0.771361"
      ]
     },
     "execution_count": 52,
     "metadata": {},
     "output_type": "execute_result"
    }
   ],
   "source": [
    "# seed == 8\n",
    "df_user_satO"
   ]
  },
  {
   "cell_type": "code",
   "execution_count": 53,
   "metadata": {},
   "outputs": [
    {
     "data": {
      "text/plain": [
       "It1    0.814402\n",
       "It2     0.81406\n",
       "It3    0.811067\n",
       "It4    0.801082\n",
       "It5    0.799213\n",
       "dtype: object"
      ]
     },
     "execution_count": 53,
     "metadata": {},
     "output_type": "execute_result"
    }
   ],
   "source": [
    "df_user_satO.mean()"
   ]
  },
  {
   "cell_type": "code",
   "execution_count": 54,
   "metadata": {},
   "outputs": [
    {
     "data": {
      "text/plain": [
       "[0.20265472327333545,\n",
       " 0.21601468333249518,\n",
       " 0.201247013150203,\n",
       " 0.17491087063032607,\n",
       " 0.17882563433440668]"
      ]
     },
     "execution_count": 54,
     "metadata": {},
     "output_type": "execute_result"
    }
   ],
   "source": [
    "group_disagreements"
   ]
  },
  {
   "cell_type": "markdown",
   "metadata": {},
   "source": [
    "# Third Execution (seed == 111) Outcomes"
   ]
  },
  {
   "cell_type": "code",
   "execution_count": 57,
   "metadata": {},
   "outputs": [
    {
     "data": {
      "text/html": [
       "<div>\n",
       "<style scoped>\n",
       "    .dataframe tbody tr th:only-of-type {\n",
       "        vertical-align: middle;\n",
       "    }\n",
       "\n",
       "    .dataframe tbody tr th {\n",
       "        vertical-align: top;\n",
       "    }\n",
       "\n",
       "    .dataframe thead th {\n",
       "        text-align: right;\n",
       "    }\n",
       "</style>\n",
       "<table border=\"1\" class=\"dataframe\">\n",
       "  <thead>\n",
       "    <tr style=\"text-align: right;\">\n",
       "      <th></th>\n",
       "      <th>It1</th>\n",
       "      <th>It2</th>\n",
       "      <th>It3</th>\n",
       "      <th>It4</th>\n",
       "      <th>It5</th>\n",
       "    </tr>\n",
       "  </thead>\n",
       "  <tbody>\n",
       "    <tr>\n",
       "      <th>437</th>\n",
       "      <td>0.892942</td>\n",
       "      <td>0.836704</td>\n",
       "      <td>0.878283</td>\n",
       "      <td>0.90004</td>\n",
       "      <td>0.926059</td>\n",
       "    </tr>\n",
       "    <tr>\n",
       "      <th>329</th>\n",
       "      <td>0.754585</td>\n",
       "      <td>0.785882</td>\n",
       "      <td>0.828792</td>\n",
       "      <td>0.763266</td>\n",
       "      <td>0.731574</td>\n",
       "    </tr>\n",
       "    <tr>\n",
       "      <th>73</th>\n",
       "      <td>0.775115</td>\n",
       "      <td>0.836409</td>\n",
       "      <td>0.789393</td>\n",
       "      <td>0.789563</td>\n",
       "      <td>0.717571</td>\n",
       "    </tr>\n",
       "  </tbody>\n",
       "</table>\n",
       "</div>"
      ],
      "text/plain": [
       "          It1       It2       It3       It4       It5\n",
       "437  0.892942  0.836704  0.878283   0.90004  0.926059\n",
       "329  0.754585  0.785882  0.828792  0.763266  0.731574\n",
       "73   0.775115  0.836409  0.789393  0.789563  0.717571"
      ]
     },
     "execution_count": 57,
     "metadata": {},
     "output_type": "execute_result"
    }
   ],
   "source": [
    "df_user_sat"
   ]
  },
  {
   "cell_type": "code",
   "execution_count": 58,
   "metadata": {},
   "outputs": [
    {
     "data": {
      "text/html": [
       "<div>\n",
       "<style scoped>\n",
       "    .dataframe tbody tr th:only-of-type {\n",
       "        vertical-align: middle;\n",
       "    }\n",
       "\n",
       "    .dataframe tbody tr th {\n",
       "        vertical-align: top;\n",
       "    }\n",
       "\n",
       "    .dataframe thead th {\n",
       "        text-align: right;\n",
       "    }\n",
       "</style>\n",
       "<table border=\"1\" class=\"dataframe\">\n",
       "  <thead>\n",
       "    <tr style=\"text-align: right;\">\n",
       "      <th></th>\n",
       "      <th>It1</th>\n",
       "      <th>It2</th>\n",
       "      <th>It3</th>\n",
       "      <th>It4</th>\n",
       "      <th>It5</th>\n",
       "    </tr>\n",
       "  </thead>\n",
       "  <tbody>\n",
       "    <tr>\n",
       "      <th>437</th>\n",
       "      <td>0.892942</td>\n",
       "      <td>0.864823</td>\n",
       "      <td>0.86931</td>\n",
       "      <td>0.876992</td>\n",
       "      <td>0.886806</td>\n",
       "    </tr>\n",
       "    <tr>\n",
       "      <th>329</th>\n",
       "      <td>0.754585</td>\n",
       "      <td>0.770233</td>\n",
       "      <td>0.789753</td>\n",
       "      <td>0.783131</td>\n",
       "      <td>0.77282</td>\n",
       "    </tr>\n",
       "    <tr>\n",
       "      <th>73</th>\n",
       "      <td>0.775115</td>\n",
       "      <td>0.805762</td>\n",
       "      <td>0.800306</td>\n",
       "      <td>0.79762</td>\n",
       "      <td>0.78161</td>\n",
       "    </tr>\n",
       "  </tbody>\n",
       "</table>\n",
       "</div>"
      ],
      "text/plain": [
       "          It1       It2       It3       It4       It5\n",
       "437  0.892942  0.864823   0.86931  0.876992  0.886806\n",
       "329  0.754585  0.770233  0.789753  0.783131   0.77282\n",
       "73   0.775115  0.805762  0.800306   0.79762   0.78161"
      ]
     },
     "execution_count": 58,
     "metadata": {},
     "output_type": "execute_result"
    }
   ],
   "source": [
    "# seed == 111\n",
    "df_user_satO"
   ]
  },
  {
   "cell_type": "code",
   "execution_count": 59,
   "metadata": {},
   "outputs": [
    {
     "data": {
      "text/plain": [
       "It1    0.807547\n",
       "It2    0.813606\n",
       "It3    0.819789\n",
       "It4    0.819248\n",
       "It5    0.813745\n",
       "dtype: object"
      ]
     },
     "execution_count": 59,
     "metadata": {},
     "output_type": "execute_result"
    }
   ],
   "source": [
    "df_user_satO.mean()"
   ]
  },
  {
   "cell_type": "code",
   "execution_count": 60,
   "metadata": {},
   "outputs": [
    {
     "data": {
      "text/plain": [
       "[0.1383570854280205,\n",
       " 0.09458940281397665,\n",
       " 0.07955660462807046,\n",
       " 0.09386101801830427,\n",
       " 0.11398575224478924]"
      ]
     },
     "execution_count": 60,
     "metadata": {},
     "output_type": "execute_result"
    }
   ],
   "source": [
    "group_disagreements"
   ]
  }
 ],
 "metadata": {
  "kernelspec": {
   "display_name": "Python 3 (ipykernel)",
   "language": "python",
   "name": "python3"
  },
  "language_info": {
   "codemirror_mode": {
    "name": "ipython",
    "version": 3
   },
   "file_extension": ".py",
   "mimetype": "text/x-python",
   "name": "python",
   "nbconvert_exporter": "python",
   "pygments_lexer": "ipython3",
   "version": "3.10.13"
  }
 },
 "nbformat": 4,
 "nbformat_minor": 2
}
