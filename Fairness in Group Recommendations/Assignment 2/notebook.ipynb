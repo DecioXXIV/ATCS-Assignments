{
 "cells": [
  {
   "cell_type": "code",
   "execution_count": 1,
   "metadata": {},
   "outputs": [],
   "source": [
    "import numpy as np\n",
    "import pandas as pd"
   ]
  },
  {
   "cell_type": "code",
   "execution_count": 2,
   "metadata": {},
   "outputs": [],
   "source": [
    "from similarity import pearson_similarity\n",
    "from predict import prediction_function\n",
    "from group import average_aggregation, least_misery_aggregation, group_recommendation"
   ]
  },
  {
   "cell_type": "code",
   "execution_count": 3,
   "metadata": {},
   "outputs": [],
   "source": [
    "# Constants\n",
    "MAX_NEIGHBORS = 50"
   ]
  },
  {
   "cell_type": "code",
   "execution_count": 4,
   "metadata": {},
   "outputs": [],
   "source": [
    "ratings, movies = pd.read_csv('./datasets/ratings.csv'), pd.read_csv('./datasets/movies.csv')"
   ]
  },
  {
   "cell_type": "code",
   "execution_count": 5,
   "metadata": {},
   "outputs": [
    {
     "name": "stdout",
     "output_type": "stream",
     "text": [
      "Matrix Shape: (610, 9742)\n"
     ]
    }
   ],
   "source": [
    "user_ids = ratings['userId'].unique().tolist()\n",
    "movie_ids = movies['movieId'].unique().tolist()\n",
    "\n",
    "matrix = pd.DataFrame(index=user_ids, columns=movie_ids, dtype=np.float32)\n",
    "\n",
    "for i in range(len(ratings)):\n",
    "    user_id, movie_id, rating = ratings.iloc[i]['userId'], ratings.iloc[i]['movieId'], ratings.iloc[i]['rating']\n",
    "    matrix.at[user_id, movie_id] = rating\n",
    "\n",
    "print(\"Matrix Shape:\", matrix.shape)"
   ]
  },
  {
   "cell_type": "code",
   "execution_count": 6,
   "metadata": {},
   "outputs": [
    {
     "data": {
      "text/html": [
       "<div>\n",
       "<style scoped>\n",
       "    .dataframe tbody tr th:only-of-type {\n",
       "        vertical-align: middle;\n",
       "    }\n",
       "\n",
       "    .dataframe tbody tr th {\n",
       "        vertical-align: top;\n",
       "    }\n",
       "\n",
       "    .dataframe thead th {\n",
       "        text-align: right;\n",
       "    }\n",
       "</style>\n",
       "<table border=\"1\" class=\"dataframe\">\n",
       "  <thead>\n",
       "    <tr style=\"text-align: right;\">\n",
       "      <th></th>\n",
       "      <th>title</th>\n",
       "    </tr>\n",
       "  </thead>\n",
       "  <tbody>\n",
       "    <tr>\n",
       "      <th>1</th>\n",
       "      <td>Toy Story (1995)</td>\n",
       "    </tr>\n",
       "    <tr>\n",
       "      <th>2</th>\n",
       "      <td>Jumanji (1995)</td>\n",
       "    </tr>\n",
       "    <tr>\n",
       "      <th>3</th>\n",
       "      <td>Grumpier Old Men (1995)</td>\n",
       "    </tr>\n",
       "    <tr>\n",
       "      <th>4</th>\n",
       "      <td>Waiting to Exhale (1995)</td>\n",
       "    </tr>\n",
       "    <tr>\n",
       "      <th>5</th>\n",
       "      <td>Father of the Bride Part II (1995)</td>\n",
       "    </tr>\n",
       "  </tbody>\n",
       "</table>\n",
       "</div>"
      ],
      "text/plain": [
       "                                title\n",
       "1                    Toy Story (1995)\n",
       "2                      Jumanji (1995)\n",
       "3             Grumpier Old Men (1995)\n",
       "4            Waiting to Exhale (1995)\n",
       "5  Father of the Bride Part II (1995)"
      ]
     },
     "execution_count": 6,
     "metadata": {},
     "output_type": "execute_result"
    }
   ],
   "source": [
    "movie_map = pd.DataFrame(data=movies['title'].values, index=movies['movieId'].values, columns=['title'])\n",
    "movie_map.head()"
   ]
  },
  {
   "cell_type": "code",
   "execution_count": 7,
   "metadata": {},
   "outputs": [
    {
     "name": "stdout",
     "output_type": "stream",
     "text": [
      "[11, 23, 249]\n"
     ]
    },
    {
     "data": {
      "text/plain": [
       "607"
      ]
     },
     "execution_count": 7,
     "metadata": {},
     "output_type": "execute_result"
    }
   ],
   "source": [
    "# group = np.random.randint(low=0, high=len(user_ids)+1, size=3).tolist()\n",
    "group = [11, 23, 249]\n",
    "print(group)\n",
    "other_users = [u for u in user_ids if u not in group]\n",
    "len(other_users)"
   ]
  },
  {
   "cell_type": "code",
   "execution_count": 8,
   "metadata": {},
   "outputs": [],
   "source": [
    "list_of_similarities = list()\n",
    "for user in group:\n",
    "    list_of_similarities.append(dict())"
   ]
  },
  {
   "cell_type": "code",
   "execution_count": 9,
   "metadata": {},
   "outputs": [],
   "source": [
    "for u in other_users:\n",
    "    for dictionary, input_user in zip(list_of_similarities, group):\n",
    "        dictionary[u] = pearson_similarity(matrix, input_user, u)"
   ]
  },
  {
   "cell_type": "code",
   "execution_count": 10,
   "metadata": {},
   "outputs": [],
   "source": [
    "for i in range(0, len(list_of_similarities)):\n",
    "    similarities = list_of_similarities.pop(i)\n",
    "    similarities = {k: v for k, v in sorted(similarities.items(), key=lambda item: item[1], reverse=True)}\n",
    "    similarities = dict(list(similarities.items())[:MAX_NEIGHBORS])\n",
    "    list_of_similarities.insert(i, similarities)"
   ]
  },
  {
   "cell_type": "code",
   "execution_count": 11,
   "metadata": {},
   "outputs": [],
   "source": [
    "list_of_scores = list()"
   ]
  },
  {
   "cell_type": "code",
   "execution_count": 12,
   "metadata": {},
   "outputs": [],
   "source": [
    "for i in range(0, len(group)):\n",
    "    scores = prediction_function(matrix, group[i], list_of_similarities[i], matrix.shape[1])\n",
    "    list_of_scores.append(scores)"
   ]
  },
  {
   "cell_type": "code",
   "execution_count": 13,
   "metadata": {},
   "outputs": [],
   "source": [
    "avg_matrix = average_aggregation(list_of_scores)\n",
    "lm_matrix = least_misery_aggregation(list_of_scores)"
   ]
  },
  {
   "cell_type": "code",
   "execution_count": 14,
   "metadata": {},
   "outputs": [],
   "source": [
    "recs_avg = group_recommendation(avg_matrix, movie_map, matrix.shape[1])\n",
    "recs_lm = group_recommendation(lm_matrix, movie_map, matrix.shape[1])"
   ]
  },
  {
   "cell_type": "code",
   "execution_count": 20,
   "metadata": {},
   "outputs": [
    {
     "name": "stdout",
     "output_type": "stream",
     "text": [
      "Movie: Jaws (1975) -> Score: 5.00259\n",
      "Movie: Singin' in the Rain (1952) -> Score: 4.98816\n",
      "Movie: Traffic (2000) -> Score: 4.97833\n",
      "Movie: Tangled (2010) -> Score: 4.86329\n",
      "Movie: Raising Arizona (1987) -> Score: 4.85759\n",
      "Movie: Pinocchio (1940) -> Score: 4.83803\n",
      "Movie: Young Frankenstein (1974) -> Score: 4.79752\n",
      "Movie: Dead Poets Society (1989) -> Score: 4.77201\n",
      "Movie: Bridge on the River Kwai, The (1957) -> Score: 4.76807\n",
      "Movie: Close Encounters of the Third Kind (1977) -> Score: 4.75357\n"
     ]
    }
   ],
   "source": [
    "i = 0\n",
    "for k, v in recs_avg.items():\n",
    "    if i == 10:\n",
    "        break\n",
    "    else:\n",
    "        print(f\"Movie: {k} -> Score: {v:.5f}\")\n",
    "        i += 1"
   ]
  },
  {
   "cell_type": "code",
   "execution_count": 21,
   "metadata": {},
   "outputs": [
    {
     "name": "stdout",
     "output_type": "stream",
     "text": [
      "Movie: Traffic (2000) -> Score: 4.85268\n",
      "Movie: Singin' in the Rain (1952) -> Score: 4.68310\n",
      "Movie: Tangled (2010) -> Score: 4.57717\n",
      "Movie: Wallace & Gromit: The Wrong Trousers (1993) -> Score: 4.55361\n",
      "Movie: True Romance (1993) -> Score: 4.52735\n",
      "Movie: 50 First Dates (2004) -> Score: 4.52219\n",
      "Movie: Insider, The (1999) -> Score: 4.49932\n",
      "Movie: Dead Poets Society (1989) -> Score: 4.47424\n",
      "Movie: Dead Alive (Braindead) (1992) -> Score: 4.47134\n",
      "Movie: Day of the Dead (1985) -> Score: 4.47134\n"
     ]
    }
   ],
   "source": [
    "i = 0\n",
    "for k, v in recs_lm.items():\n",
    "    if i == 10:\n",
    "        break\n",
    "    else:\n",
    "        print(f\"Movie: {k} -> Score: {v:.5f}\")\n",
    "        i += 1"
   ]
  },
  {
   "cell_type": "code",
   "execution_count": 17,
   "metadata": {},
   "outputs": [],
   "source": [
    "# Definire un'altra disciplina di aggregazione delle preferenze"
   ]
  },
  {
   "cell_type": "code",
   "execution_count": 18,
   "metadata": {},
   "outputs": [],
   "source": [
    "# Valutare (con Kendall-Tau) la fairness delle raccomandazioni"
   ]
  }
 ],
 "metadata": {
  "kernelspec": {
   "display_name": "Python 3 (ipykernel)",
   "language": "python",
   "name": "python3"
  },
  "language_info": {
   "codemirror_mode": {
    "name": "ipython",
    "version": 3
   },
   "file_extension": ".py",
   "mimetype": "text/x-python",
   "name": "python",
   "nbconvert_exporter": "python",
   "pygments_lexer": "ipython3",
   "version": "3.10.13"
  }
 },
 "nbformat": 4,
 "nbformat_minor": 2
}
