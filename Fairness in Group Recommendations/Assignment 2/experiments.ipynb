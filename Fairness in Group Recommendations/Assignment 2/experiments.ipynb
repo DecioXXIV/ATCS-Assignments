{
 "cells": [
  {
   "cell_type": "code",
   "execution_count": 1,
   "metadata": {},
   "outputs": [],
   "source": [
    "import numpy as np\n",
    "import pandas as pd\n",
    "\n",
    "from similarity import pearson_similarity\n",
    "from predict import prediction_function\n",
    "from group import average_aggregation, least_misery_aggregation, weighted_disagreements_aggregation, group_recommendation\n",
    "from evaluate import kendalltau_distance"
   ]
  },
  {
   "cell_type": "code",
   "execution_count": 2,
   "metadata": {},
   "outputs": [],
   "source": [
    "# Constants\n",
    "MAX_NEIGHBORS = 50          # ~ 2*np.sqrt(num_users)"
   ]
  },
  {
   "cell_type": "markdown",
   "metadata": {},
   "source": [
    "# Preprocessing\n",
    "Creation of the \"User-Item\" Matrix and the \"Movie_Map\" DataFrame"
   ]
  },
  {
   "cell_type": "code",
   "execution_count": 3,
   "metadata": {},
   "outputs": [],
   "source": [
    "ratings, movies = pd.read_csv('./datasets/ratings.csv'), pd.read_csv('./datasets/movies.csv')"
   ]
  },
  {
   "cell_type": "code",
   "execution_count": 4,
   "metadata": {},
   "outputs": [
    {
     "name": "stdout",
     "output_type": "stream",
     "text": [
      "Matrix Shape: (610, 9742)\n"
     ]
    }
   ],
   "source": [
    "user_ids = ratings['userId'].unique().tolist()\n",
    "movie_ids = movies['movieId'].unique().tolist()\n",
    "\n",
    "matrix = pd.DataFrame(index=user_ids, columns=movie_ids, dtype=np.float32)\n",
    "\n",
    "for i in range(len(ratings)):\n",
    "    user_id, movie_id, rating = ratings.iloc[i]['userId'], ratings.iloc[i]['movieId'], ratings.iloc[i]['rating']\n",
    "    matrix.at[user_id, movie_id] = rating\n",
    "\n",
    "print(\"Matrix Shape:\", matrix.shape)"
   ]
  },
  {
   "cell_type": "code",
   "execution_count": 5,
   "metadata": {},
   "outputs": [
    {
     "data": {
      "text/html": [
       "<div>\n",
       "<style scoped>\n",
       "    .dataframe tbody tr th:only-of-type {\n",
       "        vertical-align: middle;\n",
       "    }\n",
       "\n",
       "    .dataframe tbody tr th {\n",
       "        vertical-align: top;\n",
       "    }\n",
       "\n",
       "    .dataframe thead th {\n",
       "        text-align: right;\n",
       "    }\n",
       "</style>\n",
       "<table border=\"1\" class=\"dataframe\">\n",
       "  <thead>\n",
       "    <tr style=\"text-align: right;\">\n",
       "      <th></th>\n",
       "      <th>1</th>\n",
       "      <th>2</th>\n",
       "      <th>3</th>\n",
       "      <th>4</th>\n",
       "      <th>5</th>\n",
       "      <th>6</th>\n",
       "      <th>7</th>\n",
       "      <th>8</th>\n",
       "      <th>9</th>\n",
       "      <th>10</th>\n",
       "      <th>...</th>\n",
       "      <th>193565</th>\n",
       "      <th>193567</th>\n",
       "      <th>193571</th>\n",
       "      <th>193573</th>\n",
       "      <th>193579</th>\n",
       "      <th>193581</th>\n",
       "      <th>193583</th>\n",
       "      <th>193585</th>\n",
       "      <th>193587</th>\n",
       "      <th>193609</th>\n",
       "    </tr>\n",
       "  </thead>\n",
       "  <tbody>\n",
       "    <tr>\n",
       "      <th>1</th>\n",
       "      <td>4.0</td>\n",
       "      <td>NaN</td>\n",
       "      <td>4.0</td>\n",
       "      <td>NaN</td>\n",
       "      <td>NaN</td>\n",
       "      <td>4.0</td>\n",
       "      <td>NaN</td>\n",
       "      <td>NaN</td>\n",
       "      <td>NaN</td>\n",
       "      <td>NaN</td>\n",
       "      <td>...</td>\n",
       "      <td>NaN</td>\n",
       "      <td>NaN</td>\n",
       "      <td>NaN</td>\n",
       "      <td>NaN</td>\n",
       "      <td>NaN</td>\n",
       "      <td>NaN</td>\n",
       "      <td>NaN</td>\n",
       "      <td>NaN</td>\n",
       "      <td>NaN</td>\n",
       "      <td>NaN</td>\n",
       "    </tr>\n",
       "    <tr>\n",
       "      <th>2</th>\n",
       "      <td>NaN</td>\n",
       "      <td>NaN</td>\n",
       "      <td>NaN</td>\n",
       "      <td>NaN</td>\n",
       "      <td>NaN</td>\n",
       "      <td>NaN</td>\n",
       "      <td>NaN</td>\n",
       "      <td>NaN</td>\n",
       "      <td>NaN</td>\n",
       "      <td>NaN</td>\n",
       "      <td>...</td>\n",
       "      <td>NaN</td>\n",
       "      <td>NaN</td>\n",
       "      <td>NaN</td>\n",
       "      <td>NaN</td>\n",
       "      <td>NaN</td>\n",
       "      <td>NaN</td>\n",
       "      <td>NaN</td>\n",
       "      <td>NaN</td>\n",
       "      <td>NaN</td>\n",
       "      <td>NaN</td>\n",
       "    </tr>\n",
       "    <tr>\n",
       "      <th>3</th>\n",
       "      <td>NaN</td>\n",
       "      <td>NaN</td>\n",
       "      <td>NaN</td>\n",
       "      <td>NaN</td>\n",
       "      <td>NaN</td>\n",
       "      <td>NaN</td>\n",
       "      <td>NaN</td>\n",
       "      <td>NaN</td>\n",
       "      <td>NaN</td>\n",
       "      <td>NaN</td>\n",
       "      <td>...</td>\n",
       "      <td>NaN</td>\n",
       "      <td>NaN</td>\n",
       "      <td>NaN</td>\n",
       "      <td>NaN</td>\n",
       "      <td>NaN</td>\n",
       "      <td>NaN</td>\n",
       "      <td>NaN</td>\n",
       "      <td>NaN</td>\n",
       "      <td>NaN</td>\n",
       "      <td>NaN</td>\n",
       "    </tr>\n",
       "    <tr>\n",
       "      <th>4</th>\n",
       "      <td>NaN</td>\n",
       "      <td>NaN</td>\n",
       "      <td>NaN</td>\n",
       "      <td>NaN</td>\n",
       "      <td>NaN</td>\n",
       "      <td>NaN</td>\n",
       "      <td>NaN</td>\n",
       "      <td>NaN</td>\n",
       "      <td>NaN</td>\n",
       "      <td>NaN</td>\n",
       "      <td>...</td>\n",
       "      <td>NaN</td>\n",
       "      <td>NaN</td>\n",
       "      <td>NaN</td>\n",
       "      <td>NaN</td>\n",
       "      <td>NaN</td>\n",
       "      <td>NaN</td>\n",
       "      <td>NaN</td>\n",
       "      <td>NaN</td>\n",
       "      <td>NaN</td>\n",
       "      <td>NaN</td>\n",
       "    </tr>\n",
       "    <tr>\n",
       "      <th>5</th>\n",
       "      <td>4.0</td>\n",
       "      <td>NaN</td>\n",
       "      <td>NaN</td>\n",
       "      <td>NaN</td>\n",
       "      <td>NaN</td>\n",
       "      <td>NaN</td>\n",
       "      <td>NaN</td>\n",
       "      <td>NaN</td>\n",
       "      <td>NaN</td>\n",
       "      <td>NaN</td>\n",
       "      <td>...</td>\n",
       "      <td>NaN</td>\n",
       "      <td>NaN</td>\n",
       "      <td>NaN</td>\n",
       "      <td>NaN</td>\n",
       "      <td>NaN</td>\n",
       "      <td>NaN</td>\n",
       "      <td>NaN</td>\n",
       "      <td>NaN</td>\n",
       "      <td>NaN</td>\n",
       "      <td>NaN</td>\n",
       "    </tr>\n",
       "  </tbody>\n",
       "</table>\n",
       "<p>5 rows × 9742 columns</p>\n",
       "</div>"
      ],
      "text/plain": [
       "   1       2       3       4       5       6       7       8       9       \\\n",
       "1     4.0     NaN     4.0     NaN     NaN     4.0     NaN     NaN     NaN   \n",
       "2     NaN     NaN     NaN     NaN     NaN     NaN     NaN     NaN     NaN   \n",
       "3     NaN     NaN     NaN     NaN     NaN     NaN     NaN     NaN     NaN   \n",
       "4     NaN     NaN     NaN     NaN     NaN     NaN     NaN     NaN     NaN   \n",
       "5     4.0     NaN     NaN     NaN     NaN     NaN     NaN     NaN     NaN   \n",
       "\n",
       "   10      ...  193565  193567  193571  193573  193579  193581  193583  \\\n",
       "1     NaN  ...     NaN     NaN     NaN     NaN     NaN     NaN     NaN   \n",
       "2     NaN  ...     NaN     NaN     NaN     NaN     NaN     NaN     NaN   \n",
       "3     NaN  ...     NaN     NaN     NaN     NaN     NaN     NaN     NaN   \n",
       "4     NaN  ...     NaN     NaN     NaN     NaN     NaN     NaN     NaN   \n",
       "5     NaN  ...     NaN     NaN     NaN     NaN     NaN     NaN     NaN   \n",
       "\n",
       "   193585  193587  193609  \n",
       "1     NaN     NaN     NaN  \n",
       "2     NaN     NaN     NaN  \n",
       "3     NaN     NaN     NaN  \n",
       "4     NaN     NaN     NaN  \n",
       "5     NaN     NaN     NaN  \n",
       "\n",
       "[5 rows x 9742 columns]"
      ]
     },
     "execution_count": 5,
     "metadata": {},
     "output_type": "execute_result"
    }
   ],
   "source": [
    "matrix.head()"
   ]
  },
  {
   "cell_type": "code",
   "execution_count": 6,
   "metadata": {},
   "outputs": [
    {
     "data": {
      "text/html": [
       "<div>\n",
       "<style scoped>\n",
       "    .dataframe tbody tr th:only-of-type {\n",
       "        vertical-align: middle;\n",
       "    }\n",
       "\n",
       "    .dataframe tbody tr th {\n",
       "        vertical-align: top;\n",
       "    }\n",
       "\n",
       "    .dataframe thead th {\n",
       "        text-align: right;\n",
       "    }\n",
       "</style>\n",
       "<table border=\"1\" class=\"dataframe\">\n",
       "  <thead>\n",
       "    <tr style=\"text-align: right;\">\n",
       "      <th></th>\n",
       "      <th>title</th>\n",
       "    </tr>\n",
       "  </thead>\n",
       "  <tbody>\n",
       "    <tr>\n",
       "      <th>1</th>\n",
       "      <td>Toy Story (1995)</td>\n",
       "    </tr>\n",
       "    <tr>\n",
       "      <th>2</th>\n",
       "      <td>Jumanji (1995)</td>\n",
       "    </tr>\n",
       "    <tr>\n",
       "      <th>3</th>\n",
       "      <td>Grumpier Old Men (1995)</td>\n",
       "    </tr>\n",
       "    <tr>\n",
       "      <th>4</th>\n",
       "      <td>Waiting to Exhale (1995)</td>\n",
       "    </tr>\n",
       "    <tr>\n",
       "      <th>5</th>\n",
       "      <td>Father of the Bride Part II (1995)</td>\n",
       "    </tr>\n",
       "  </tbody>\n",
       "</table>\n",
       "</div>"
      ],
      "text/plain": [
       "                                title\n",
       "1                    Toy Story (1995)\n",
       "2                      Jumanji (1995)\n",
       "3             Grumpier Old Men (1995)\n",
       "4            Waiting to Exhale (1995)\n",
       "5  Father of the Bride Part II (1995)"
      ]
     },
     "execution_count": 6,
     "metadata": {},
     "output_type": "execute_result"
    }
   ],
   "source": [
    "movie_map = pd.DataFrame(data=movies['title'].values, index=movies['movieId'].values, columns=['title'])\n",
    "movie_map.head()"
   ]
  },
  {
   "cell_type": "markdown",
   "metadata": {},
   "source": [
    "# Experiment\n",
    "The following codeblocks will implement an approach of $\\textit{User-Based Collaborative Filtering}$ to obtain movie recommendations for a group composed by 3 Users."
   ]
  },
  {
   "cell_type": "code",
   "execution_count": 7,
   "metadata": {},
   "outputs": [],
   "source": [
    "group = [11, 23, 249]"
   ]
  },
  {
   "cell_type": "markdown",
   "metadata": {},
   "source": [
    "### Similarities Computation\n",
    "For each user in the group, it's now necessary to compute the similarities between all the other users and the current user himself.\n",
    "\n",
    "The similarity between the Input User $i$ and another User $x$ is computed with the Pearson Similarity. The set $P$ contains all the \"already-seen\" movies for both the considered Users ($i$ and $x$).\n",
    "$$\\text{pearson-sim}(i,x) = \\displaystyle\\frac{\\sum_{p\\in P}[(r_{i,p}-\\overline{r}_i)\\cdot(r_{x,p}-\\overline{r}_x)]}{\\sqrt{\\sum_{p\\in P}(r_{i,p}-\\overline{r}_i)^2}\\cdot\\sqrt{\\sum_{p\\in P}(r_{x,p}-\\overline{r}_x)^2}}$$"
   ]
  },
  {
   "cell_type": "code",
   "execution_count": 9,
   "metadata": {},
   "outputs": [],
   "source": [
    "list_of_similarities = list()\n",
    "\n",
    "for user in group:\n",
    "    dictionary = dict()\n",
    "\n",
    "    other_users = [u for u in user_ids if u != user]\n",
    "    for u in other_users:\n",
    "        dictionary[u] = pearson_similarity(matrix, user, u)\n",
    "\n",
    "    list_of_similarities.append(dictionary)"
   ]
  },
  {
   "cell_type": "markdown",
   "metadata": {},
   "source": [
    "To compute recommendations for each user, we take in account a neighborhood of 50 Users...who are the Users regarded as \"the most similar\" to the current Input User."
   ]
  },
  {
   "cell_type": "code",
   "execution_count": 10,
   "metadata": {},
   "outputs": [],
   "source": [
    "for i in range(0, len(list_of_similarities)):\n",
    "    similarities = list_of_similarities.pop(i)\n",
    "    similarities = {k: v for k, v in sorted(similarities.items(), key=lambda item: item[1], reverse=True)}\n",
    "    similarities = dict(list(similarities.items())[:MAX_NEIGHBORS])\n",
    "    list_of_similarities.insert(i, similarities)"
   ]
  },
  {
   "cell_type": "markdown",
   "metadata": {},
   "source": [
    "## Score Computation\n",
    "It's now time to compute the recommendations for each User of the group. In this first step of computation, each User is considered as isolated from the group."
   ]
  },
  {
   "cell_type": "code",
   "execution_count": 11,
   "metadata": {},
   "outputs": [],
   "source": [
    "list_of_scores = list()"
   ]
  },
  {
   "cell_type": "code",
   "execution_count": 12,
   "metadata": {},
   "outputs": [],
   "source": [
    "for i in range(0, len(group)):\n",
    "    scores = prediction_function(matrix, group[i], list_of_similarities[i], matrix.shape[1])\n",
    "    list_of_scores.append(scores)"
   ]
  },
  {
   "cell_type": "markdown",
   "metadata": {},
   "source": [
    "### Scores Aggregation\n",
    "We predicted for each User the Scores related to his \"not-yet-seen\" movies. It's now time to aggregate this predicted Scores to obtain the predicted Scores for the group."
   ]
  },
  {
   "cell_type": "markdown",
   "metadata": {},
   "source": [
    "#### First Aggregation Function: Average\n",
    "The \"group Score\" for a specific Item is computed as the average of the Scores predicted for the Users for such Item.\n",
    "\n",
    "$$avg(i) = \\displaystyle\\frac{\\sum_{u\\in G}[score(u,i)]}{|G|}$$"
   ]
  },
  {
   "cell_type": "code",
   "execution_count": 13,
   "metadata": {},
   "outputs": [],
   "source": [
    "avg_matrix = average_aggregation(list_of_scores)"
   ]
  },
  {
   "cell_type": "code",
   "execution_count": 25,
   "metadata": {},
   "outputs": [
    {
     "name": "stdout",
     "output_type": "stream",
     "text": [
      "TOP 10 RECOMMENDED MOVIES FOR THE GROUP WITH 'AVERAGE' AGGREGATION OF PREFERENCES:\n",
      "\n",
      "Movie: Jaws (1975) -> Score: 5.00259\n",
      "Movie: Singin' in the Rain (1952) -> Score: 4.98816\n",
      "Movie: Traffic (2000) -> Score: 4.97833\n",
      "Movie: Tangled (2010) -> Score: 4.86329\n",
      "Movie: Raising Arizona (1987) -> Score: 4.85759\n",
      "Movie: Pinocchio (1940) -> Score: 4.83803\n",
      "Movie: Young Frankenstein (1974) -> Score: 4.79752\n",
      "Movie: Dead Poets Society (1989) -> Score: 4.77201\n",
      "Movie: Bridge on the River Kwai, The (1957) -> Score: 4.76807\n",
      "Movie: Close Encounters of the Third Kind (1977) -> Score: 4.75357\n"
     ]
    }
   ],
   "source": [
    "recs_avg = group_recommendation(avg_matrix, movie_map, matrix.shape[1])\n",
    "\n",
    "i = 0\n",
    "print(\"TOP 10 RECOMMENDED MOVIES FOR THE GROUP WITH 'AVERAGE' AGGREGATION OF PREFERENCES:\\n\")\n",
    "for k, v in recs_avg.items():\n",
    "    if i == 10:\n",
    "        break\n",
    "    else:\n",
    "        print(f\"Movie: {k} -> Score: {v:.5f}\")\n",
    "        i += 1"
   ]
  },
  {
   "cell_type": "markdown",
   "metadata": {},
   "source": [
    "#### Second Aggregation Function: Least Misery\n",
    "The \"group Score\" for a specific Item corresponds to the minimum Score predicted for the Users for such Item.\n",
    "$$\\text{least-misery}(i)=min_{u\\in G}[score(u,i)]$$"
   ]
  },
  {
   "cell_type": "code",
   "execution_count": 17,
   "metadata": {},
   "outputs": [],
   "source": [
    "lm_matrix = least_misery_aggregation(list_of_scores)"
   ]
  },
  {
   "cell_type": "code",
   "execution_count": 26,
   "metadata": {},
   "outputs": [
    {
     "name": "stdout",
     "output_type": "stream",
     "text": [
      "TOP 10 RECOMMENDED MOVIES FOR THE GROUP WITH 'LEAST MISERY' AGGREGATION OF PREFERENCES:\n",
      "\n",
      "Movie: Traffic (2000) -> Score: 4.85268\n",
      "Movie: Singin' in the Rain (1952) -> Score: 4.68310\n",
      "Movie: Tangled (2010) -> Score: 4.57717\n",
      "Movie: Wallace & Gromit: The Wrong Trousers (1993) -> Score: 4.55361\n",
      "Movie: True Romance (1993) -> Score: 4.52735\n",
      "Movie: 50 First Dates (2004) -> Score: 4.52219\n",
      "Movie: Insider, The (1999) -> Score: 4.49932\n",
      "Movie: Dead Poets Society (1989) -> Score: 4.47424\n",
      "Movie: Dead Alive (Braindead) (1992) -> Score: 4.47134\n",
      "Movie: Day of the Dead (1985) -> Score: 4.47134\n"
     ]
    }
   ],
   "source": [
    "recs_lm = group_recommendation(lm_matrix, movie_map, matrix.shape[1])\n",
    "\n",
    "i = 0\n",
    "print(\"TOP 10 RECOMMENDED MOVIES FOR THE GROUP WITH 'LEAST MISERY' AGGREGATION OF PREFERENCES:\\n\")\n",
    "for k, v in recs_lm.items():\n",
    "    if i == 10:\n",
    "        break\n",
    "    else:\n",
    "        print(f\"Movie: {k} -> Score: {v:.5f}\")\n",
    "        i += 1"
   ]
  },
  {
   "cell_type": "markdown",
   "metadata": {},
   "source": [
    "#### Third Aggregation Function: Weighted Disagreements Sum\n",
    "The \"group Score\" for a specific Item takes is account all the pairwise disagreements between the Group members for that Item.\n",
    "\n",
    "$$\\text{pairwise-dis}(a,b,i) = 1 + |score(a,i)-score(b,i)|$$"
   ]
  },
  {
   "cell_type": "markdown",
   "metadata": {},
   "source": [
    "$$\\text{weighted-disagreements}(i) = \\displaystyle\\frac{\\sum_{(a,b)\\in C^G_2}[\\text{pairwise-dis}(a,b,i)\\cdot(\\displaystyle\\frac{score(a,i)+score(b,i)}{2})]}{\\sum_{(a,b)\\in C^G_2}[\\text{pairwise-dis}(a,b,i)]}$$"
   ]
  },
  {
   "cell_type": "code",
   "execution_count": 20,
   "metadata": {},
   "outputs": [],
   "source": [
    "wd_matrix = weighted_disagreements_aggregation(list_of_scores)"
   ]
  },
  {
   "cell_type": "code",
   "execution_count": 27,
   "metadata": {},
   "outputs": [
    {
     "name": "stdout",
     "output_type": "stream",
     "text": [
      "TOP 10 RECOMMENDED MOVIES FOR THE GROUP WITH 'WEIGHTED DISAGREEMENTS SUM' AGGREGATION OF PREFERENCES:\n",
      "\n",
      "Movie: Traffic (2000) -> Score: 4.98354\n",
      "Movie: Singin' in the Rain (1952) -> Score: 4.97253\n",
      "Movie: Jaws (1975) -> Score: 4.91389\n",
      "Movie: Tangled (2010) -> Score: 4.89246\n",
      "Movie: Raising Arizona (1987) -> Score: 4.87993\n",
      "Movie: Pinocchio (1940) -> Score: 4.83456\n",
      "Movie: I Am Sam (2001) -> Score: 4.81579\n",
      "Movie: Young Frankenstein (1974) -> Score: 4.77009\n",
      "Movie: Dead Poets Society (1989) -> Score: 4.76148\n",
      "Movie: True Romance (1993) -> Score: 4.75097\n"
     ]
    }
   ],
   "source": [
    "recs_wd = group_recommendation(wd_matrix, movie_map, matrix.shape[1])\n",
    "\n",
    "i = 0\n",
    "print(\"TOP 10 RECOMMENDED MOVIES FOR THE GROUP WITH 'WEIGHTED DISAGREEMENTS SUM' AGGREGATION OF PREFERENCES:\\n\")\n",
    "for k, v in recs_wd.items():\n",
    "    if i == 10:\n",
    "        break\n",
    "    else:\n",
    "        print(f\"Movie: {k} -> Score: {v:.5f}\")\n",
    "        i += 1"
   ]
  },
  {
   "cell_type": "markdown",
   "metadata": {},
   "source": [
    "# Evaluation\n",
    "The Evaluation of the proposed experiments takes in account the differences between the Group Recommendations and the Recommendations computed for each User when considered as isolated from the Group.\n",
    "\n",
    "A good Group Recommendation approach minimizes the sum of $\\textit{Kendall-Tau Distances}$ between the Group Ranking and the Rankings of each member: given two rankings, the $\\textit{Kendall-Tau Distance}$ counts the number of $\\textit{pairwise disagreements}$ between the two rankings.\n",
    "\n",
    "Example, suppose that within the First Ranking, \"Item1\" is ranked better than \"Item2\": if in the Second Ranking \"Item2\" is ranked better than \"Item1\" there is a $\\textit{pairwise disagreement}$ between Ranking 1 and Ranking 2."
   ]
  },
  {
   "cell_type": "code",
   "execution_count": 28,
   "metadata": {},
   "outputs": [],
   "source": [
    "columns = ['KendallTau_AVG', 'KendallTau_AVG%', 'KendallTau_LM', 'KendallTau_LM%', 'KendallTau_WD', 'KendallTau_WD%']\n",
    "index = [u for u in group]\n",
    "\n",
    "evals = pd.DataFrame(index=index, columns=columns)"
   ]
  },
  {
   "cell_type": "code",
   "execution_count": 29,
   "metadata": {},
   "outputs": [],
   "source": [
    "for i in range(0, len(group)):\n",
    "    user = group[i]\n",
    "\n",
    "    kt_avg = kendalltau_distance(list_of_scores[i], avg_matrix)\n",
    "    evals.at[user, 'KendallTau_AVG'] = kt_avg\n",
    "\n",
    "    kt_lm = kendalltau_distance(list_of_scores[i], lm_matrix)\n",
    "    evals.at[user, 'KendallTau_LM'] = kt_lm\n",
    "\n",
    "    kt_wd = kendalltau_distance(list_of_scores[i], wd_matrix)\n",
    "    evals.at[user, 'KendallTau_WD'] = kt_wd\n",
    "\n",
    "    evals.at[user, 'KendallTau_AVG%'] = kt_avg / (len(avg_matrix)*(len(avg_matrix)-1)/2)\n",
    "    evals.at[user, 'KendallTau_LM%'] = kt_lm / (len(lm_matrix)*(len(lm_matrix)-1)/2)\n",
    "    evals.at[user, 'KendallTau_WD%'] = kt_wd / (len(wd_matrix)*(len(wd_matrix)-1)/2)"
   ]
  },
  {
   "cell_type": "code",
   "execution_count": 30,
   "metadata": {},
   "outputs": [
    {
     "data": {
      "text/html": [
       "<div>\n",
       "<style scoped>\n",
       "    .dataframe tbody tr th:only-of-type {\n",
       "        vertical-align: middle;\n",
       "    }\n",
       "\n",
       "    .dataframe tbody tr th {\n",
       "        vertical-align: top;\n",
       "    }\n",
       "\n",
       "    .dataframe thead th {\n",
       "        text-align: right;\n",
       "    }\n",
       "</style>\n",
       "<table border=\"1\" class=\"dataframe\">\n",
       "  <thead>\n",
       "    <tr style=\"text-align: right;\">\n",
       "      <th></th>\n",
       "      <th>KendallTau_AVG</th>\n",
       "      <th>KendallTau_AVG%</th>\n",
       "      <th>KendallTau_LM</th>\n",
       "      <th>KendallTau_LM%</th>\n",
       "      <th>KendallTau_WD</th>\n",
       "      <th>KendallTau_WD%</th>\n",
       "    </tr>\n",
       "  </thead>\n",
       "  <tbody>\n",
       "    <tr>\n",
       "      <th>11</th>\n",
       "      <td>6453145</td>\n",
       "      <td>0.175379</td>\n",
       "      <td>7320854</td>\n",
       "      <td>0.198961</td>\n",
       "      <td>6442313</td>\n",
       "      <td>0.175085</td>\n",
       "    </tr>\n",
       "    <tr>\n",
       "      <th>23</th>\n",
       "      <td>6999460</td>\n",
       "      <td>0.190227</td>\n",
       "      <td>6792105</td>\n",
       "      <td>0.184591</td>\n",
       "      <td>7035990</td>\n",
       "      <td>0.19122</td>\n",
       "    </tr>\n",
       "    <tr>\n",
       "      <th>249</th>\n",
       "      <td>7242318</td>\n",
       "      <td>0.196827</td>\n",
       "      <td>6692215</td>\n",
       "      <td>0.181877</td>\n",
       "      <td>7267342</td>\n",
       "      <td>0.197507</td>\n",
       "    </tr>\n",
       "  </tbody>\n",
       "</table>\n",
       "</div>"
      ],
      "text/plain": [
       "    KendallTau_AVG KendallTau_AVG% KendallTau_LM KendallTau_LM% KendallTau_WD  \\\n",
       "11         6453145        0.175379       7320854       0.198961       6442313   \n",
       "23         6999460        0.190227       6792105       0.184591       7035990   \n",
       "249        7242318        0.196827       6692215       0.181877       7267342   \n",
       "\n",
       "    KendallTau_WD%  \n",
       "11        0.175085  \n",
       "23         0.19122  \n",
       "249       0.197507  "
      ]
     },
     "execution_count": 30,
     "metadata": {},
     "output_type": "execute_result"
    }
   ],
   "source": [
    "evals"
   ]
  },
  {
   "cell_type": "markdown",
   "metadata": {},
   "source": [
    "The percentual values for each $\\textit{Kendall Tau Distance}$ are computed as described:\n",
    "$$KendallTau\\%=\\displaystyle\\frac{KendallTauDistance}{|\\text{Pairs}|}$$"
   ]
  }
 ],
 "metadata": {
  "kernelspec": {
   "display_name": "Python 3 (ipykernel)",
   "language": "python",
   "name": "python3"
  },
  "language_info": {
   "codemirror_mode": {
    "name": "ipython",
    "version": 3
   },
   "file_extension": ".py",
   "mimetype": "text/x-python",
   "name": "python",
   "nbconvert_exporter": "python",
   "pygments_lexer": "ipython3",
   "version": "3.10.13"
  }
 },
 "nbformat": 4,
 "nbformat_minor": 2
}
