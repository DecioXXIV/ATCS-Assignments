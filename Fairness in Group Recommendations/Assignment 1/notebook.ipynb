{
 "cells": [
  {
   "cell_type": "code",
   "execution_count": 1,
   "metadata": {},
   "outputs": [],
   "source": [
    "import numpy as np\n",
    "import pandas as pd\n",
    "\n",
    "from preprocessing import get_matrix, get_movie_map\n",
    "from similarity import pearson_similarity, weighted_pearson_similarity, norm_weights\n",
    "from predict import recommend_movies"
   ]
  },
  {
   "cell_type": "code",
   "execution_count": 2,
   "metadata": {},
   "outputs": [],
   "source": [
    "MAX_NEIGHBORS, MAX_RECOMMENDATIONS = 10, 10"
   ]
  },
  {
   "cell_type": "code",
   "execution_count": 3,
   "metadata": {},
   "outputs": [],
   "source": [
    "# Dataset Preprocessing\n",
    "ratings, movies = pd.read_csv('./datasets/ratings.csv'), pd.read_csv('./datasets/movies.csv')\n",
    "\n",
    "matrix, movie_map = get_matrix(ratings, movies), get_movie_map(movies)"
   ]
  },
  {
   "cell_type": "code",
   "execution_count": 4,
   "metadata": {},
   "outputs": [
    {
     "name": "stdout",
     "output_type": "stream",
     "text": [
      "Input User = 4\n"
     ]
    }
   ],
   "source": [
    "input_user = np.random.randint(low=1, high=matrix.shape[0]+1)\n",
    "other_users = [u for u in matrix.index.tolist() if u != input_user]\n",
    "\n",
    "print(\"Input User =\", input_user)"
   ]
  },
  {
   "cell_type": "markdown",
   "metadata": {},
   "source": [
    "# First Execution"
   ]
  },
  {
   "cell_type": "code",
   "execution_count": 5,
   "metadata": {},
   "outputs": [],
   "source": [
    "# Similarity Computation\n",
    "similarities = dict()\n",
    "for u in other_users:\n",
    "    similarities[u] = pearson_similarity(matrix, input_user, u)\n",
    "\n",
    "similarities = {k: v for k, v in sorted(similarities.items(), key=lambda item: item[1], reverse=True)}\n",
    "similarities = dict(list(similarities.items())[:MAX_NEIGHBORS])"
   ]
  },
  {
   "cell_type": "code",
   "execution_count": 6,
   "metadata": {},
   "outputs": [],
   "source": [
    "# Recommendations\n",
    "recommendations = recommend_movies(matrix, input_user, similarities, max_recommendations=MAX_RECOMMENDATIONS, movie_map=movie_map)"
   ]
  },
  {
   "cell_type": "code",
   "execution_count": 7,
   "metadata": {},
   "outputs": [
    {
     "data": {
      "text/html": [
       "<div>\n",
       "<style scoped>\n",
       "    .dataframe tbody tr th:only-of-type {\n",
       "        vertical-align: middle;\n",
       "    }\n",
       "\n",
       "    .dataframe tbody tr th {\n",
       "        vertical-align: top;\n",
       "    }\n",
       "\n",
       "    .dataframe thead th {\n",
       "        text-align: right;\n",
       "    }\n",
       "</style>\n",
       "<table border=\"1\" class=\"dataframe\">\n",
       "  <thead>\n",
       "    <tr style=\"text-align: right;\">\n",
       "      <th></th>\n",
       "      <th>Movie</th>\n",
       "      <th>Score</th>\n",
       "    </tr>\n",
       "  </thead>\n",
       "  <tbody>\n",
       "    <tr>\n",
       "      <th>0</th>\n",
       "      <td>True Romance (1993)</td>\n",
       "      <td>5.830556</td>\n",
       "    </tr>\n",
       "    <tr>\n",
       "      <th>1</th>\n",
       "      <td>Léon: The Professional (a.k.a. The Professiona...</td>\n",
       "      <td>5.412699</td>\n",
       "    </tr>\n",
       "    <tr>\n",
       "      <th>2</th>\n",
       "      <td>Cool Hand Luke (1967)</td>\n",
       "      <td>5.412699</td>\n",
       "    </tr>\n",
       "    <tr>\n",
       "      <th>3</th>\n",
       "      <td>Boot, Das (Boat, The) (1981)</td>\n",
       "      <td>5.330556</td>\n",
       "    </tr>\n",
       "    <tr>\n",
       "      <th>4</th>\n",
       "      <td>Payback (1999)</td>\n",
       "      <td>5.132479</td>\n",
       "    </tr>\n",
       "    <tr>\n",
       "      <th>5</th>\n",
       "      <td>Finding Nemo (2003)</td>\n",
       "      <td>4.912698</td>\n",
       "    </tr>\n",
       "    <tr>\n",
       "      <th>6</th>\n",
       "      <td>Hoop Dreams (1994)</td>\n",
       "      <td>4.841270</td>\n",
       "    </tr>\n",
       "    <tr>\n",
       "      <th>7</th>\n",
       "      <td>Thin Blue Line, The (1988)</td>\n",
       "      <td>4.841270</td>\n",
       "    </tr>\n",
       "    <tr>\n",
       "      <th>8</th>\n",
       "      <td>Sting, The (1973)</td>\n",
       "      <td>4.830556</td>\n",
       "    </tr>\n",
       "    <tr>\n",
       "      <th>9</th>\n",
       "      <td>Young Frankenstein (1974)</td>\n",
       "      <td>4.830556</td>\n",
       "    </tr>\n",
       "  </tbody>\n",
       "</table>\n",
       "</div>"
      ],
      "text/plain": [
       "                                               Movie     Score\n",
       "0                                True Romance (1993)  5.830556\n",
       "1  Léon: The Professional (a.k.a. The Professiona...  5.412699\n",
       "2                              Cool Hand Luke (1967)  5.412699\n",
       "3                       Boot, Das (Boat, The) (1981)  5.330556\n",
       "4                                     Payback (1999)  5.132479\n",
       "5                                Finding Nemo (2003)  4.912698\n",
       "6                                 Hoop Dreams (1994)  4.841270\n",
       "7                         Thin Blue Line, The (1988)  4.841270\n",
       "8                                  Sting, The (1973)  4.830556\n",
       "9                          Young Frankenstein (1974)  4.830556"
      ]
     },
     "metadata": {},
     "output_type": "display_data"
    }
   ],
   "source": [
    "df_recommendations = pd.DataFrame(columns=['Movie', 'Score'])\n",
    "for movie, score in recommendations.items():\n",
    "    df_recommendations.loc[len(df_recommendations)] = [movie, score]\n",
    "\n",
    "display(df_recommendations)"
   ]
  },
  {
   "cell_type": "markdown",
   "metadata": {},
   "source": [
    "# Second Execution"
   ]
  },
  {
   "cell_type": "code",
   "execution_count": 8,
   "metadata": {},
   "outputs": [],
   "source": [
    "# Similarities\n",
    "norm_scores = norm_weights(input_user, matrix)\n",
    "\n",
    "weighted_similarities = dict()\n",
    "for u in other_users:\n",
    "    weighted_similarities[u] = weighted_pearson_similarity(matrix, input_user, u, norm_scores.get(u))\n",
    "\n",
    "weighted_similarities = {k: v for k, v in sorted(weighted_similarities.items(), key=lambda item: item[1], reverse=True)}\n",
    "weighted_similarities = dict(list(weighted_similarities.items())[:MAX_NEIGHBORS])"
   ]
  },
  {
   "cell_type": "code",
   "execution_count": 9,
   "metadata": {},
   "outputs": [],
   "source": [
    "# Recommendations\n",
    "weighted_recommendations = recommend_movies(matrix, input_user, weighted_similarities, max_recommendations=MAX_RECOMMENDATIONS, movie_map=movie_map)"
   ]
  },
  {
   "cell_type": "code",
   "execution_count": 10,
   "metadata": {},
   "outputs": [
    {
     "data": {
      "text/html": [
       "<div>\n",
       "<style scoped>\n",
       "    .dataframe tbody tr th:only-of-type {\n",
       "        vertical-align: middle;\n",
       "    }\n",
       "\n",
       "    .dataframe tbody tr th {\n",
       "        vertical-align: top;\n",
       "    }\n",
       "\n",
       "    .dataframe thead th {\n",
       "        text-align: right;\n",
       "    }\n",
       "</style>\n",
       "<table border=\"1\" class=\"dataframe\">\n",
       "  <thead>\n",
       "    <tr style=\"text-align: right;\">\n",
       "      <th></th>\n",
       "      <th>Movie</th>\n",
       "      <th>Score</th>\n",
       "    </tr>\n",
       "  </thead>\n",
       "  <tbody>\n",
       "    <tr>\n",
       "      <th>0</th>\n",
       "      <td>Remains of the Day, The (1993)</td>\n",
       "      <td>5.156599</td>\n",
       "    </tr>\n",
       "    <tr>\n",
       "      <th>1</th>\n",
       "      <td>Gaslight (1944)</td>\n",
       "      <td>5.156599</td>\n",
       "    </tr>\n",
       "    <tr>\n",
       "      <th>2</th>\n",
       "      <td>Impostors, The (1998)</td>\n",
       "      <td>5.156599</td>\n",
       "    </tr>\n",
       "    <tr>\n",
       "      <th>3</th>\n",
       "      <td>Guys and Dolls (1955)</td>\n",
       "      <td>5.156599</td>\n",
       "    </tr>\n",
       "    <tr>\n",
       "      <th>4</th>\n",
       "      <td>Crossing Delancey (1988)</td>\n",
       "      <td>5.156599</td>\n",
       "    </tr>\n",
       "    <tr>\n",
       "      <th>5</th>\n",
       "      <td>Truly, Madly, Deeply (1991)</td>\n",
       "      <td>5.156599</td>\n",
       "    </tr>\n",
       "    <tr>\n",
       "      <th>6</th>\n",
       "      <td>Lady Jane (1986)</td>\n",
       "      <td>5.156599</td>\n",
       "    </tr>\n",
       "    <tr>\n",
       "      <th>7</th>\n",
       "      <td>Whale Rider (2002)</td>\n",
       "      <td>5.156599</td>\n",
       "    </tr>\n",
       "    <tr>\n",
       "      <th>8</th>\n",
       "      <td>Babette's Feast (Babettes gæstebud) (1987)</td>\n",
       "      <td>5.156599</td>\n",
       "    </tr>\n",
       "    <tr>\n",
       "      <th>9</th>\n",
       "      <td>Adam's Rib (1949)</td>\n",
       "      <td>5.156599</td>\n",
       "    </tr>\n",
       "  </tbody>\n",
       "</table>\n",
       "</div>"
      ],
      "text/plain": [
       "                                        Movie     Score\n",
       "0              Remains of the Day, The (1993)  5.156599\n",
       "1                             Gaslight (1944)  5.156599\n",
       "2                       Impostors, The (1998)  5.156599\n",
       "3                       Guys and Dolls (1955)  5.156599\n",
       "4                    Crossing Delancey (1988)  5.156599\n",
       "5                 Truly, Madly, Deeply (1991)  5.156599\n",
       "6                            Lady Jane (1986)  5.156599\n",
       "7                          Whale Rider (2002)  5.156599\n",
       "8  Babette's Feast (Babettes gæstebud) (1987)  5.156599\n",
       "9                           Adam's Rib (1949)  5.156599"
      ]
     },
     "metadata": {},
     "output_type": "display_data"
    }
   ],
   "source": [
    "df_weighted_recommendations = pd.DataFrame(columns=['Movie', 'Score'])\n",
    "for movie, score in weighted_recommendations.items():\n",
    "    df_weighted_recommendations.loc[len(df_weighted_recommendations)] = [movie, score]\n",
    "\n",
    "display(df_weighted_recommendations)"
   ]
  }
 ],
 "metadata": {
  "kernelspec": {
   "display_name": "Python 3 (ipykernel)",
   "language": "python",
   "name": "python3"
  },
  "language_info": {
   "codemirror_mode": {
    "name": "ipython",
    "version": 3
   },
   "file_extension": ".py",
   "mimetype": "text/x-python",
   "name": "python",
   "nbconvert_exporter": "python",
   "pygments_lexer": "ipython3",
   "version": "3.10.13"
  }
 },
 "nbformat": 4,
 "nbformat_minor": 2
}
