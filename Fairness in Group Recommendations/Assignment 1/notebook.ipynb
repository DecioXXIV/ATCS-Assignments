{
 "cells": [
  {
   "cell_type": "code",
   "execution_count": 1,
   "metadata": {},
   "outputs": [],
   "source": [
    "import numpy as np\n",
    "import pandas as pd\n",
    "\n",
    "from preprocessing import get_matrix, get_movie_map\n",
    "from similarity import pearson_similarity, weighted_pearson_similarity, norm_weights\n",
    "from predict import recommend_movies"
   ]
  },
  {
   "cell_type": "code",
   "execution_count": 2,
   "metadata": {},
   "outputs": [],
   "source": [
    "MAX_NEIGHBORS, MAX_RECOMMENDATIONS = 10, 10"
   ]
  },
  {
   "cell_type": "code",
   "execution_count": 3,
   "metadata": {},
   "outputs": [],
   "source": [
    "# Dataset Preprocessing\n",
    "ratings, movies = pd.read_csv('./datasets/ratings.csv'), pd.read_csv('./datasets/movies.csv')\n",
    "\n",
    "matrix, movie_map = get_matrix(ratings, movies), get_movie_map(movies)"
   ]
  },
  {
   "cell_type": "code",
   "execution_count": 4,
   "metadata": {},
   "outputs": [
    {
     "name": "stdout",
     "output_type": "stream",
     "text": [
      "Input User = 293\n"
     ]
    }
   ],
   "source": [
    "input_user = np.random.randint(low=1, high=matrix.shape[0]+1)\n",
    "other_users = [u for u in matrix.index.tolist() if u != input_user]\n",
    "\n",
    "print(\"Input User =\", input_user)"
   ]
  },
  {
   "cell_type": "markdown",
   "metadata": {},
   "source": [
    "# First Execution $\\rightarrow$ \"Base\" Pearson Similarity"
   ]
  },
  {
   "cell_type": "code",
   "execution_count": 5,
   "metadata": {},
   "outputs": [],
   "source": [
    "# Similarity Computation\n",
    "similarities = dict()\n",
    "for u in other_users:\n",
    "    similarities[u] = pearson_similarity(matrix, input_user, u)\n",
    "\n",
    "similarities = {k: v for k, v in sorted(similarities.items(), key=lambda item: item[1], reverse=True)}\n",
    "similarities = dict(list(similarities.items())[:MAX_NEIGHBORS])"
   ]
  },
  {
   "cell_type": "markdown",
   "metadata": {},
   "source": [
    "The \"pearson_similarity\" function computes the similarity between the Input User and the Other Users by exploiting this formula...\n",
    "$$sim(i,o) = \\displaystyle\\frac{\\sum_{p \\in P}[(r_{i,p}-\\overline{r}_i)(r_{o,p}-\\overline{r}_o)]}{\\sqrt{\\sum_{p\\in P}(r_{i,p}-\\overline{r}_i)^2}\\cdot\\sqrt{\\sum_{p \\in P}(r_{o,p}-\\overline{r}_o)^2}}$$\n",
    "\n",
    "...where:\n",
    "- \"i\": Input User\n",
    "- \"o\": Output User\n",
    "- \"P\": Set of Movies co-rated by \"i\" and \"o\"\n",
    "- $r_{i,p}$ and $r_{o,p}$: ratings given by the Input User and the Other User to the movie \"p\"\n",
    "- $\\overline{r}_i$, $\\overline{r}_o$: mean value for the ratings (Input User and Other User)"
   ]
  },
  {
   "cell_type": "code",
   "execution_count": 6,
   "metadata": {},
   "outputs": [
    {
     "name": "stdout",
     "output_type": "stream",
     "text": [
      "Most Similar Users:\n",
      "User 8 : Similarity = 1.00000\n",
      "User 9 : Similarity = 1.00000\n",
      "User 29 : Similarity = 1.00000\n",
      "User 36 : Similarity = 1.00000\n",
      "User 58 : Similarity = 1.00000\n",
      "User 65 : Similarity = 1.00000\n",
      "User 80 : Similarity = 1.00000\n",
      "User 81 : Similarity = 1.00000\n",
      "User 83 : Similarity = 1.00000\n",
      "User 97 : Similarity = 1.00000\n"
     ]
    }
   ],
   "source": [
    "print(\"Most Similar Users:\")\n",
    "for u, s in similarities.items():\n",
    "    print(f\"User {u} : Similarity = {s:.5f}\")"
   ]
  },
  {
   "cell_type": "code",
   "execution_count": 7,
   "metadata": {},
   "outputs": [],
   "source": [
    "# Recommendations\n",
    "recommendations = recommend_movies(matrix, input_user, similarities, max_recommendations=MAX_RECOMMENDATIONS, movie_map=movie_map)"
   ]
  },
  {
   "cell_type": "code",
   "execution_count": 8,
   "metadata": {},
   "outputs": [
    {
     "data": {
      "text/html": [
       "<div>\n",
       "<style scoped>\n",
       "    .dataframe tbody tr th:only-of-type {\n",
       "        vertical-align: middle;\n",
       "    }\n",
       "\n",
       "    .dataframe tbody tr th {\n",
       "        vertical-align: top;\n",
       "    }\n",
       "\n",
       "    .dataframe thead th {\n",
       "        text-align: right;\n",
       "    }\n",
       "</style>\n",
       "<table border=\"1\" class=\"dataframe\">\n",
       "  <thead>\n",
       "    <tr style=\"text-align: right;\">\n",
       "      <th></th>\n",
       "      <th>Movie</th>\n",
       "      <th>Score</th>\n",
       "    </tr>\n",
       "  </thead>\n",
       "  <tbody>\n",
       "    <tr>\n",
       "      <th>0</th>\n",
       "      <td>Waking Ned Devine (a.k.a. Waking Ned) (1998)</td>\n",
       "      <td>4.485714</td>\n",
       "    </tr>\n",
       "    <tr>\n",
       "      <th>1</th>\n",
       "      <td>Never Cry Wolf (1983)</td>\n",
       "      <td>4.485714</td>\n",
       "    </tr>\n",
       "    <tr>\n",
       "      <th>2</th>\n",
       "      <td>Almost Famous (2000)</td>\n",
       "      <td>4.485714</td>\n",
       "    </tr>\n",
       "    <tr>\n",
       "      <th>3</th>\n",
       "      <td>Producers, The (1968)</td>\n",
       "      <td>4.358178</td>\n",
       "    </tr>\n",
       "    <tr>\n",
       "      <th>4</th>\n",
       "      <td>Austin Powers in Goldmember (2002)</td>\n",
       "      <td>4.358178</td>\n",
       "    </tr>\n",
       "    <tr>\n",
       "      <th>5</th>\n",
       "      <td>Adaptation (2002)</td>\n",
       "      <td>4.358178</td>\n",
       "    </tr>\n",
       "    <tr>\n",
       "      <th>6</th>\n",
       "      <td>Roman Holiday (1953)</td>\n",
       "      <td>4.309726</td>\n",
       "    </tr>\n",
       "    <tr>\n",
       "      <th>7</th>\n",
       "      <td>Amadeus (1984)</td>\n",
       "      <td>4.309726</td>\n",
       "    </tr>\n",
       "    <tr>\n",
       "      <th>8</th>\n",
       "      <td>Fantasia 2000 (1999)</td>\n",
       "      <td>4.309726</td>\n",
       "    </tr>\n",
       "    <tr>\n",
       "      <th>9</th>\n",
       "      <td>Amelie (Fabuleux destin d'Amélie Poulain, Le) ...</td>\n",
       "      <td>4.309726</td>\n",
       "    </tr>\n",
       "  </tbody>\n",
       "</table>\n",
       "</div>"
      ],
      "text/plain": [
       "                                               Movie     Score\n",
       "0       Waking Ned Devine (a.k.a. Waking Ned) (1998)  4.485714\n",
       "1                              Never Cry Wolf (1983)  4.485714\n",
       "2                               Almost Famous (2000)  4.485714\n",
       "3                              Producers, The (1968)  4.358178\n",
       "4                 Austin Powers in Goldmember (2002)  4.358178\n",
       "5                                  Adaptation (2002)  4.358178\n",
       "6                               Roman Holiday (1953)  4.309726\n",
       "7                                     Amadeus (1984)  4.309726\n",
       "8                               Fantasia 2000 (1999)  4.309726\n",
       "9  Amelie (Fabuleux destin d'Amélie Poulain, Le) ...  4.309726"
      ]
     },
     "metadata": {},
     "output_type": "display_data"
    }
   ],
   "source": [
    "df_recommendations = pd.DataFrame(columns=['Movie', 'Score'])\n",
    "for movie, score in recommendations.items():\n",
    "    df_recommendations.loc[len(df_recommendations)] = [movie, score]\n",
    "\n",
    "display(df_recommendations)"
   ]
  },
  {
   "cell_type": "markdown",
   "metadata": {},
   "source": [
    "# Second Execution $\\rightarrow$ \"Weighted\" Pearson-Similarity"
   ]
  },
  {
   "cell_type": "code",
   "execution_count": 9,
   "metadata": {},
   "outputs": [],
   "source": [
    "# Similarities\n",
    "norm_scores = norm_weights(input_user, matrix)\n",
    "\n",
    "weighted_similarities = dict()\n",
    "for u in other_users:\n",
    "    weighted_similarities[u] = weighted_pearson_similarity(matrix, input_user, u, norm_scores.get(u))\n",
    "\n",
    "weighted_similarities = {k: v for k, v in sorted(weighted_similarities.items(), key=lambda item: item[1], reverse=True)}\n",
    "weighted_similarities = dict(list(weighted_similarities.items())[:MAX_NEIGHBORS])"
   ]
  },
  {
   "cell_type": "markdown",
   "metadata": {},
   "source": [
    "The \"pearson_similarity\" function computes the similarity between the Input User and the Other Users by exploiting this formula...\n",
    "$$sim(i,o) = \\text{norm\\textunderscore score}\\cdot\\displaystyle\\frac{\\sum_{p \\in P}[(r_{i,p}-\\overline{r}_i)(r_{o,p}-\\overline{r}_o)]}{\\sqrt{\\sum_{p\\in P}(r_{i,p}-\\overline{r}_i)^2}\\cdot\\sqrt{\\sum_{p \\in P}(r_{o,p}-\\overline{r}_o)^2}}$$\n",
    "\n",
    "...where:\n",
    "- \"i\": Input User\n",
    "- \"o\": Other User\n",
    "- \"P\": Set of Movies co-rated by \"i\" and \"o\"\n",
    "- $r_{i,p}$ and $r_{o,p}$: ratings given by the Input User and the Other User to the movie \"p\"\n",
    "- $\\overline{r}_i$, $\\overline{r}_o$: mean value for the ratings (Input User and Other User)"
   ]
  },
  {
   "cell_type": "markdown",
   "metadata": {},
   "source": [
    "The \"norm_score\" is obtained by considering how many co-ratings exist for the Input User \"i\" and a given Other User \"o\".\n",
    "$$\\text{norm\\textunderscore score}(i,o) = \\displaystyle\\frac{coratings\\text{\\textunderscore }number(i,o)}{\\sum_{x\\in O}coratings\\text{\\textunderscore }number(i,x)}$$"
   ]
  },
  {
   "cell_type": "code",
   "execution_count": 10,
   "metadata": {},
   "outputs": [
    {
     "name": "stdout",
     "output_type": "stream",
     "text": [
      "Most Similar Users:\n",
      "User 608 : Similarity = 0.00649\n",
      "User 599 : Similarity = 0.00607\n",
      "User 414 : Similarity = 0.00485\n",
      "User 307 : Similarity = 0.00451\n",
      "User 249 : Similarity = 0.00447\n",
      "User 600 : Similarity = 0.00444\n",
      "User 68 : Similarity = 0.00416\n",
      "User 103 : Similarity = 0.00384\n",
      "User 480 : Similarity = 0.00377\n",
      "User 610 : Similarity = 0.00375\n"
     ]
    }
   ],
   "source": [
    "print(\"Most Similar Users:\")\n",
    "for u, s in weighted_similarities.items():\n",
    "    print(f\"User {u} : Similarity = {s:.5f}\")"
   ]
  },
  {
   "cell_type": "code",
   "execution_count": 11,
   "metadata": {},
   "outputs": [],
   "source": [
    "# Recommendations\n",
    "weighted_recommendations = recommend_movies(matrix, input_user, weighted_similarities, max_recommendations=MAX_RECOMMENDATIONS, movie_map=movie_map)"
   ]
  },
  {
   "cell_type": "code",
   "execution_count": 12,
   "metadata": {},
   "outputs": [
    {
     "data": {
      "text/html": [
       "<div>\n",
       "<style scoped>\n",
       "    .dataframe tbody tr th:only-of-type {\n",
       "        vertical-align: middle;\n",
       "    }\n",
       "\n",
       "    .dataframe tbody tr th {\n",
       "        vertical-align: top;\n",
       "    }\n",
       "\n",
       "    .dataframe thead th {\n",
       "        text-align: right;\n",
       "    }\n",
       "</style>\n",
       "<table border=\"1\" class=\"dataframe\">\n",
       "  <thead>\n",
       "    <tr style=\"text-align: right;\">\n",
       "      <th></th>\n",
       "      <th>Movie</th>\n",
       "      <th>Score</th>\n",
       "    </tr>\n",
       "  </thead>\n",
       "  <tbody>\n",
       "    <tr>\n",
       "      <th>0</th>\n",
       "      <td>Yojimbo (1961)</td>\n",
       "      <td>4.976998</td>\n",
       "    </tr>\n",
       "    <tr>\n",
       "      <th>1</th>\n",
       "      <td>Double Indemnity (1944)</td>\n",
       "      <td>4.976998</td>\n",
       "    </tr>\n",
       "    <tr>\n",
       "      <th>2</th>\n",
       "      <td>Nashville (1975)</td>\n",
       "      <td>4.627567</td>\n",
       "    </tr>\n",
       "    <tr>\n",
       "      <th>3</th>\n",
       "      <td>Sullivan's Travels (1941)</td>\n",
       "      <td>4.627567</td>\n",
       "    </tr>\n",
       "    <tr>\n",
       "      <th>4</th>\n",
       "      <td>Unfaithfully Yours (1948)</td>\n",
       "      <td>4.627567</td>\n",
       "    </tr>\n",
       "    <tr>\n",
       "      <th>5</th>\n",
       "      <td>Topo, El (1970)</td>\n",
       "      <td>4.627567</td>\n",
       "    </tr>\n",
       "    <tr>\n",
       "      <th>6</th>\n",
       "      <td>Holy Mountain, The (Montaña sagrada, La) (1973)</td>\n",
       "      <td>4.627567</td>\n",
       "    </tr>\n",
       "    <tr>\n",
       "      <th>7</th>\n",
       "      <td>Cat Returns, The (Neko no ongaeshi) (2002)</td>\n",
       "      <td>4.627567</td>\n",
       "    </tr>\n",
       "    <tr>\n",
       "      <th>8</th>\n",
       "      <td>Love and Death (1975)</td>\n",
       "      <td>4.497309</td>\n",
       "    </tr>\n",
       "    <tr>\n",
       "      <th>9</th>\n",
       "      <td>Key Largo (1948)</td>\n",
       "      <td>4.476998</td>\n",
       "    </tr>\n",
       "  </tbody>\n",
       "</table>\n",
       "</div>"
      ],
      "text/plain": [
       "                                             Movie     Score\n",
       "0                                   Yojimbo (1961)  4.976998\n",
       "1                          Double Indemnity (1944)  4.976998\n",
       "2                                 Nashville (1975)  4.627567\n",
       "3                        Sullivan's Travels (1941)  4.627567\n",
       "4                        Unfaithfully Yours (1948)  4.627567\n",
       "5                                  Topo, El (1970)  4.627567\n",
       "6  Holy Mountain, The (Montaña sagrada, La) (1973)  4.627567\n",
       "7       Cat Returns, The (Neko no ongaeshi) (2002)  4.627567\n",
       "8                            Love and Death (1975)  4.497309\n",
       "9                                 Key Largo (1948)  4.476998"
      ]
     },
     "metadata": {},
     "output_type": "display_data"
    }
   ],
   "source": [
    "df_weighted_recommendations = pd.DataFrame(columns=['Movie', 'Score'])\n",
    "for movie, score in weighted_recommendations.items():\n",
    "    df_weighted_recommendations.loc[len(df_weighted_recommendations)] = [movie, score]\n",
    "\n",
    "display(df_weighted_recommendations)"
   ]
  }
 ],
 "metadata": {
  "kernelspec": {
   "display_name": "Python 3 (ipykernel)",
   "language": "python",
   "name": "python3"
  },
  "language_info": {
   "codemirror_mode": {
    "name": "ipython",
    "version": 3
   },
   "file_extension": ".py",
   "mimetype": "text/x-python",
   "name": "python",
   "nbconvert_exporter": "python",
   "pygments_lexer": "ipython3",
   "version": "3.7.9"
  }
 },
 "nbformat": 4,
 "nbformat_minor": 2
}
