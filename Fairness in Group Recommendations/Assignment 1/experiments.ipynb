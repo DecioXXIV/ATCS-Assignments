{
 "cells": [
  {
   "cell_type": "code",
   "execution_count": 1,
   "metadata": {},
   "outputs": [],
   "source": [
    "import numpy as np\n",
    "import pandas as pd\n",
    "\n",
    "from similarity import pearson_similarity, manhattan_similarity\n",
    "from predict import recommend_movies"
   ]
  },
  {
   "cell_type": "code",
   "execution_count": 2,
   "metadata": {},
   "outputs": [],
   "source": [
    "# Constants\n",
    "MAX_NEIGHBORS = 50              # ~ 2*np.sqrt(num_users)\n",
    "MAX_RECOMMENDATIONS = 100       # ~ np.sqrt(num_movies)"
   ]
  },
  {
   "cell_type": "markdown",
   "metadata": {},
   "source": [
    "# Preprocessing"
   ]
  },
  {
   "cell_type": "code",
   "execution_count": 3,
   "metadata": {},
   "outputs": [],
   "source": [
    "ratings, movies = pd.read_csv('./datasets/ratings.csv'), pd.read_csv('./datasets/movies.csv')"
   ]
  },
  {
   "cell_type": "code",
   "execution_count": 4,
   "metadata": {},
   "outputs": [
    {
     "data": {
      "text/html": [
       "<div>\n",
       "<style scoped>\n",
       "    .dataframe tbody tr th:only-of-type {\n",
       "        vertical-align: middle;\n",
       "    }\n",
       "\n",
       "    .dataframe tbody tr th {\n",
       "        vertical-align: top;\n",
       "    }\n",
       "\n",
       "    .dataframe thead th {\n",
       "        text-align: right;\n",
       "    }\n",
       "</style>\n",
       "<table border=\"1\" class=\"dataframe\">\n",
       "  <thead>\n",
       "    <tr style=\"text-align: right;\">\n",
       "      <th></th>\n",
       "      <th>userId</th>\n",
       "      <th>movieId</th>\n",
       "      <th>rating</th>\n",
       "      <th>timestamp</th>\n",
       "    </tr>\n",
       "  </thead>\n",
       "  <tbody>\n",
       "    <tr>\n",
       "      <th>0</th>\n",
       "      <td>1</td>\n",
       "      <td>1</td>\n",
       "      <td>4.0</td>\n",
       "      <td>964982703</td>\n",
       "    </tr>\n",
       "    <tr>\n",
       "      <th>1</th>\n",
       "      <td>1</td>\n",
       "      <td>3</td>\n",
       "      <td>4.0</td>\n",
       "      <td>964981247</td>\n",
       "    </tr>\n",
       "    <tr>\n",
       "      <th>2</th>\n",
       "      <td>1</td>\n",
       "      <td>6</td>\n",
       "      <td>4.0</td>\n",
       "      <td>964982224</td>\n",
       "    </tr>\n",
       "    <tr>\n",
       "      <th>3</th>\n",
       "      <td>1</td>\n",
       "      <td>47</td>\n",
       "      <td>5.0</td>\n",
       "      <td>964983815</td>\n",
       "    </tr>\n",
       "    <tr>\n",
       "      <th>4</th>\n",
       "      <td>1</td>\n",
       "      <td>50</td>\n",
       "      <td>5.0</td>\n",
       "      <td>964982931</td>\n",
       "    </tr>\n",
       "  </tbody>\n",
       "</table>\n",
       "</div>"
      ],
      "text/plain": [
       "   userId  movieId  rating  timestamp\n",
       "0       1        1     4.0  964982703\n",
       "1       1        3     4.0  964981247\n",
       "2       1        6     4.0  964982224\n",
       "3       1       47     5.0  964983815\n",
       "4       1       50     5.0  964982931"
      ]
     },
     "execution_count": 4,
     "metadata": {},
     "output_type": "execute_result"
    }
   ],
   "source": [
    "ratings.head()"
   ]
  },
  {
   "cell_type": "code",
   "execution_count": 5,
   "metadata": {},
   "outputs": [
    {
     "data": {
      "text/html": [
       "<div>\n",
       "<style scoped>\n",
       "    .dataframe tbody tr th:only-of-type {\n",
       "        vertical-align: middle;\n",
       "    }\n",
       "\n",
       "    .dataframe tbody tr th {\n",
       "        vertical-align: top;\n",
       "    }\n",
       "\n",
       "    .dataframe thead th {\n",
       "        text-align: right;\n",
       "    }\n",
       "</style>\n",
       "<table border=\"1\" class=\"dataframe\">\n",
       "  <thead>\n",
       "    <tr style=\"text-align: right;\">\n",
       "      <th></th>\n",
       "      <th>movieId</th>\n",
       "      <th>title</th>\n",
       "      <th>genres</th>\n",
       "    </tr>\n",
       "  </thead>\n",
       "  <tbody>\n",
       "    <tr>\n",
       "      <th>0</th>\n",
       "      <td>1</td>\n",
       "      <td>Toy Story (1995)</td>\n",
       "      <td>Adventure|Animation|Children|Comedy|Fantasy</td>\n",
       "    </tr>\n",
       "    <tr>\n",
       "      <th>1</th>\n",
       "      <td>2</td>\n",
       "      <td>Jumanji (1995)</td>\n",
       "      <td>Adventure|Children|Fantasy</td>\n",
       "    </tr>\n",
       "    <tr>\n",
       "      <th>2</th>\n",
       "      <td>3</td>\n",
       "      <td>Grumpier Old Men (1995)</td>\n",
       "      <td>Comedy|Romance</td>\n",
       "    </tr>\n",
       "    <tr>\n",
       "      <th>3</th>\n",
       "      <td>4</td>\n",
       "      <td>Waiting to Exhale (1995)</td>\n",
       "      <td>Comedy|Drama|Romance</td>\n",
       "    </tr>\n",
       "    <tr>\n",
       "      <th>4</th>\n",
       "      <td>5</td>\n",
       "      <td>Father of the Bride Part II (1995)</td>\n",
       "      <td>Comedy</td>\n",
       "    </tr>\n",
       "  </tbody>\n",
       "</table>\n",
       "</div>"
      ],
      "text/plain": [
       "   movieId                               title  \\\n",
       "0        1                    Toy Story (1995)   \n",
       "1        2                      Jumanji (1995)   \n",
       "2        3             Grumpier Old Men (1995)   \n",
       "3        4            Waiting to Exhale (1995)   \n",
       "4        5  Father of the Bride Part II (1995)   \n",
       "\n",
       "                                        genres  \n",
       "0  Adventure|Animation|Children|Comedy|Fantasy  \n",
       "1                   Adventure|Children|Fantasy  \n",
       "2                               Comedy|Romance  \n",
       "3                         Comedy|Drama|Romance  \n",
       "4                                       Comedy  "
      ]
     },
     "execution_count": 5,
     "metadata": {},
     "output_type": "execute_result"
    }
   ],
   "source": [
    "movies.head()"
   ]
  },
  {
   "cell_type": "code",
   "execution_count": 6,
   "metadata": {},
   "outputs": [
    {
     "name": "stdout",
     "output_type": "stream",
     "text": [
      "Matrix Shape: (610, 9742)\n"
     ]
    }
   ],
   "source": [
    "user_ids = ratings['userId'].unique().tolist()\n",
    "movie_ids = movies['movieId'].unique().tolist()\n",
    "\n",
    "matrix = pd.DataFrame(index=user_ids, columns=movie_ids, dtype=np.float32)\n",
    "\n",
    "for i in range(len(ratings)):\n",
    "    user_id, movie_id, rating = ratings.iloc[i]['userId'], ratings.iloc[i]['movieId'], ratings.iloc[i]['rating']\n",
    "    matrix.at[user_id, movie_id] = rating\n",
    "\n",
    "print(\"Matrix Shape:\", matrix.shape)"
   ]
  },
  {
   "cell_type": "code",
   "execution_count": 7,
   "metadata": {},
   "outputs": [
    {
     "data": {
      "text/html": [
       "<div>\n",
       "<style scoped>\n",
       "    .dataframe tbody tr th:only-of-type {\n",
       "        vertical-align: middle;\n",
       "    }\n",
       "\n",
       "    .dataframe tbody tr th {\n",
       "        vertical-align: top;\n",
       "    }\n",
       "\n",
       "    .dataframe thead th {\n",
       "        text-align: right;\n",
       "    }\n",
       "</style>\n",
       "<table border=\"1\" class=\"dataframe\">\n",
       "  <thead>\n",
       "    <tr style=\"text-align: right;\">\n",
       "      <th></th>\n",
       "      <th>1</th>\n",
       "      <th>2</th>\n",
       "      <th>3</th>\n",
       "      <th>4</th>\n",
       "      <th>5</th>\n",
       "      <th>6</th>\n",
       "      <th>7</th>\n",
       "      <th>8</th>\n",
       "      <th>9</th>\n",
       "      <th>10</th>\n",
       "      <th>...</th>\n",
       "      <th>193565</th>\n",
       "      <th>193567</th>\n",
       "      <th>193571</th>\n",
       "      <th>193573</th>\n",
       "      <th>193579</th>\n",
       "      <th>193581</th>\n",
       "      <th>193583</th>\n",
       "      <th>193585</th>\n",
       "      <th>193587</th>\n",
       "      <th>193609</th>\n",
       "    </tr>\n",
       "  </thead>\n",
       "  <tbody>\n",
       "    <tr>\n",
       "      <th>1</th>\n",
       "      <td>4.0</td>\n",
       "      <td>NaN</td>\n",
       "      <td>4.0</td>\n",
       "      <td>NaN</td>\n",
       "      <td>NaN</td>\n",
       "      <td>4.0</td>\n",
       "      <td>NaN</td>\n",
       "      <td>NaN</td>\n",
       "      <td>NaN</td>\n",
       "      <td>NaN</td>\n",
       "      <td>...</td>\n",
       "      <td>NaN</td>\n",
       "      <td>NaN</td>\n",
       "      <td>NaN</td>\n",
       "      <td>NaN</td>\n",
       "      <td>NaN</td>\n",
       "      <td>NaN</td>\n",
       "      <td>NaN</td>\n",
       "      <td>NaN</td>\n",
       "      <td>NaN</td>\n",
       "      <td>NaN</td>\n",
       "    </tr>\n",
       "    <tr>\n",
       "      <th>2</th>\n",
       "      <td>NaN</td>\n",
       "      <td>NaN</td>\n",
       "      <td>NaN</td>\n",
       "      <td>NaN</td>\n",
       "      <td>NaN</td>\n",
       "      <td>NaN</td>\n",
       "      <td>NaN</td>\n",
       "      <td>NaN</td>\n",
       "      <td>NaN</td>\n",
       "      <td>NaN</td>\n",
       "      <td>...</td>\n",
       "      <td>NaN</td>\n",
       "      <td>NaN</td>\n",
       "      <td>NaN</td>\n",
       "      <td>NaN</td>\n",
       "      <td>NaN</td>\n",
       "      <td>NaN</td>\n",
       "      <td>NaN</td>\n",
       "      <td>NaN</td>\n",
       "      <td>NaN</td>\n",
       "      <td>NaN</td>\n",
       "    </tr>\n",
       "    <tr>\n",
       "      <th>3</th>\n",
       "      <td>NaN</td>\n",
       "      <td>NaN</td>\n",
       "      <td>NaN</td>\n",
       "      <td>NaN</td>\n",
       "      <td>NaN</td>\n",
       "      <td>NaN</td>\n",
       "      <td>NaN</td>\n",
       "      <td>NaN</td>\n",
       "      <td>NaN</td>\n",
       "      <td>NaN</td>\n",
       "      <td>...</td>\n",
       "      <td>NaN</td>\n",
       "      <td>NaN</td>\n",
       "      <td>NaN</td>\n",
       "      <td>NaN</td>\n",
       "      <td>NaN</td>\n",
       "      <td>NaN</td>\n",
       "      <td>NaN</td>\n",
       "      <td>NaN</td>\n",
       "      <td>NaN</td>\n",
       "      <td>NaN</td>\n",
       "    </tr>\n",
       "    <tr>\n",
       "      <th>4</th>\n",
       "      <td>NaN</td>\n",
       "      <td>NaN</td>\n",
       "      <td>NaN</td>\n",
       "      <td>NaN</td>\n",
       "      <td>NaN</td>\n",
       "      <td>NaN</td>\n",
       "      <td>NaN</td>\n",
       "      <td>NaN</td>\n",
       "      <td>NaN</td>\n",
       "      <td>NaN</td>\n",
       "      <td>...</td>\n",
       "      <td>NaN</td>\n",
       "      <td>NaN</td>\n",
       "      <td>NaN</td>\n",
       "      <td>NaN</td>\n",
       "      <td>NaN</td>\n",
       "      <td>NaN</td>\n",
       "      <td>NaN</td>\n",
       "      <td>NaN</td>\n",
       "      <td>NaN</td>\n",
       "      <td>NaN</td>\n",
       "    </tr>\n",
       "    <tr>\n",
       "      <th>5</th>\n",
       "      <td>4.0</td>\n",
       "      <td>NaN</td>\n",
       "      <td>NaN</td>\n",
       "      <td>NaN</td>\n",
       "      <td>NaN</td>\n",
       "      <td>NaN</td>\n",
       "      <td>NaN</td>\n",
       "      <td>NaN</td>\n",
       "      <td>NaN</td>\n",
       "      <td>NaN</td>\n",
       "      <td>...</td>\n",
       "      <td>NaN</td>\n",
       "      <td>NaN</td>\n",
       "      <td>NaN</td>\n",
       "      <td>NaN</td>\n",
       "      <td>NaN</td>\n",
       "      <td>NaN</td>\n",
       "      <td>NaN</td>\n",
       "      <td>NaN</td>\n",
       "      <td>NaN</td>\n",
       "      <td>NaN</td>\n",
       "    </tr>\n",
       "  </tbody>\n",
       "</table>\n",
       "<p>5 rows × 9742 columns</p>\n",
       "</div>"
      ],
      "text/plain": [
       "   1       2       3       4       5       6       7       8       9       \\\n",
       "1     4.0     NaN     4.0     NaN     NaN     4.0     NaN     NaN     NaN   \n",
       "2     NaN     NaN     NaN     NaN     NaN     NaN     NaN     NaN     NaN   \n",
       "3     NaN     NaN     NaN     NaN     NaN     NaN     NaN     NaN     NaN   \n",
       "4     NaN     NaN     NaN     NaN     NaN     NaN     NaN     NaN     NaN   \n",
       "5     4.0     NaN     NaN     NaN     NaN     NaN     NaN     NaN     NaN   \n",
       "\n",
       "   10      ...  193565  193567  193571  193573  193579  193581  193583  \\\n",
       "1     NaN  ...     NaN     NaN     NaN     NaN     NaN     NaN     NaN   \n",
       "2     NaN  ...     NaN     NaN     NaN     NaN     NaN     NaN     NaN   \n",
       "3     NaN  ...     NaN     NaN     NaN     NaN     NaN     NaN     NaN   \n",
       "4     NaN  ...     NaN     NaN     NaN     NaN     NaN     NaN     NaN   \n",
       "5     NaN  ...     NaN     NaN     NaN     NaN     NaN     NaN     NaN   \n",
       "\n",
       "   193585  193587  193609  \n",
       "1     NaN     NaN     NaN  \n",
       "2     NaN     NaN     NaN  \n",
       "3     NaN     NaN     NaN  \n",
       "4     NaN     NaN     NaN  \n",
       "5     NaN     NaN     NaN  \n",
       "\n",
       "[5 rows x 9742 columns]"
      ]
     },
     "execution_count": 7,
     "metadata": {},
     "output_type": "execute_result"
    }
   ],
   "source": [
    "matrix.head()"
   ]
  },
  {
   "cell_type": "code",
   "execution_count": 8,
   "metadata": {},
   "outputs": [
    {
     "data": {
      "text/html": [
       "<div>\n",
       "<style scoped>\n",
       "    .dataframe tbody tr th:only-of-type {\n",
       "        vertical-align: middle;\n",
       "    }\n",
       "\n",
       "    .dataframe tbody tr th {\n",
       "        vertical-align: top;\n",
       "    }\n",
       "\n",
       "    .dataframe thead th {\n",
       "        text-align: right;\n",
       "    }\n",
       "</style>\n",
       "<table border=\"1\" class=\"dataframe\">\n",
       "  <thead>\n",
       "    <tr style=\"text-align: right;\">\n",
       "      <th></th>\n",
       "      <th>title</th>\n",
       "    </tr>\n",
       "  </thead>\n",
       "  <tbody>\n",
       "    <tr>\n",
       "      <th>1</th>\n",
       "      <td>Toy Story (1995)</td>\n",
       "    </tr>\n",
       "    <tr>\n",
       "      <th>2</th>\n",
       "      <td>Jumanji (1995)</td>\n",
       "    </tr>\n",
       "    <tr>\n",
       "      <th>3</th>\n",
       "      <td>Grumpier Old Men (1995)</td>\n",
       "    </tr>\n",
       "    <tr>\n",
       "      <th>4</th>\n",
       "      <td>Waiting to Exhale (1995)</td>\n",
       "    </tr>\n",
       "    <tr>\n",
       "      <th>5</th>\n",
       "      <td>Father of the Bride Part II (1995)</td>\n",
       "    </tr>\n",
       "  </tbody>\n",
       "</table>\n",
       "</div>"
      ],
      "text/plain": [
       "                                title\n",
       "1                    Toy Story (1995)\n",
       "2                      Jumanji (1995)\n",
       "3             Grumpier Old Men (1995)\n",
       "4            Waiting to Exhale (1995)\n",
       "5  Father of the Bride Part II (1995)"
      ]
     },
     "execution_count": 8,
     "metadata": {},
     "output_type": "execute_result"
    }
   ],
   "source": [
    "movie_map = pd.DataFrame(data=movies['title'].values, index=movies['movieId'].values, columns=['title'])\n",
    "movie_map.head()"
   ]
  },
  {
   "cell_type": "code",
   "execution_count": 9,
   "metadata": {},
   "outputs": [],
   "source": [
    "input_user = 4\n",
    "other_users = [u for u in matrix.index.tolist() if u != input_user]"
   ]
  },
  {
   "cell_type": "markdown",
   "metadata": {},
   "source": [
    "# First Experiment $\\rightarrow$ Pearson Similarity\n",
    "\n",
    "$$\\text{pearson-sim}(i,x)= \\displaystyle\\frac{\\sum_{p\\in P}[(r_{i,p}-\\overline{r}_i)*(r_{x,p}-\\overline{r}_x)]}{\\sqrt{\\sum_{p\\in P}(r_{i,p}-\\overline{r}_i)^2}*\\sqrt{\\sum_{p\\in P}(r_{x,p}-\\overline{r}_x)^2}}$$"
   ]
  },
  {
   "cell_type": "code",
   "execution_count": 10,
   "metadata": {},
   "outputs": [],
   "source": [
    "p_similarities = dict()"
   ]
  },
  {
   "cell_type": "code",
   "execution_count": 11,
   "metadata": {},
   "outputs": [],
   "source": [
    "for u in other_users:\n",
    "    p_similarities[u] = pearson_similarity(matrix, input_user, u)"
   ]
  },
  {
   "cell_type": "code",
   "execution_count": 12,
   "metadata": {},
   "outputs": [
    {
     "name": "stdout",
     "output_type": "stream",
     "text": [
      "TOP 10 SIMILAR USERS TO USER 4\n",
      "\n",
      "Similarity between user 4 and user 245: 1.00000\n",
      "Similarity between user 4 and user 556: 1.00000\n",
      "Similarity between user 4 and user 107: 1.00000\n",
      "Similarity between user 4 and user 158: 1.00000\n",
      "Similarity between user 4 and user 291: 1.00000\n",
      "Similarity between user 4 and user 431: 1.00000\n",
      "Similarity between user 4 and user 537: 1.00000\n",
      "Similarity between user 4 and user 544: 0.99661\n",
      "Similarity between user 4 and user 396: 0.98722\n",
      "Similarity between user 4 and user 378: 0.98545\n"
     ]
    }
   ],
   "source": [
    "p_similarities = {k: v for k, v in sorted(p_similarities.items(), key=lambda item: item[1], reverse=True)}\n",
    "p_similarities = dict(list(p_similarities.items())[:MAX_NEIGHBORS])\n",
    "\n",
    "print(f\"TOP 10 SIMILAR USERS TO USER {input_user}\" + \"\\n\")\n",
    "i = 0\n",
    "for u, s in p_similarities.items():\n",
    "    if i == 10:\n",
    "        break\n",
    "    else:\n",
    "        print(f\"Similarity between user {input_user} and user {u}: {s:.5f}\")\n",
    "        i += 1"
   ]
  },
  {
   "cell_type": "code",
   "execution_count": 13,
   "metadata": {},
   "outputs": [],
   "source": [
    "recommendations = recommend_movies(matrix, input_user, p_similarities, max_recommendations=MAX_RECOMMENDATIONS, movie_map=movie_map)\n",
    "recommendations = {k: v for k, v in sorted(recommendations.items(), key=lambda item: item[1], reverse=True)}"
   ]
  },
  {
   "cell_type": "code",
   "execution_count": 14,
   "metadata": {},
   "outputs": [
    {
     "name": "stdout",
     "output_type": "stream",
     "text": [
      "TOP 25 RECOMMENDED MOVIES TO USER 4\n",
      "\n",
      "Movie -> Amityville Horror, The (1979) | Score -> 5.98413\n",
      "Movie -> Omen, The (1976) | Score -> 5.98413\n",
      "Movie -> Plan 9 from Outer Space (1959) | Score -> 5.98413\n",
      "Movie -> Pet Sematary (1989) | Score -> 5.98413\n",
      "Movie -> Fright Night (1985) | Score -> 5.98413\n",
      "Movie -> Legend of Drunken Master, The (Jui kuen II) (1994) | Score -> 5.41270\n",
      "Movie -> Léon: The Professional (a.k.a. The Professional) (Léon) (1994) | Score -> 5.41270\n",
      "Movie -> Cool Hand Luke (1967) | Score -> 5.41270\n",
      "Movie -> Naked Gun 2 1/2: The Smell of Fear, The (1991) | Score -> 5.32529\n",
      "Movie -> For a Few Dollars More (Per qualche dollaro in più) (1965) | Score -> 5.32367\n",
      "Movie -> Troy (2004) | Score -> 5.27698\n",
      "Movie -> First Daughter (2004) | Score -> 5.27698\n",
      "Movie -> Education, An (2009) | Score -> 5.27698\n",
      "Movie -> Intouchables (2011) | Score -> 5.27698\n",
      "Movie -> Skyfall (2012) | Score -> 5.27698\n",
      "Movie -> Spectre (2015) | Score -> 5.27698\n",
      "Movie -> The Intern (2015) | Score -> 5.27698\n",
      "Movie -> Barb Wire (1996) | Score -> 5.20139\n",
      "Movie -> Private Parts (1997) | Score -> 5.20139\n",
      "Movie -> Payback (1999) | Score -> 5.13248\n",
      "Movie -> Clockwork Orange, A (1971) | Score -> 5.12698\n",
      "Movie -> Inherit the Wind (1960) | Score -> 5.12698\n",
      "Movie -> Boogie Nights (1997) | Score -> 5.07853\n",
      "Movie -> Casino Royale (2006) | Score -> 5.04808\n",
      "Movie -> Treasure Planet (2002) | Score -> 5.02778\n"
     ]
    }
   ],
   "source": [
    "print(f\"TOP 25 RECOMMENDED MOVIES TO USER {input_user}\" + \"\\n\")\n",
    "\n",
    "i = 0\n",
    "for movie, score in recommendations.items():\n",
    "    if i == 25:\n",
    "        break\n",
    "    else:\n",
    "        print(f\"Movie -> {movie} | Score -> {score:.5f}\")\n",
    "        i += 1"
   ]
  },
  {
   "cell_type": "markdown",
   "metadata": {},
   "source": [
    "# Second Experiment $\\rightarrow$ Manhattan Similarity\n",
    "\n",
    "$$\\text{manhattan-sim}(i,x)= \\displaystyle\\frac{1}{1+\\sum_{p\\in P}(|r_{i,p}-r_{x,p}|)}$$"
   ]
  },
  {
   "cell_type": "code",
   "execution_count": 15,
   "metadata": {},
   "outputs": [],
   "source": [
    "m_similarities = dict()"
   ]
  },
  {
   "cell_type": "code",
   "execution_count": 16,
   "metadata": {},
   "outputs": [],
   "source": [
    "for u in other_users:\n",
    "    m_similarities[u] = manhattan_similarity(matrix, input_user, u)"
   ]
  },
  {
   "cell_type": "code",
   "execution_count": 17,
   "metadata": {},
   "outputs": [
    {
     "name": "stdout",
     "output_type": "stream",
     "text": [
      "TOP 10 SIMILAR USERS TO USER 4\n",
      "\n",
      "Similarity between user 4 and user 53: 1.00000\n",
      "Similarity between user 4 and user 92: 1.00000\n",
      "Similarity between user 4 and user 175: 1.00000\n",
      "Similarity between user 4 and user 252: 1.00000\n",
      "Similarity between user 4 and user 320: 1.00000\n",
      "Similarity between user 4 and user 333: 1.00000\n",
      "Similarity between user 4 and user 341: 1.00000\n",
      "Similarity between user 4 and user 506: 1.00000\n",
      "Similarity between user 4 and user 578: 1.00000\n",
      "Similarity between user 4 and user 158: 0.66667\n"
     ]
    }
   ],
   "source": [
    "m_similarities = {k: v for k, v in sorted(m_similarities.items(), key=lambda item: item[1], reverse=True)}\n",
    "m_similarities = dict(list(m_similarities.items())[:MAX_NEIGHBORS])\n",
    "\n",
    "print(f\"TOP 10 SIMILAR USERS TO USER {input_user}\" + \"\\n\")\n",
    "i = 0\n",
    "for u, s in m_similarities.items():\n",
    "    if i == 10:\n",
    "        break\n",
    "    else:\n",
    "        print(f\"Similarity between user {input_user} and user {u}: {s:.5f}\")\n",
    "        i += 1"
   ]
  },
  {
   "cell_type": "code",
   "execution_count": 18,
   "metadata": {},
   "outputs": [],
   "source": [
    "recommendations = recommend_movies(matrix, input_user, m_similarities, max_recommendations=MAX_RECOMMENDATIONS, movie_map=movie_map)\n",
    "recommendations = {k: v for k, v in sorted(recommendations.items(), key=lambda item: item[1], reverse=True)}"
   ]
  },
  {
   "cell_type": "code",
   "execution_count": 19,
   "metadata": {},
   "outputs": [
    {
     "name": "stdout",
     "output_type": "stream",
     "text": [
      "TOP 25 RECOMMENDED MOVIES TO USER 4\n",
      "\n",
      "Movie -> Night of the Living Dead (1968) | Score -> 5.98413\n",
      "Movie -> Amityville Horror, The (1979) | Score -> 5.98413\n",
      "Movie -> Omen, The (1976) | Score -> 5.98413\n",
      "Movie -> Scream (1996) | Score -> 5.98413\n",
      "Movie -> Plan 9 from Outer Space (1959) | Score -> 5.98413\n",
      "Movie -> Pet Sematary (1989) | Score -> 5.98413\n",
      "Movie -> Fright Night (1985) | Score -> 5.98413\n",
      "Movie -> Moonstruck (1987) | Score -> 5.98413\n",
      "Movie -> Bossa Nova (2000) | Score -> 5.91556\n",
      "Movie -> True Romance (1993) | Score -> 5.83056\n",
      "Movie -> One Flew Over the Cuckoo's Nest (1975) | Score -> 5.51942\n",
      "Movie -> 3-Iron (Bin-jip) (2004) | Score -> 5.41493\n",
      "Movie -> Léon: The Professional (a.k.a. The Professional) (Léon) (1994) | Score -> 5.41270\n",
      "Movie -> Legend of Drunken Master, The (Jui kuen II) (1994) | Score -> 5.41270\n",
      "Movie -> Walk to Remember, A (2002) | Score -> 5.29946\n",
      "Movie -> Tristan & Isolde (2006) | Score -> 5.29946\n",
      "Movie -> Citizen Kane (1941) | Score -> 5.29469\n",
      "Movie -> Adaptation (2002) | Score -> 5.29469\n",
      "Movie -> Clueless (1995) | Score -> 5.29365\n",
      "Movie -> Cruel Intentions (1999) | Score -> 5.29365\n",
      "Movie -> Let the Right One In (Låt den rätte komma in) (2008) | Score -> 5.29365\n",
      "Movie -> Heat, The (2013) | Score -> 5.23859\n",
      "Movie -> Spy (2015) | Score -> 5.23859\n",
      "Movie -> Client, The (1994) | Score -> 5.23737\n",
      "Movie -> Private Parts (1997) | Score -> 5.20139\n"
     ]
    }
   ],
   "source": [
    "print(f\"TOP 25 RECOMMENDED MOVIES TO USER {input_user}\" + \"\\n\")\n",
    "i = 0\n",
    "for movie, score in recommendations.items():\n",
    "    if i == 25:\n",
    "        break\n",
    "    else:\n",
    "        print(f\"Movie -> {movie} | Score -> {score:.5f}\")\n",
    "        i += 1"
   ]
  }
 ],
 "metadata": {
  "kernelspec": {
   "display_name": "Python 3 (ipykernel)",
   "language": "python",
   "name": "python3"
  }
 },
 "nbformat": 4,
 "nbformat_minor": 2
}
